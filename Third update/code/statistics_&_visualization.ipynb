{
  "nbformat": 4,
  "nbformat_minor": 0,
  "metadata": {
    "colab": {
      "name": "statistics & visualization.ipynb",
      "provenance": [],
      "collapsed_sections": []
    },
    "kernelspec": {
      "name": "python3",
      "display_name": "Python 3"
    },
    "language_info": {
      "name": "python"
    }
  },
  "cells": [
    {
      "cell_type": "code",
      "metadata": {
        "colab": {
          "base_uri": "https://localhost:8080/"
        },
        "id": "xncs-3snUk6y",
        "outputId": "8479be68-7b71-4223-c482-f5f3028ef0e4"
      },
      "source": [
        "from google.colab import drive\n",
        "drive.mount('/content/drive')"
      ],
      "execution_count": 33,
      "outputs": [
        {
          "output_type": "stream",
          "text": [
            "Drive already mounted at /content/drive; to attempt to forcibly remount, call drive.mount(\"/content/drive\", force_remount=True).\n"
          ],
          "name": "stdout"
        }
      ]
    },
    {
      "cell_type": "code",
      "metadata": {
        "id": "OJo8E0CeLWHL"
      },
      "source": [
        "import collections\n",
        "import pandas as pd\n",
        "from nltk import word_tokenize\n",
        "import nltk\n",
        "from nltk import pos_tag\n",
        "import re\n",
        "import matplotlib.pyplot as plt\n",
        "from wordcloud import WordCloud"
      ],
      "execution_count": 34,
      "outputs": []
    },
    {
      "cell_type": "code",
      "metadata": {
        "colab": {
          "base_uri": "https://localhost:8080/"
        },
        "id": "iW7JjQbZEsth",
        "outputId": "91f534a4-96c2-430d-c2e5-74401cd8747e"
      },
      "source": [
        "nltk.download('punkt')\n",
        "nltk.download('stopwords')\n",
        "nltk.download('averaged_perceptron_tagger')"
      ],
      "execution_count": 35,
      "outputs": [
        {
          "output_type": "stream",
          "text": [
            "[nltk_data] Downloading package punkt to /root/nltk_data...\n",
            "[nltk_data]   Package punkt is already up-to-date!\n",
            "[nltk_data] Downloading package stopwords to /root/nltk_data...\n",
            "[nltk_data]   Package stopwords is already up-to-date!\n",
            "[nltk_data] Downloading package averaged_perceptron_tagger to\n",
            "[nltk_data]     /root/nltk_data...\n",
            "[nltk_data]   Package averaged_perceptron_tagger is already up-to-\n",
            "[nltk_data]       date!\n"
          ],
          "name": "stdout"
        },
        {
          "output_type": "execute_result",
          "data": {
            "text/plain": [
              "True"
            ]
          },
          "metadata": {
            "tags": []
          },
          "execution_count": 35
        }
      ]
    },
    {
      "cell_type": "code",
      "metadata": {
        "id": "D4JrQjjNP_65",
        "colab": {
          "base_uri": "https://localhost:8080/"
        },
        "outputId": "d203d80a-2a0f-4676-f7b6-c591a59bb5a3"
      },
      "source": [
        "# read generated story file\n",
        "with open('/content/example.txt','r+',encoding='UTF-8') as f:\n",
        "  t = f.read()\n",
        "  print(t)"
      ],
      "execution_count": 36,
      "outputs": [
        {
          "output_type": "stream",
          "text": [
            "The year is 1910. Adolf Hitler, a struggling artist, has fought off dozens of assasination attemps by well meaning time travelers, but this one is different. This traveller doesn't want to kill Hitler, he wants to teach him to paint. He pulls off his hood to reveal the frizzy afro of Bob Ross.There he sat, twirling his personal, stylized mustache. It was avant garde, just like he wanted to be. The man, as he was so, just wanted a place in this world for his art. He continues to stare at the easel, thinking.\n",
            "\n",
            "After a while he felt a firm, calming hand on his shoulder. He sighed, hanging his head wearily. \"Are you yet another man come to end my life, if you can even see it that way?\" The hand didn't answer, as it had no mouth. However, it's owner did, speaking the soft, assuaging tones that had come to make him famous.\n",
            "\n",
            "\"No sir. I've seen too much death and war to want to do another such thing. Instead, I have come as a tutor. Here, grab that 2 inch brush and dip it in some titanium white and prussian blue.\"\n",
            "\n",
            "Hitler did such a thing, and the man behind him nodded. \"Good. Now, mix them together, until you have a rather nice pale blue...\"\n",
            "\n",
            "Adolf did so, his brush strokes trembling across the pallette. \"Easy there tiger, try to keep yourself calm, now. Painting is all about being steady, confident.\" Adolf nodded again, and went this time, albeit a bit slower, and mixed another selection. After he had done this the stranger patted his shoulder. \"Good, now let's see you paint a nice, open sky.\" \"But how? I can barely paint the ground, let allow what lies above it!\" Sighing, the man grabbed a firm hold of his arm and lifted it up.\n",
            "\n",
            "\"All you have to do is nice, tiny Xs, like so..\" A portion, the top left hand corner was soon filled with a nice layer of blue. \"Now go ahead, try it.\" Adolf sighed and attempted this, and, to his surprise, mimicked the man's stroke almost perfectly.\n",
            "\n",
            "\"Ah! There ya go! Now, wash that brush off in your water and beat the devil out of it on your wood there...\"\n",
            "\n",
            "At this point, adolf couldn't help but turn around in surprise. \"You want me to beat my easel with it..?\"\n",
            "\n",
            "The afro'd figure behind him nodded, pulling off his woolen hood. \"Yes sir I Do. Go on. It won't hurt it.\"\n",
            "\n",
            "\"Tell me who you are first, then maybe I will...\" The figure smiled a bright smile, as a squirrel popped out of his hair. \"Why, I'm Bob. Bob Ross. And I heard you wanted to be a painter.\"\n"
          ],
          "name": "stdout"
        }
      ]
    },
    {
      "cell_type": "markdown",
      "metadata": {
        "id": "T7LkGuOD-NxC"
      },
      "source": [
        "###Pre-precess"
      ]
    },
    {
      "cell_type": "code",
      "metadata": {
        "colab": {
          "base_uri": "https://localhost:8080/"
        },
        "id": "NqJjJoeHC-dd",
        "outputId": "b93f69f3-abc6-49e6-a1d3-f2b267df1021"
      },
      "source": [
        "# tokenize words\n",
        "w = word_tokenize(t)\n",
        "print(w)"
      ],
      "execution_count": 37,
      "outputs": [
        {
          "output_type": "stream",
          "text": [
            "['The', 'year', 'is', '1910', '.', 'Adolf', 'Hitler', ',', 'a', 'struggling', 'artist', ',', 'has', 'fought', 'off', 'dozens', 'of', 'assasination', 'attemps', 'by', 'well', 'meaning', 'time', 'travelers', ',', 'but', 'this', 'one', 'is', 'different', '.', 'This', 'traveller', 'does', \"n't\", 'want', 'to', 'kill', 'Hitler', ',', 'he', 'wants', 'to', 'teach', 'him', 'to', 'paint', '.', 'He', 'pulls', 'off', 'his', 'hood', 'to', 'reveal', 'the', 'frizzy', 'afro', 'of', 'Bob', 'Ross.There', 'he', 'sat', ',', 'twirling', 'his', 'personal', ',', 'stylized', 'mustache', '.', 'It', 'was', 'avant', 'garde', ',', 'just', 'like', 'he', 'wanted', 'to', 'be', '.', 'The', 'man', ',', 'as', 'he', 'was', 'so', ',', 'just', 'wanted', 'a', 'place', 'in', 'this', 'world', 'for', 'his', 'art', '.', 'He', 'continues', 'to', 'stare', 'at', 'the', 'easel', ',', 'thinking', '.', 'After', 'a', 'while', 'he', 'felt', 'a', 'firm', ',', 'calming', 'hand', 'on', 'his', 'shoulder', '.', 'He', 'sighed', ',', 'hanging', 'his', 'head', 'wearily', '.', '``', 'Are', 'you', 'yet', 'another', 'man', 'come', 'to', 'end', 'my', 'life', ',', 'if', 'you', 'can', 'even', 'see', 'it', 'that', 'way', '?', \"''\", 'The', 'hand', 'did', \"n't\", 'answer', ',', 'as', 'it', 'had', 'no', 'mouth', '.', 'However', ',', 'it', \"'s\", 'owner', 'did', ',', 'speaking', 'the', 'soft', ',', 'assuaging', 'tones', 'that', 'had', 'come', 'to', 'make', 'him', 'famous', '.', '``', 'No', 'sir', '.', 'I', \"'ve\", 'seen', 'too', 'much', 'death', 'and', 'war', 'to', 'want', 'to', 'do', 'another', 'such', 'thing', '.', 'Instead', ',', 'I', 'have', 'come', 'as', 'a', 'tutor', '.', 'Here', ',', 'grab', 'that', '2', 'inch', 'brush', 'and', 'dip', 'it', 'in', 'some', 'titanium', 'white', 'and', 'prussian', 'blue', '.', \"''\", 'Hitler', 'did', 'such', 'a', 'thing', ',', 'and', 'the', 'man', 'behind', 'him', 'nodded', '.', '``', 'Good', '.', 'Now', ',', 'mix', 'them', 'together', ',', 'until', 'you', 'have', 'a', 'rather', 'nice', 'pale', 'blue', '...', \"''\", 'Adolf', 'did', 'so', ',', 'his', 'brush', 'strokes', 'trembling', 'across', 'the', 'pallette', '.', '``', 'Easy', 'there', 'tiger', ',', 'try', 'to', 'keep', 'yourself', 'calm', ',', 'now', '.', 'Painting', 'is', 'all', 'about', 'being', 'steady', ',', 'confident', '.', \"''\", 'Adolf', 'nodded', 'again', ',', 'and', 'went', 'this', 'time', ',', 'albeit', 'a', 'bit', 'slower', ',', 'and', 'mixed', 'another', 'selection', '.', 'After', 'he', 'had', 'done', 'this', 'the', 'stranger', 'patted', 'his', 'shoulder', '.', '``', 'Good', ',', 'now', 'let', \"'s\", 'see', 'you', 'paint', 'a', 'nice', ',', 'open', 'sky', '.', \"''\", '``', 'But', 'how', '?', 'I', 'can', 'barely', 'paint', 'the', 'ground', ',', 'let', 'allow', 'what', 'lies', 'above', 'it', '!', \"''\", 'Sighing', ',', 'the', 'man', 'grabbed', 'a', 'firm', 'hold', 'of', 'his', 'arm', 'and', 'lifted', 'it', 'up', '.', '``', 'All', 'you', 'have', 'to', 'do', 'is', 'nice', ',', 'tiny', 'Xs', ',', 'like', 'so..', \"''\", 'A', 'portion', ',', 'the', 'top', 'left', 'hand', 'corner', 'was', 'soon', 'filled', 'with', 'a', 'nice', 'layer', 'of', 'blue', '.', '``', 'Now', 'go', 'ahead', ',', 'try', 'it', '.', \"''\", 'Adolf', 'sighed', 'and', 'attempted', 'this', ',', 'and', ',', 'to', 'his', 'surprise', ',', 'mimicked', 'the', 'man', \"'s\", 'stroke', 'almost', 'perfectly', '.', '``', 'Ah', '!', 'There', 'ya', 'go', '!', 'Now', ',', 'wash', 'that', 'brush', 'off', 'in', 'your', 'water', 'and', 'beat', 'the', 'devil', 'out', 'of', 'it', 'on', 'your', 'wood', 'there', '...', \"''\", 'At', 'this', 'point', ',', 'adolf', 'could', \"n't\", 'help', 'but', 'turn', 'around', 'in', 'surprise', '.', '``', 'You', 'want', 'me', 'to', 'beat', 'my', 'easel', 'with', 'it..', '?', \"''\", 'The', 'afro', \"'d\", 'figure', 'behind', 'him', 'nodded', ',', 'pulling', 'off', 'his', 'woolen', 'hood', '.', '``', 'Yes', 'sir', 'I', 'Do', '.', 'Go', 'on', '.', 'It', 'wo', \"n't\", 'hurt', 'it', '.', \"''\", '``', 'Tell', 'me', 'who', 'you', 'are', 'first', ',', 'then', 'maybe', 'I', 'will', '...', \"''\", 'The', 'figure', 'smiled', 'a', 'bright', 'smile', ',', 'as', 'a', 'squirrel', 'popped', 'out', 'of', 'his', 'hair', '.', '``', 'Why', ',', 'I', \"'m\", 'Bob', '.', 'Bob', 'Ross', '.', 'And', 'I', 'heard', 'you', 'wanted', 'to', 'be', 'a', 'painter', '.', \"''\"]\n"
          ],
          "name": "stdout"
        }
      ]
    },
    {
      "cell_type": "code",
      "metadata": {
        "colab": {
          "base_uri": "https://localhost:8080/"
        },
        "id": "7Iulez6RMAqf",
        "outputId": "8f2392a9-3aa4-4b5d-b7c0-5f733f797bca"
      },
      "source": [
        "# tagging the part of speech each word belongs to\n",
        "tw = pos_tag(w)\n",
        "print(tw)"
      ],
      "execution_count": 38,
      "outputs": [
        {
          "output_type": "stream",
          "text": [
            "[('The', 'DT'), ('year', 'NN'), ('is', 'VBZ'), ('1910', 'CD'), ('.', '.'), ('Adolf', 'NNP'), ('Hitler', 'NNP'), (',', ','), ('a', 'DT'), ('struggling', 'VBG'), ('artist', 'NN'), (',', ','), ('has', 'VBZ'), ('fought', 'VBN'), ('off', 'RP'), ('dozens', 'NNS'), ('of', 'IN'), ('assasination', 'NN'), ('attemps', 'NNS'), ('by', 'IN'), ('well', 'RB'), ('meaning', 'VBG'), ('time', 'NN'), ('travelers', 'NNS'), (',', ','), ('but', 'CC'), ('this', 'DT'), ('one', 'CD'), ('is', 'VBZ'), ('different', 'JJ'), ('.', '.'), ('This', 'DT'), ('traveller', 'NN'), ('does', 'VBZ'), (\"n't\", 'RB'), ('want', 'VB'), ('to', 'TO'), ('kill', 'VB'), ('Hitler', 'NNP'), (',', ','), ('he', 'PRP'), ('wants', 'VBZ'), ('to', 'TO'), ('teach', 'VB'), ('him', 'PRP'), ('to', 'TO'), ('paint', 'VB'), ('.', '.'), ('He', 'PRP'), ('pulls', 'VBZ'), ('off', 'IN'), ('his', 'PRP$'), ('hood', 'NN'), ('to', 'TO'), ('reveal', 'VB'), ('the', 'DT'), ('frizzy', 'JJ'), ('afro', 'NN'), ('of', 'IN'), ('Bob', 'NNP'), ('Ross.There', 'NNP'), ('he', 'PRP'), ('sat', 'VBD'), (',', ','), ('twirling', 'VBG'), ('his', 'PRP$'), ('personal', 'JJ'), (',', ','), ('stylized', 'JJ'), ('mustache', 'NN'), ('.', '.'), ('It', 'PRP'), ('was', 'VBD'), ('avant', 'JJ'), ('garde', 'NN'), (',', ','), ('just', 'RB'), ('like', 'IN'), ('he', 'PRP'), ('wanted', 'VBD'), ('to', 'TO'), ('be', 'VB'), ('.', '.'), ('The', 'DT'), ('man', 'NN'), (',', ','), ('as', 'IN'), ('he', 'PRP'), ('was', 'VBD'), ('so', 'RB'), (',', ','), ('just', 'RB'), ('wanted', 'VBD'), ('a', 'DT'), ('place', 'NN'), ('in', 'IN'), ('this', 'DT'), ('world', 'NN'), ('for', 'IN'), ('his', 'PRP$'), ('art', 'NN'), ('.', '.'), ('He', 'PRP'), ('continues', 'VBZ'), ('to', 'TO'), ('stare', 'VB'), ('at', 'IN'), ('the', 'DT'), ('easel', 'NN'), (',', ','), ('thinking', 'VBG'), ('.', '.'), ('After', 'IN'), ('a', 'DT'), ('while', 'NN'), ('he', 'PRP'), ('felt', 'VBD'), ('a', 'DT'), ('firm', 'NN'), (',', ','), ('calming', 'VBG'), ('hand', 'NN'), ('on', 'IN'), ('his', 'PRP$'), ('shoulder', 'NN'), ('.', '.'), ('He', 'PRP'), ('sighed', 'VBD'), (',', ','), ('hanging', 'VBG'), ('his', 'PRP$'), ('head', 'NN'), ('wearily', 'RB'), ('.', '.'), ('``', '``'), ('Are', 'VBP'), ('you', 'PRP'), ('yet', 'RB'), ('another', 'DT'), ('man', 'NN'), ('come', 'VBP'), ('to', 'TO'), ('end', 'VB'), ('my', 'PRP$'), ('life', 'NN'), (',', ','), ('if', 'IN'), ('you', 'PRP'), ('can', 'MD'), ('even', 'RB'), ('see', 'VB'), ('it', 'PRP'), ('that', 'DT'), ('way', 'NN'), ('?', '.'), (\"''\", \"''\"), ('The', 'DT'), ('hand', 'NN'), ('did', 'VBD'), (\"n't\", 'RB'), ('answer', 'VB'), (',', ','), ('as', 'IN'), ('it', 'PRP'), ('had', 'VBD'), ('no', 'DT'), ('mouth', 'NN'), ('.', '.'), ('However', 'RB'), (',', ','), ('it', 'PRP'), (\"'s\", 'VBZ'), ('owner', 'NN'), ('did', 'VBD'), (',', ','), ('speaking', 'VBG'), ('the', 'DT'), ('soft', 'JJ'), (',', ','), ('assuaging', 'VBG'), ('tones', 'NNS'), ('that', 'WDT'), ('had', 'VBD'), ('come', 'VBN'), ('to', 'TO'), ('make', 'VB'), ('him', 'PRP'), ('famous', 'JJ'), ('.', '.'), ('``', '``'), ('No', 'DT'), ('sir', 'NN'), ('.', '.'), ('I', 'PRP'), (\"'ve\", 'VBP'), ('seen', 'VBN'), ('too', 'RB'), ('much', 'JJ'), ('death', 'NN'), ('and', 'CC'), ('war', 'NN'), ('to', 'TO'), ('want', 'VB'), ('to', 'TO'), ('do', 'VB'), ('another', 'DT'), ('such', 'JJ'), ('thing', 'NN'), ('.', '.'), ('Instead', 'RB'), (',', ','), ('I', 'PRP'), ('have', 'VBP'), ('come', 'VBN'), ('as', 'IN'), ('a', 'DT'), ('tutor', 'NN'), ('.', '.'), ('Here', 'RB'), (',', ','), ('grab', 'VBP'), ('that', 'IN'), ('2', 'CD'), ('inch', 'JJ'), ('brush', 'NN'), ('and', 'CC'), ('dip', 'NN'), ('it', 'PRP'), ('in', 'IN'), ('some', 'DT'), ('titanium', 'NN'), ('white', 'JJ'), ('and', 'CC'), ('prussian', 'JJ'), ('blue', 'NN'), ('.', '.'), (\"''\", \"''\"), ('Hitler', 'NNP'), ('did', 'VBD'), ('such', 'PDT'), ('a', 'DT'), ('thing', 'NN'), (',', ','), ('and', 'CC'), ('the', 'DT'), ('man', 'NN'), ('behind', 'IN'), ('him', 'PRP'), ('nodded', 'VBD'), ('.', '.'), ('``', '``'), ('Good', 'JJ'), ('.', '.'), ('Now', 'RB'), (',', ','), ('mix', 'VB'), ('them', 'PRP'), ('together', 'RB'), (',', ','), ('until', 'IN'), ('you', 'PRP'), ('have', 'VBP'), ('a', 'DT'), ('rather', 'RB'), ('nice', 'JJ'), ('pale', 'JJ'), ('blue', 'NN'), ('...', ':'), (\"''\", \"''\"), ('Adolf', 'NNP'), ('did', 'VBD'), ('so', 'RB'), (',', ','), ('his', 'PRP$'), ('brush', 'NN'), ('strokes', 'NNS'), ('trembling', 'VBG'), ('across', 'IN'), ('the', 'DT'), ('pallette', 'NN'), ('.', '.'), ('``', '``'), ('Easy', 'NNP'), ('there', 'EX'), ('tiger', 'NN'), (',', ','), ('try', 'VB'), ('to', 'TO'), ('keep', 'VB'), ('yourself', 'PRP'), ('calm', 'JJ'), (',', ','), ('now', 'RB'), ('.', '.'), ('Painting', 'VBG'), ('is', 'VBZ'), ('all', 'DT'), ('about', 'IN'), ('being', 'VBG'), ('steady', 'JJ'), (',', ','), ('confident', 'JJ'), ('.', '.'), (\"''\", \"''\"), ('Adolf', 'NNP'), ('nodded', 'VBD'), ('again', 'RB'), (',', ','), ('and', 'CC'), ('went', 'VBD'), ('this', 'DT'), ('time', 'NN'), (',', ','), ('albeit', 'IN'), ('a', 'DT'), ('bit', 'NN'), ('slower', 'JJR'), (',', ','), ('and', 'CC'), ('mixed', 'JJ'), ('another', 'DT'), ('selection', 'NN'), ('.', '.'), ('After', 'IN'), ('he', 'PRP'), ('had', 'VBD'), ('done', 'VBN'), ('this', 'DT'), ('the', 'DT'), ('stranger', 'NN'), ('patted', 'VBD'), ('his', 'PRP$'), ('shoulder', 'NN'), ('.', '.'), ('``', '``'), ('Good', 'JJ'), (',', ','), ('now', 'RB'), ('let', 'VBP'), (\"'s\", 'POS'), ('see', 'VB'), ('you', 'PRP'), ('paint', 'VB'), ('a', 'DT'), ('nice', 'JJ'), (',', ','), ('open', 'JJ'), ('sky', 'NN'), ('.', '.'), (\"''\", \"''\"), ('``', '``'), ('But', 'CC'), ('how', 'WRB'), ('?', '.'), ('I', 'PRP'), ('can', 'MD'), ('barely', 'RB'), ('paint', 'VB'), ('the', 'DT'), ('ground', 'NN'), (',', ','), ('let', 'VB'), ('allow', 'VB'), ('what', 'WP'), ('lies', 'VBZ'), ('above', 'IN'), ('it', 'PRP'), ('!', '.'), (\"''\", \"''\"), ('Sighing', 'VBG'), (',', ','), ('the', 'DT'), ('man', 'NN'), ('grabbed', 'VBD'), ('a', 'DT'), ('firm', 'NN'), ('hold', 'NN'), ('of', 'IN'), ('his', 'PRP$'), ('arm', 'NN'), ('and', 'CC'), ('lifted', 'VBD'), ('it', 'PRP'), ('up', 'RP'), ('.', '.'), ('``', '``'), ('All', 'DT'), ('you', 'PRP'), ('have', 'VBP'), ('to', 'TO'), ('do', 'VB'), ('is', 'VBZ'), ('nice', 'JJ'), (',', ','), ('tiny', 'JJ'), ('Xs', 'NNP'), (',', ','), ('like', 'IN'), ('so..', 'NN'), (\"''\", \"''\"), ('A', 'DT'), ('portion', 'NN'), (',', ','), ('the', 'DT'), ('top', 'JJ'), ('left', 'NN'), ('hand', 'NN'), ('corner', 'NN'), ('was', 'VBD'), ('soon', 'RB'), ('filled', 'VBN'), ('with', 'IN'), ('a', 'DT'), ('nice', 'JJ'), ('layer', 'NN'), ('of', 'IN'), ('blue', 'NN'), ('.', '.'), ('``', '``'), ('Now', 'RB'), ('go', 'VBP'), ('ahead', 'RB'), (',', ','), ('try', 'VB'), ('it', 'PRP'), ('.', '.'), (\"''\", \"''\"), ('Adolf', 'NNP'), ('sighed', 'VBD'), ('and', 'CC'), ('attempted', 'VBD'), ('this', 'DT'), (',', ','), ('and', 'CC'), (',', ','), ('to', 'TO'), ('his', 'PRP$'), ('surprise', 'NN'), (',', ','), ('mimicked', 'VBD'), ('the', 'DT'), ('man', 'NN'), (\"'s\", 'POS'), ('stroke', 'NN'), ('almost', 'RB'), ('perfectly', 'RB'), ('.', '.'), ('``', '``'), ('Ah', 'JJ'), ('!', '.'), ('There', 'EX'), ('ya', 'RB'), ('go', 'VB'), ('!', '.'), ('Now', 'RB'), (',', ','), ('wash', 'NN'), ('that', 'IN'), ('brush', 'VBD'), ('off', 'RP'), ('in', 'IN'), ('your', 'PRP$'), ('water', 'NN'), ('and', 'CC'), ('beat', 'VBD'), ('the', 'DT'), ('devil', 'NN'), ('out', 'IN'), ('of', 'IN'), ('it', 'PRP'), ('on', 'IN'), ('your', 'PRP$'), ('wood', 'NN'), ('there', 'RB'), ('...', ':'), (\"''\", \"''\"), ('At', 'IN'), ('this', 'DT'), ('point', 'NN'), (',', ','), ('adolf', 'NN'), ('could', 'MD'), (\"n't\", 'RB'), ('help', 'VB'), ('but', 'CC'), ('turn', 'VB'), ('around', 'RP'), ('in', 'IN'), ('surprise', 'NN'), ('.', '.'), ('``', '``'), ('You', 'PRP'), ('want', 'VBP'), ('me', 'PRP'), ('to', 'TO'), ('beat', 'VB'), ('my', 'PRP$'), ('easel', 'NN'), ('with', 'IN'), ('it..', 'NN'), ('?', '.'), (\"''\", \"''\"), ('The', 'DT'), ('afro', 'JJ'), (\"'d\", 'MD'), ('figure', 'VB'), ('behind', 'IN'), ('him', 'PRP'), ('nodded', 'VBD'), (',', ','), ('pulling', 'VBG'), ('off', 'RP'), ('his', 'PRP$'), ('woolen', 'NN'), ('hood', 'NN'), ('.', '.'), ('``', '``'), ('Yes', 'UH'), ('sir', 'NN'), ('I', 'PRP'), ('Do', 'VBP'), ('.', '.'), ('Go', 'VB'), ('on', 'IN'), ('.', '.'), ('It', 'PRP'), ('wo', 'MD'), (\"n't\", 'RB'), ('hurt', 'VB'), ('it', 'PRP'), ('.', '.'), (\"''\", \"''\"), ('``', '``'), ('Tell', 'NNP'), ('me', 'PRP'), ('who', 'WP'), ('you', 'PRP'), ('are', 'VBP'), ('first', 'RB'), (',', ','), ('then', 'RB'), ('maybe', 'RB'), ('I', 'PRP'), ('will', 'MD'), ('...', ':'), (\"''\", \"''\"), ('The', 'DT'), ('figure', 'NN'), ('smiled', 'VBD'), ('a', 'DT'), ('bright', 'JJ'), ('smile', 'NN'), (',', ','), ('as', 'IN'), ('a', 'DT'), ('squirrel', 'NN'), ('popped', 'VBD'), ('out', 'IN'), ('of', 'IN'), ('his', 'PRP$'), ('hair', 'NN'), ('.', '.'), ('``', '``'), ('Why', 'WRB'), (',', ','), ('I', 'PRP'), (\"'m\", 'VBP'), ('Bob', 'NNP'), ('.', '.'), ('Bob', 'NNP'), ('Ross', 'NNP'), ('.', '.'), ('And', 'CC'), ('I', 'PRP'), ('heard', 'VBP'), ('you', 'PRP'), ('wanted', 'VBD'), ('to', 'TO'), ('be', 'VB'), ('a', 'DT'), ('painter', 'NN'), ('.', '.'), (\"''\", \"''\")]\n"
          ],
          "name": "stdout"
        }
      ]
    },
    {
      "cell_type": "code",
      "metadata": {
        "colab": {
          "base_uri": "https://localhost:8080/"
        },
        "id": "3VxpXmRcMKYY",
        "outputId": "87d29b45-18dd-4ef6-f760-26d4f91622db"
      },
      "source": [
        "# extract the names and spaces from the story\n",
        "name = []\n",
        "for i in tw:\n",
        "  if i[1] in ('NNP','NNPS'):\n",
        "    name.append(i[0])\n",
        "print(name)"
      ],
      "execution_count": 39,
      "outputs": [
        {
          "output_type": "stream",
          "text": [
            "['Adolf', 'Hitler', 'Hitler', 'Bob', 'Ross.There', 'Hitler', 'Adolf', 'Easy', 'Adolf', 'Xs', 'Adolf', 'Tell', 'Bob', 'Bob', 'Ross']\n"
          ],
          "name": "stdout"
        }
      ]
    },
    {
      "cell_type": "code",
      "metadata": {
        "colab": {
          "base_uri": "https://localhost:8080/"
        },
        "id": "Voo7qiHv5u4p",
        "outputId": "689b2e75-7f37-4953-ad41-bc209f367729"
      },
      "source": [
        "# do pre-process to story file\n",
        "\n",
        "# Convert to lower case\n",
        "t = t.lower()\n",
        "# Replaces URLs with the word URL\n",
        "t = re.sub(r'((www\\.[\\S]+)|(https?://[\\S]+))', '', t)\n",
        "w = word_tokenize(t)\n",
        "\n",
        "tmp = []\n",
        "word_cleaned = []\n",
        "for i in w:\n",
        "# Remove punctuation\n",
        "  i = i.strip('\\'\"?!,.():;``')\n",
        "  # Convert more than 2 letter repetitions to 2 letter\n",
        "  i = re.sub(r'(.)\\1+', r'\\1\\1', i)\n",
        "  # Remove - & '\n",
        "  i = re.sub(r'(-|\\')', '', i)\n",
        "  # keep the initial of names and places in the story in capital letter \n",
        "  if i.capitalize() in name:\n",
        "    i = i.capitalize()\n",
        "  if i is not '':\n",
        "    tmp.append(i)\n",
        "print('tmp: ',tmp)\n",
        "\n",
        "# remove stopwords\n",
        "stop_words = nltk.corpus.stopwords.words('english')\n",
        "for i in tmp:\n",
        "  if i not in stop_words:\n",
        "    word_cleaned.append(i)  \n",
        "w = word_cleaned\n",
        "print('final wordlist:',w)"
      ],
      "execution_count": 40,
      "outputs": [
        {
          "output_type": "stream",
          "text": [
            "tmp:  ['the', 'year', 'is', '1910', 'Adolf', 'Hitler', 'a', 'struggling', 'artist', 'has', 'fought', 'off', 'dozens', 'of', 'assasination', 'attemps', 'by', 'well', 'meaning', 'time', 'travelers', 'but', 'this', 'one', 'is', 'different', 'this', 'traveller', 'does', 'nt', 'want', 'to', 'kill', 'Hitler', 'he', 'wants', 'to', 'teach', 'him', 'to', 'paint', 'he', 'pulls', 'off', 'his', 'hood', 'to', 'reveal', 'the', 'frizzy', 'afro', 'of', 'Bob', 'ross.there', 'he', 'sat', 'twirling', 'his', 'personal', 'stylized', 'mustache', 'it', 'was', 'avant', 'garde', 'just', 'like', 'he', 'wanted', 'to', 'be', 'the', 'man', 'as', 'he', 'was', 'so', 'just', 'wanted', 'a', 'place', 'in', 'this', 'world', 'for', 'his', 'art', 'he', 'continues', 'to', 'stare', 'at', 'the', 'easel', 'thinking', 'after', 'a', 'while', 'he', 'felt', 'a', 'firm', 'calming', 'hand', 'on', 'his', 'shoulder', 'he', 'sighed', 'hanging', 'his', 'head', 'wearily', 'are', 'you', 'yet', 'another', 'man', 'come', 'to', 'end', 'my', 'life', 'if', 'you', 'can', 'even', 'see', 'it', 'that', 'way', 'the', 'hand', 'did', 'nt', 'answer', 'as', 'it', 'had', 'no', 'mouth', 'however', 'it', 's', 'owner', 'did', 'speaking', 'the', 'soft', 'assuaging', 'tones', 'that', 'had', 'come', 'to', 'make', 'him', 'famous', 'no', 'sir', 'i', 've', 'seen', 'too', 'much', 'death', 'and', 'war', 'to', 'want', 'to', 'do', 'another', 'such', 'thing', 'instead', 'i', 'have', 'come', 'as', 'a', 'tutor', 'here', 'grab', 'that', '2', 'inch', 'brush', 'and', 'dip', 'it', 'in', 'some', 'titanium', 'white', 'and', 'prussian', 'blue', 'Hitler', 'did', 'such', 'a', 'thing', 'and', 'the', 'man', 'behind', 'him', 'nodded', 'good', 'now', 'mix', 'them', 'together', 'until', 'you', 'have', 'a', 'rather', 'nice', 'pale', 'blue', 'Adolf', 'did', 'so', 'his', 'brush', 'strokes', 'trembling', 'across', 'the', 'pallette', 'Easy', 'there', 'tiger', 'try', 'to', 'keep', 'yourself', 'calm', 'now', 'painting', 'is', 'all', 'about', 'being', 'steady', 'confident', 'Adolf', 'nodded', 'again', 'and', 'went', 'this', 'time', 'albeit', 'a', 'bit', 'slower', 'and', 'mixed', 'another', 'selection', 'after', 'he', 'had', 'done', 'this', 'the', 'stranger', 'patted', 'his', 'shoulder', 'good', 'now', 'let', 's', 'see', 'you', 'paint', 'a', 'nice', 'open', 'sky', 'but', 'how', 'i', 'can', 'barely', 'paint', 'the', 'ground', 'let', 'allow', 'what', 'lies', 'above', 'it', 'sighing', 'the', 'man', 'grabbed', 'a', 'firm', 'hold', 'of', 'his', 'arm', 'and', 'lifted', 'it', 'up', 'all', 'you', 'have', 'to', 'do', 'is', 'nice', 'tiny', 'Xs', 'like', 'so', 'a', 'portion', 'the', 'top', 'left', 'hand', 'corner', 'was', 'soon', 'filled', 'with', 'a', 'nice', 'layer', 'of', 'blue', 'now', 'go', 'ahead', 'try', 'it', 'Adolf', 'sighed', 'and', 'attempted', 'this', 'and', 'to', 'his', 'surprise', 'mimicked', 'the', 'man', 's', 'stroke', 'almost', 'perfectly', 'ah', 'there', 'ya', 'go', 'now', 'wash', 'that', 'brush', 'off', 'in', 'your', 'water', 'and', 'beat', 'the', 'devil', 'out', 'of', 'it', 'on', 'your', 'wood', 'there', 'at', 'this', 'point', 'Adolf', 'could', 'nt', 'help', 'but', 'turn', 'around', 'in', 'surprise', 'you', 'want', 'me', 'to', 'beat', 'my', 'easel', 'with', 'it', 'the', 'afro', 'd', 'figure', 'behind', 'him', 'nodded', 'pulling', 'off', 'his', 'woolen', 'hood', 'yes', 'sir', 'i', 'do', 'go', 'on', 'it', 'wo', 'nt', 'hurt', 'it', 'Tell', 'me', 'who', 'you', 'are', 'first', 'then', 'maybe', 'i', 'will', 'the', 'figure', 'smiled', 'a', 'bright', 'smile', 'as', 'a', 'squirrel', 'popped', 'out', 'of', 'his', 'hair', 'why', 'i', 'm', 'Bob', 'Bob', 'Ross', 'and', 'i', 'heard', 'you', 'wanted', 'to', 'be', 'a', 'painter']\n",
            "final wordlist: ['year', '1910', 'Adolf', 'Hitler', 'struggling', 'artist', 'fought', 'dozens', 'assasination', 'attemps', 'well', 'meaning', 'time', 'travelers', 'one', 'different', 'traveller', 'nt', 'want', 'kill', 'Hitler', 'wants', 'teach', 'paint', 'pulls', 'hood', 'reveal', 'frizzy', 'afro', 'Bob', 'ross.there', 'sat', 'twirling', 'personal', 'stylized', 'mustache', 'avant', 'garde', 'like', 'wanted', 'man', 'wanted', 'place', 'world', 'art', 'continues', 'stare', 'easel', 'thinking', 'felt', 'firm', 'calming', 'hand', 'shoulder', 'sighed', 'hanging', 'head', 'wearily', 'yet', 'another', 'man', 'come', 'end', 'life', 'even', 'see', 'way', 'hand', 'nt', 'answer', 'mouth', 'however', 'owner', 'speaking', 'soft', 'assuaging', 'tones', 'come', 'make', 'famous', 'sir', 'seen', 'much', 'death', 'war', 'want', 'another', 'thing', 'instead', 'come', 'tutor', 'grab', '2', 'inch', 'brush', 'dip', 'titanium', 'white', 'prussian', 'blue', 'Hitler', 'thing', 'man', 'behind', 'nodded', 'good', 'mix', 'together', 'rather', 'nice', 'pale', 'blue', 'Adolf', 'brush', 'strokes', 'trembling', 'across', 'pallette', 'Easy', 'tiger', 'try', 'keep', 'calm', 'painting', 'steady', 'confident', 'Adolf', 'nodded', 'went', 'time', 'albeit', 'bit', 'slower', 'mixed', 'another', 'selection', 'done', 'stranger', 'patted', 'shoulder', 'good', 'let', 'see', 'paint', 'nice', 'open', 'sky', 'barely', 'paint', 'ground', 'let', 'allow', 'lies', 'sighing', 'man', 'grabbed', 'firm', 'hold', 'arm', 'lifted', 'nice', 'tiny', 'Xs', 'like', 'portion', 'top', 'left', 'hand', 'corner', 'soon', 'filled', 'nice', 'layer', 'blue', 'go', 'ahead', 'try', 'Adolf', 'sighed', 'attempted', 'surprise', 'mimicked', 'man', 'stroke', 'almost', 'perfectly', 'ah', 'ya', 'go', 'wash', 'brush', 'water', 'beat', 'devil', 'wood', 'point', 'Adolf', 'could', 'nt', 'help', 'turn', 'around', 'surprise', 'want', 'beat', 'easel', 'afro', 'figure', 'behind', 'nodded', 'pulling', 'woolen', 'hood', 'yes', 'sir', 'go', 'wo', 'nt', 'hurt', 'Tell', 'first', 'maybe', 'figure', 'smiled', 'bright', 'smile', 'squirrel', 'popped', 'hair', 'Bob', 'Bob', 'Ross', 'heard', 'wanted', 'painter']\n"
          ],
          "name": "stdout"
        }
      ]
    },
    {
      "cell_type": "markdown",
      "metadata": {
        "id": "w5Rk-N_9ORGA"
      },
      "source": [
        "###Count words"
      ]
    },
    {
      "cell_type": "code",
      "metadata": {
        "colab": {
          "base_uri": "https://localhost:8080/"
        },
        "id": "f470ymW0IS9N",
        "outputId": "e8cab992-97b0-458e-d776-cab505209f45"
      },
      "source": [
        "# count the number of each word\n",
        "word_count = {}\n",
        "for i in w:\n",
        "  if i in word_count:\n",
        "    word_count[i] += 1\n",
        "  else:\n",
        "    word_count[i] = 1\n",
        "print(word_count)"
      ],
      "execution_count": 41,
      "outputs": [
        {
          "output_type": "stream",
          "text": [
            "{'year': 1, '1910': 1, 'Adolf': 5, 'Hitler': 3, 'struggling': 1, 'artist': 1, 'fought': 1, 'dozens': 1, 'assasination': 1, 'attemps': 1, 'well': 1, 'meaning': 1, 'time': 2, 'travelers': 1, 'one': 1, 'different': 1, 'traveller': 1, 'nt': 4, 'want': 3, 'kill': 1, 'wants': 1, 'teach': 1, 'paint': 3, 'pulls': 1, 'hood': 2, 'reveal': 1, 'frizzy': 1, 'afro': 2, 'Bob': 3, 'ross.there': 1, 'sat': 1, 'twirling': 1, 'personal': 1, 'stylized': 1, 'mustache': 1, 'avant': 1, 'garde': 1, 'like': 2, 'wanted': 3, 'man': 5, 'place': 1, 'world': 1, 'art': 1, 'continues': 1, 'stare': 1, 'easel': 2, 'thinking': 1, 'felt': 1, 'firm': 2, 'calming': 1, 'hand': 3, 'shoulder': 2, 'sighed': 2, 'hanging': 1, 'head': 1, 'wearily': 1, 'yet': 1, 'another': 3, 'come': 3, 'end': 1, 'life': 1, 'even': 1, 'see': 2, 'way': 1, 'answer': 1, 'mouth': 1, 'however': 1, 'owner': 1, 'speaking': 1, 'soft': 1, 'assuaging': 1, 'tones': 1, 'make': 1, 'famous': 1, 'sir': 2, 'seen': 1, 'much': 1, 'death': 1, 'war': 1, 'thing': 2, 'instead': 1, 'tutor': 1, 'grab': 1, '2': 1, 'inch': 1, 'brush': 3, 'dip': 1, 'titanium': 1, 'white': 1, 'prussian': 1, 'blue': 3, 'behind': 2, 'nodded': 3, 'good': 2, 'mix': 1, 'together': 1, 'rather': 1, 'nice': 4, 'pale': 1, 'strokes': 1, 'trembling': 1, 'across': 1, 'pallette': 1, 'Easy': 1, 'tiger': 1, 'try': 2, 'keep': 1, 'calm': 1, 'painting': 1, 'steady': 1, 'confident': 1, 'went': 1, 'albeit': 1, 'bit': 1, 'slower': 1, 'mixed': 1, 'selection': 1, 'done': 1, 'stranger': 1, 'patted': 1, 'let': 2, 'open': 1, 'sky': 1, 'barely': 1, 'ground': 1, 'allow': 1, 'lies': 1, 'sighing': 1, 'grabbed': 1, 'hold': 1, 'arm': 1, 'lifted': 1, 'tiny': 1, 'Xs': 1, 'portion': 1, 'top': 1, 'left': 1, 'corner': 1, 'soon': 1, 'filled': 1, 'layer': 1, 'go': 3, 'ahead': 1, 'attempted': 1, 'surprise': 2, 'mimicked': 1, 'stroke': 1, 'almost': 1, 'perfectly': 1, 'ah': 1, 'ya': 1, 'wash': 1, 'water': 1, 'beat': 2, 'devil': 1, 'wood': 1, 'point': 1, 'could': 1, 'help': 1, 'turn': 1, 'around': 1, 'figure': 2, 'pulling': 1, 'woolen': 1, 'yes': 1, 'wo': 1, 'hurt': 1, 'Tell': 1, 'first': 1, 'maybe': 1, 'smiled': 1, 'bright': 1, 'smile': 1, 'squirrel': 1, 'popped': 1, 'hair': 1, 'Ross': 1, 'heard': 1, 'painter': 1}\n"
          ],
          "name": "stdout"
        }
      ]
    },
    {
      "cell_type": "markdown",
      "metadata": {
        "id": "OO5njuPcZylL"
      },
      "source": [
        "### split the part of speech"
      ]
    },
    {
      "cell_type": "code",
      "metadata": {
        "colab": {
          "base_uri": "https://localhost:8080/"
        },
        "id": "V3ydSY-HEpCk",
        "outputId": "37847d9e-e51e-47d1-cbc8-3bf947872b91"
      },
      "source": [
        "# extract the noun \n",
        "noun = []\n",
        "for i in tw:\n",
        "  if i[1] in ('NN','NNS','NNP','NNPS'):\n",
        "    noun.append(i[0])\n",
        "print(noun)"
      ],
      "execution_count": 42,
      "outputs": [
        {
          "output_type": "stream",
          "text": [
            "['year', 'Adolf', 'Hitler', 'artist', 'dozens', 'assasination', 'attemps', 'time', 'travelers', 'traveller', 'Hitler', 'hood', 'afro', 'Bob', 'Ross.There', 'mustache', 'garde', 'man', 'place', 'world', 'art', 'easel', 'while', 'firm', 'hand', 'shoulder', 'head', 'man', 'life', 'way', 'hand', 'mouth', 'owner', 'tones', 'sir', 'death', 'war', 'thing', 'tutor', 'brush', 'dip', 'titanium', 'blue', 'Hitler', 'thing', 'man', 'blue', 'Adolf', 'brush', 'strokes', 'pallette', 'Easy', 'tiger', 'Adolf', 'time', 'bit', 'selection', 'stranger', 'shoulder', 'sky', 'ground', 'man', 'firm', 'hold', 'arm', 'Xs', 'so..', 'portion', 'left', 'hand', 'corner', 'layer', 'blue', 'Adolf', 'surprise', 'man', 'stroke', 'wash', 'water', 'devil', 'wood', 'point', 'adolf', 'surprise', 'easel', 'it..', 'woolen', 'hood', 'sir', 'Tell', 'figure', 'smile', 'squirrel', 'hair', 'Bob', 'Bob', 'Ross', 'painter']\n"
          ],
          "name": "stdout"
        }
      ]
    },
    {
      "cell_type": "code",
      "metadata": {
        "colab": {
          "base_uri": "https://localhost:8080/"
        },
        "id": "GgEO-7dwWfZL",
        "outputId": "249dea3f-f002-4874-d7c7-9c8003672270"
      },
      "source": [
        "# extract verb\n",
        "verb = []\n",
        "for i in tw:\n",
        "  if i[1] in ('VB','VBD','VBG','VBN','VBP','VBZ'):\n",
        "    verb.append(i[0])\n",
        "print(verb)"
      ],
      "execution_count": 43,
      "outputs": [
        {
          "output_type": "stream",
          "text": [
            "['is', 'struggling', 'has', 'fought', 'meaning', 'is', 'does', 'want', 'kill', 'wants', 'teach', 'paint', 'pulls', 'reveal', 'sat', 'twirling', 'was', 'wanted', 'be', 'was', 'wanted', 'continues', 'stare', 'thinking', 'felt', 'calming', 'sighed', 'hanging', 'Are', 'come', 'end', 'see', 'did', 'answer', 'had', \"'s\", 'did', 'speaking', 'assuaging', 'had', 'come', 'make', \"'ve\", 'seen', 'want', 'do', 'have', 'come', 'grab', 'did', 'nodded', 'mix', 'have', 'did', 'trembling', 'try', 'keep', 'Painting', 'is', 'being', 'nodded', 'went', 'had', 'done', 'patted', 'let', 'see', 'paint', 'paint', 'let', 'allow', 'lies', 'Sighing', 'grabbed', 'lifted', 'have', 'do', 'is', 'was', 'filled', 'go', 'try', 'sighed', 'attempted', 'mimicked', 'go', 'brush', 'beat', 'help', 'turn', 'want', 'beat', 'figure', 'nodded', 'pulling', 'Do', 'Go', 'hurt', 'are', 'smiled', 'popped', \"'m\", 'heard', 'wanted', 'be']\n"
          ],
          "name": "stdout"
        }
      ]
    },
    {
      "cell_type": "code",
      "metadata": {
        "colab": {
          "base_uri": "https://localhost:8080/"
        },
        "id": "mHqH-IUxXEiD",
        "outputId": "2c5e5e55-d7c6-4438-c695-a904d3ea8384"
      },
      "source": [
        "# extract adjective\n",
        "adj = []\n",
        "for i in tw:\n",
        "  if i[1] in ('JJ','JJR','JJS'):\n",
        "    adj.append(i[0])\n",
        "print(adj)\n"
      ],
      "execution_count": 44,
      "outputs": [
        {
          "output_type": "stream",
          "text": [
            "['different', 'frizzy', 'personal', 'stylized', 'avant', 'soft', 'famous', 'much', 'such', 'inch', 'white', 'prussian', 'Good', 'nice', 'pale', 'calm', 'steady', 'confident', 'slower', 'mixed', 'Good', 'nice', 'open', 'nice', 'tiny', 'top', 'nice', 'Ah', 'afro', 'bright']\n"
          ],
          "name": "stdout"
        }
      ]
    },
    {
      "cell_type": "code",
      "metadata": {
        "colab": {
          "base_uri": "https://localhost:8080/"
        },
        "id": "tb9Tz95jZbZi",
        "outputId": "2d455a8a-936c-4824-a0a7-175f5f45a827"
      },
      "source": [
        "# extract adverb\n",
        "adv = []\n",
        "for i in tw:\n",
        "  if i[1] in ('RB','RBR','RBS'):\n",
        "    adv.append(i[0])\n",
        "print(adv)"
      ],
      "execution_count": 45,
      "outputs": [
        {
          "output_type": "stream",
          "text": [
            "['well', \"n't\", 'just', 'so', 'just', 'wearily', 'yet', 'even', \"n't\", 'However', 'too', 'Instead', 'Here', 'Now', 'together', 'rather', 'so', 'now', 'again', 'now', 'barely', 'soon', 'Now', 'ahead', 'almost', 'perfectly', 'ya', 'Now', 'there', \"n't\", \"n't\", 'first', 'then', 'maybe']\n"
          ],
          "name": "stdout"
        }
      ]
    },
    {
      "cell_type": "markdown",
      "metadata": {
        "id": "OCGS2JfZA7PI"
      },
      "source": [
        "###Count number of word in each part of speech"
      ]
    },
    {
      "cell_type": "code",
      "metadata": {
        "colab": {
          "base_uri": "https://localhost:8080/",
          "height": 493
        },
        "id": "lXKxf2EhW0_B",
        "outputId": "201eaa7b-1a57-4c8c-eb99-67b039e79c96"
      },
      "source": [
        "# extract the count of noun\n",
        "freq_noun = {}\n",
        "for i in word_count.keys():\n",
        "  if i in noun:\n",
        "    freq_noun[i] = word_count[i]\n",
        "print(freq_noun)\n",
        "\n",
        "# count total number and proportion of noun in this text file\n",
        "prop_noun = len(freq_noun)/len(tmp)\n",
        "print('number of noun in this paper:',len(freq_noun))\n",
        "print('The proportion of noun in the text is:',prop_noun)\n",
        "\n",
        "# change to dataframe and sort them\n",
        "df_noun = pd.DataFrame.from_dict(freq_noun, orient='index',columns=['count']).sort_values(by=['count'],ascending=False)\n",
        "df_noun = df_noun.reset_index().rename(columns={'index':'noun'})\n",
        "#df_noun = df_noun.sort_values(by=['count'],ascending=False)\n",
        "df_noun"
      ],
      "execution_count": 67,
      "outputs": [
        {
          "output_type": "stream",
          "text": [
            "{'year': 1, 'Adolf': 5, 'Hitler': 3, 'artist': 1, 'dozens': 1, 'assasination': 1, 'attemps': 1, 'time': 2, 'travelers': 1, 'traveller': 1, 'hood': 2, 'afro': 2, 'Bob': 3, 'mustache': 1, 'garde': 1, 'man': 5, 'place': 1, 'world': 1, 'art': 1, 'easel': 2, 'firm': 2, 'hand': 3, 'shoulder': 2, 'head': 1, 'life': 1, 'way': 1, 'mouth': 1, 'owner': 1, 'tones': 1, 'sir': 2, 'death': 1, 'war': 1, 'thing': 2, 'tutor': 1, 'brush': 3, 'dip': 1, 'titanium': 1, 'blue': 3, 'strokes': 1, 'pallette': 1, 'Easy': 1, 'tiger': 1, 'bit': 1, 'selection': 1, 'stranger': 1, 'sky': 1, 'ground': 1, 'hold': 1, 'arm': 1, 'Xs': 1, 'portion': 1, 'left': 1, 'corner': 1, 'layer': 1, 'surprise': 2, 'stroke': 1, 'wash': 1, 'water': 1, 'devil': 1, 'wood': 1, 'point': 1, 'figure': 2, 'woolen': 1, 'Tell': 1, 'smile': 1, 'squirrel': 1, 'hair': 1, 'Ross': 1, 'painter': 1}\n",
            "number of noun in this paper: 69\n",
            "The proportion of noun in the text is: 0.148068669527897\n"
          ],
          "name": "stdout"
        },
        {
          "output_type": "execute_result",
          "data": {
            "text/html": [
              "<div>\n",
              "<style scoped>\n",
              "    .dataframe tbody tr th:only-of-type {\n",
              "        vertical-align: middle;\n",
              "    }\n",
              "\n",
              "    .dataframe tbody tr th {\n",
              "        vertical-align: top;\n",
              "    }\n",
              "\n",
              "    .dataframe thead th {\n",
              "        text-align: right;\n",
              "    }\n",
              "</style>\n",
              "<table border=\"1\" class=\"dataframe\">\n",
              "  <thead>\n",
              "    <tr style=\"text-align: right;\">\n",
              "      <th></th>\n",
              "      <th>noun</th>\n",
              "      <th>count</th>\n",
              "    </tr>\n",
              "  </thead>\n",
              "  <tbody>\n",
              "    <tr>\n",
              "      <th>0</th>\n",
              "      <td>Adolf</td>\n",
              "      <td>5</td>\n",
              "    </tr>\n",
              "    <tr>\n",
              "      <th>1</th>\n",
              "      <td>man</td>\n",
              "      <td>5</td>\n",
              "    </tr>\n",
              "    <tr>\n",
              "      <th>2</th>\n",
              "      <td>brush</td>\n",
              "      <td>3</td>\n",
              "    </tr>\n",
              "    <tr>\n",
              "      <th>3</th>\n",
              "      <td>Hitler</td>\n",
              "      <td>3</td>\n",
              "    </tr>\n",
              "    <tr>\n",
              "      <th>4</th>\n",
              "      <td>blue</td>\n",
              "      <td>3</td>\n",
              "    </tr>\n",
              "    <tr>\n",
              "      <th>...</th>\n",
              "      <td>...</td>\n",
              "      <td>...</td>\n",
              "    </tr>\n",
              "    <tr>\n",
              "      <th>64</th>\n",
              "      <td>dip</td>\n",
              "      <td>1</td>\n",
              "    </tr>\n",
              "    <tr>\n",
              "      <th>65</th>\n",
              "      <td>titanium</td>\n",
              "      <td>1</td>\n",
              "    </tr>\n",
              "    <tr>\n",
              "      <th>66</th>\n",
              "      <td>strokes</td>\n",
              "      <td>1</td>\n",
              "    </tr>\n",
              "    <tr>\n",
              "      <th>67</th>\n",
              "      <td>pallette</td>\n",
              "      <td>1</td>\n",
              "    </tr>\n",
              "    <tr>\n",
              "      <th>68</th>\n",
              "      <td>painter</td>\n",
              "      <td>1</td>\n",
              "    </tr>\n",
              "  </tbody>\n",
              "</table>\n",
              "<p>69 rows × 2 columns</p>\n",
              "</div>"
            ],
            "text/plain": [
              "        noun  count\n",
              "0      Adolf      5\n",
              "1        man      5\n",
              "2      brush      3\n",
              "3     Hitler      3\n",
              "4       blue      3\n",
              "..       ...    ...\n",
              "64       dip      1\n",
              "65  titanium      1\n",
              "66   strokes      1\n",
              "67  pallette      1\n",
              "68   painter      1\n",
              "\n",
              "[69 rows x 2 columns]"
            ]
          },
          "metadata": {
            "tags": []
          },
          "execution_count": 67
        }
      ]
    },
    {
      "cell_type": "code",
      "metadata": {
        "colab": {
          "base_uri": "https://localhost:8080/",
          "height": 1000
        },
        "id": "AJQTMkG-FRZM",
        "outputId": "bc1a814a-8dc3-4561-92f4-2c5ffdb50925"
      },
      "source": [
        "# extract the count of verb\n",
        "freq_verb = {}\n",
        "for i in word_count.keys():\n",
        "  if i in verb:\n",
        "    freq_verb[i] = word_count[i]\n",
        "print(freq_verb)\n",
        "\n",
        "# count total number and proportion of verb in this text file\n",
        "prop_verb = len(freq_verb)/len(tmp)\n",
        "print('number of verb in this paper:',len(freq_verb))\n",
        "print('The proportion of verb in the text is:',prop_verb)\n",
        "\n",
        "# change to dataframe and sort them\n",
        "df_verb = pd.DataFrame.from_dict(freq_verb, orient='index',columns=['count']).sort_values(by=['count'],ascending=False)\n",
        "df_verb = df_verb.reset_index().rename(columns={'index':'verb'})\n",
        "df_verb"
      ],
      "execution_count": 68,
      "outputs": [
        {
          "output_type": "stream",
          "text": [
            "{'struggling': 1, 'fought': 1, 'meaning': 1, 'want': 3, 'kill': 1, 'wants': 1, 'teach': 1, 'paint': 3, 'pulls': 1, 'reveal': 1, 'sat': 1, 'twirling': 1, 'wanted': 3, 'continues': 1, 'stare': 1, 'thinking': 1, 'felt': 1, 'calming': 1, 'sighed': 2, 'hanging': 1, 'come': 3, 'end': 1, 'see': 2, 'answer': 1, 'speaking': 1, 'assuaging': 1, 'make': 1, 'seen': 1, 'grab': 1, 'brush': 3, 'nodded': 3, 'mix': 1, 'trembling': 1, 'try': 2, 'keep': 1, 'went': 1, 'done': 1, 'patted': 1, 'let': 2, 'allow': 1, 'lies': 1, 'grabbed': 1, 'lifted': 1, 'filled': 1, 'go': 3, 'attempted': 1, 'mimicked': 1, 'beat': 2, 'help': 1, 'turn': 1, 'figure': 2, 'pulling': 1, 'hurt': 1, 'smiled': 1, 'popped': 1, 'heard': 1}\n",
            "number of verb in this paper: 56\n",
            "The proportion of verb in the text is: 0.12017167381974249\n"
          ],
          "name": "stdout"
        },
        {
          "output_type": "execute_result",
          "data": {
            "text/html": [
              "<div>\n",
              "<style scoped>\n",
              "    .dataframe tbody tr th:only-of-type {\n",
              "        vertical-align: middle;\n",
              "    }\n",
              "\n",
              "    .dataframe tbody tr th {\n",
              "        vertical-align: top;\n",
              "    }\n",
              "\n",
              "    .dataframe thead th {\n",
              "        text-align: right;\n",
              "    }\n",
              "</style>\n",
              "<table border=\"1\" class=\"dataframe\">\n",
              "  <thead>\n",
              "    <tr style=\"text-align: right;\">\n",
              "      <th></th>\n",
              "      <th>verb</th>\n",
              "      <th>count</th>\n",
              "    </tr>\n",
              "  </thead>\n",
              "  <tbody>\n",
              "    <tr>\n",
              "      <th>0</th>\n",
              "      <td>nodded</td>\n",
              "      <td>3</td>\n",
              "    </tr>\n",
              "    <tr>\n",
              "      <th>1</th>\n",
              "      <td>want</td>\n",
              "      <td>3</td>\n",
              "    </tr>\n",
              "    <tr>\n",
              "      <th>2</th>\n",
              "      <td>brush</td>\n",
              "      <td>3</td>\n",
              "    </tr>\n",
              "    <tr>\n",
              "      <th>3</th>\n",
              "      <td>go</td>\n",
              "      <td>3</td>\n",
              "    </tr>\n",
              "    <tr>\n",
              "      <th>4</th>\n",
              "      <td>paint</td>\n",
              "      <td>3</td>\n",
              "    </tr>\n",
              "    <tr>\n",
              "      <th>5</th>\n",
              "      <td>come</td>\n",
              "      <td>3</td>\n",
              "    </tr>\n",
              "    <tr>\n",
              "      <th>6</th>\n",
              "      <td>wanted</td>\n",
              "      <td>3</td>\n",
              "    </tr>\n",
              "    <tr>\n",
              "      <th>7</th>\n",
              "      <td>try</td>\n",
              "      <td>2</td>\n",
              "    </tr>\n",
              "    <tr>\n",
              "      <th>8</th>\n",
              "      <td>beat</td>\n",
              "      <td>2</td>\n",
              "    </tr>\n",
              "    <tr>\n",
              "      <th>9</th>\n",
              "      <td>see</td>\n",
              "      <td>2</td>\n",
              "    </tr>\n",
              "    <tr>\n",
              "      <th>10</th>\n",
              "      <td>let</td>\n",
              "      <td>2</td>\n",
              "    </tr>\n",
              "    <tr>\n",
              "      <th>11</th>\n",
              "      <td>sighed</td>\n",
              "      <td>2</td>\n",
              "    </tr>\n",
              "    <tr>\n",
              "      <th>12</th>\n",
              "      <td>figure</td>\n",
              "      <td>2</td>\n",
              "    </tr>\n",
              "    <tr>\n",
              "      <th>13</th>\n",
              "      <td>patted</td>\n",
              "      <td>1</td>\n",
              "    </tr>\n",
              "    <tr>\n",
              "      <th>14</th>\n",
              "      <td>allow</td>\n",
              "      <td>1</td>\n",
              "    </tr>\n",
              "    <tr>\n",
              "      <th>15</th>\n",
              "      <td>went</td>\n",
              "      <td>1</td>\n",
              "    </tr>\n",
              "    <tr>\n",
              "      <th>16</th>\n",
              "      <td>keep</td>\n",
              "      <td>1</td>\n",
              "    </tr>\n",
              "    <tr>\n",
              "      <th>17</th>\n",
              "      <td>lies</td>\n",
              "      <td>1</td>\n",
              "    </tr>\n",
              "    <tr>\n",
              "      <th>18</th>\n",
              "      <td>done</td>\n",
              "      <td>1</td>\n",
              "    </tr>\n",
              "    <tr>\n",
              "      <th>19</th>\n",
              "      <td>struggling</td>\n",
              "      <td>1</td>\n",
              "    </tr>\n",
              "    <tr>\n",
              "      <th>20</th>\n",
              "      <td>grabbed</td>\n",
              "      <td>1</td>\n",
              "    </tr>\n",
              "    <tr>\n",
              "      <th>21</th>\n",
              "      <td>lifted</td>\n",
              "      <td>1</td>\n",
              "    </tr>\n",
              "    <tr>\n",
              "      <th>22</th>\n",
              "      <td>trembling</td>\n",
              "      <td>1</td>\n",
              "    </tr>\n",
              "    <tr>\n",
              "      <th>23</th>\n",
              "      <td>attempted</td>\n",
              "      <td>1</td>\n",
              "    </tr>\n",
              "    <tr>\n",
              "      <th>24</th>\n",
              "      <td>mimicked</td>\n",
              "      <td>1</td>\n",
              "    </tr>\n",
              "    <tr>\n",
              "      <th>25</th>\n",
              "      <td>help</td>\n",
              "      <td>1</td>\n",
              "    </tr>\n",
              "    <tr>\n",
              "      <th>26</th>\n",
              "      <td>turn</td>\n",
              "      <td>1</td>\n",
              "    </tr>\n",
              "    <tr>\n",
              "      <th>27</th>\n",
              "      <td>pulling</td>\n",
              "      <td>1</td>\n",
              "    </tr>\n",
              "    <tr>\n",
              "      <th>28</th>\n",
              "      <td>hurt</td>\n",
              "      <td>1</td>\n",
              "    </tr>\n",
              "    <tr>\n",
              "      <th>29</th>\n",
              "      <td>smiled</td>\n",
              "      <td>1</td>\n",
              "    </tr>\n",
              "    <tr>\n",
              "      <th>30</th>\n",
              "      <td>popped</td>\n",
              "      <td>1</td>\n",
              "    </tr>\n",
              "    <tr>\n",
              "      <th>31</th>\n",
              "      <td>filled</td>\n",
              "      <td>1</td>\n",
              "    </tr>\n",
              "    <tr>\n",
              "      <th>32</th>\n",
              "      <td>grab</td>\n",
              "      <td>1</td>\n",
              "    </tr>\n",
              "    <tr>\n",
              "      <th>33</th>\n",
              "      <td>mix</td>\n",
              "      <td>1</td>\n",
              "    </tr>\n",
              "    <tr>\n",
              "      <th>34</th>\n",
              "      <td>stare</td>\n",
              "      <td>1</td>\n",
              "    </tr>\n",
              "    <tr>\n",
              "      <th>35</th>\n",
              "      <td>meaning</td>\n",
              "      <td>1</td>\n",
              "    </tr>\n",
              "    <tr>\n",
              "      <th>36</th>\n",
              "      <td>kill</td>\n",
              "      <td>1</td>\n",
              "    </tr>\n",
              "    <tr>\n",
              "      <th>37</th>\n",
              "      <td>wants</td>\n",
              "      <td>1</td>\n",
              "    </tr>\n",
              "    <tr>\n",
              "      <th>38</th>\n",
              "      <td>teach</td>\n",
              "      <td>1</td>\n",
              "    </tr>\n",
              "    <tr>\n",
              "      <th>39</th>\n",
              "      <td>pulls</td>\n",
              "      <td>1</td>\n",
              "    </tr>\n",
              "    <tr>\n",
              "      <th>40</th>\n",
              "      <td>reveal</td>\n",
              "      <td>1</td>\n",
              "    </tr>\n",
              "    <tr>\n",
              "      <th>41</th>\n",
              "      <td>sat</td>\n",
              "      <td>1</td>\n",
              "    </tr>\n",
              "    <tr>\n",
              "      <th>42</th>\n",
              "      <td>twirling</td>\n",
              "      <td>1</td>\n",
              "    </tr>\n",
              "    <tr>\n",
              "      <th>43</th>\n",
              "      <td>continues</td>\n",
              "      <td>1</td>\n",
              "    </tr>\n",
              "    <tr>\n",
              "      <th>44</th>\n",
              "      <td>thinking</td>\n",
              "      <td>1</td>\n",
              "    </tr>\n",
              "    <tr>\n",
              "      <th>45</th>\n",
              "      <td>fought</td>\n",
              "      <td>1</td>\n",
              "    </tr>\n",
              "    <tr>\n",
              "      <th>46</th>\n",
              "      <td>felt</td>\n",
              "      <td>1</td>\n",
              "    </tr>\n",
              "    <tr>\n",
              "      <th>47</th>\n",
              "      <td>calming</td>\n",
              "      <td>1</td>\n",
              "    </tr>\n",
              "    <tr>\n",
              "      <th>48</th>\n",
              "      <td>hanging</td>\n",
              "      <td>1</td>\n",
              "    </tr>\n",
              "    <tr>\n",
              "      <th>49</th>\n",
              "      <td>end</td>\n",
              "      <td>1</td>\n",
              "    </tr>\n",
              "    <tr>\n",
              "      <th>50</th>\n",
              "      <td>answer</td>\n",
              "      <td>1</td>\n",
              "    </tr>\n",
              "    <tr>\n",
              "      <th>51</th>\n",
              "      <td>speaking</td>\n",
              "      <td>1</td>\n",
              "    </tr>\n",
              "    <tr>\n",
              "      <th>52</th>\n",
              "      <td>assuaging</td>\n",
              "      <td>1</td>\n",
              "    </tr>\n",
              "    <tr>\n",
              "      <th>53</th>\n",
              "      <td>make</td>\n",
              "      <td>1</td>\n",
              "    </tr>\n",
              "    <tr>\n",
              "      <th>54</th>\n",
              "      <td>seen</td>\n",
              "      <td>1</td>\n",
              "    </tr>\n",
              "    <tr>\n",
              "      <th>55</th>\n",
              "      <td>heard</td>\n",
              "      <td>1</td>\n",
              "    </tr>\n",
              "  </tbody>\n",
              "</table>\n",
              "</div>"
            ],
            "text/plain": [
              "          verb  count\n",
              "0       nodded      3\n",
              "1         want      3\n",
              "2        brush      3\n",
              "3           go      3\n",
              "4        paint      3\n",
              "5         come      3\n",
              "6       wanted      3\n",
              "7          try      2\n",
              "8         beat      2\n",
              "9          see      2\n",
              "10         let      2\n",
              "11      sighed      2\n",
              "12      figure      2\n",
              "13      patted      1\n",
              "14       allow      1\n",
              "15        went      1\n",
              "16        keep      1\n",
              "17        lies      1\n",
              "18        done      1\n",
              "19  struggling      1\n",
              "20     grabbed      1\n",
              "21      lifted      1\n",
              "22   trembling      1\n",
              "23   attempted      1\n",
              "24    mimicked      1\n",
              "25        help      1\n",
              "26        turn      1\n",
              "27     pulling      1\n",
              "28        hurt      1\n",
              "29      smiled      1\n",
              "30      popped      1\n",
              "31      filled      1\n",
              "32        grab      1\n",
              "33         mix      1\n",
              "34       stare      1\n",
              "35     meaning      1\n",
              "36        kill      1\n",
              "37       wants      1\n",
              "38       teach      1\n",
              "39       pulls      1\n",
              "40      reveal      1\n",
              "41         sat      1\n",
              "42    twirling      1\n",
              "43   continues      1\n",
              "44    thinking      1\n",
              "45      fought      1\n",
              "46        felt      1\n",
              "47     calming      1\n",
              "48     hanging      1\n",
              "49         end      1\n",
              "50      answer      1\n",
              "51    speaking      1\n",
              "52   assuaging      1\n",
              "53        make      1\n",
              "54        seen      1\n",
              "55       heard      1"
            ]
          },
          "metadata": {
            "tags": []
          },
          "execution_count": 68
        }
      ]
    },
    {
      "cell_type": "code",
      "metadata": {
        "colab": {
          "base_uri": "https://localhost:8080/",
          "height": 836
        },
        "id": "enCMaWMwhXSk",
        "outputId": "7b4db213-c42c-41fc-a437-01dff8a25fef"
      },
      "source": [
        "# extract the count of adj\n",
        "freq_adj = {}\n",
        "for i in word_count.keys():\n",
        "  if i in adj:\n",
        "    freq_adj[i] = word_count[i]\n",
        "print(freq_adj)\n",
        "\n",
        "# count total number and proportion of adj in this text file\n",
        "prop_adj = len(freq_adj)/len(tmp)\n",
        "print('number of adj in this paper:',len(freq_adj))\n",
        "print('The proportion of adj in the text is:',prop_adj)\n",
        "\n",
        "# change to dataframe and sort them\n",
        "df_adj = pd.DataFrame.from_dict(freq_adj, orient='index',columns=['count']).sort_values(by=['count'],ascending=False)\n",
        "df_adj = df_adj.reset_index().rename(columns={'index':'adj'})\n",
        "df_adj"
      ],
      "execution_count": 69,
      "outputs": [
        {
          "output_type": "stream",
          "text": [
            "{'different': 1, 'frizzy': 1, 'afro': 2, 'personal': 1, 'stylized': 1, 'avant': 1, 'soft': 1, 'famous': 1, 'much': 1, 'inch': 1, 'white': 1, 'prussian': 1, 'nice': 4, 'pale': 1, 'calm': 1, 'steady': 1, 'confident': 1, 'slower': 1, 'mixed': 1, 'open': 1, 'tiny': 1, 'top': 1, 'bright': 1}\n",
            "number of adj in this paper: 23\n",
            "The proportion of adj in the text is: 0.04935622317596566\n"
          ],
          "name": "stdout"
        },
        {
          "output_type": "execute_result",
          "data": {
            "text/html": [
              "<div>\n",
              "<style scoped>\n",
              "    .dataframe tbody tr th:only-of-type {\n",
              "        vertical-align: middle;\n",
              "    }\n",
              "\n",
              "    .dataframe tbody tr th {\n",
              "        vertical-align: top;\n",
              "    }\n",
              "\n",
              "    .dataframe thead th {\n",
              "        text-align: right;\n",
              "    }\n",
              "</style>\n",
              "<table border=\"1\" class=\"dataframe\">\n",
              "  <thead>\n",
              "    <tr style=\"text-align: right;\">\n",
              "      <th></th>\n",
              "      <th>adj</th>\n",
              "      <th>count</th>\n",
              "    </tr>\n",
              "  </thead>\n",
              "  <tbody>\n",
              "    <tr>\n",
              "      <th>0</th>\n",
              "      <td>nice</td>\n",
              "      <td>4</td>\n",
              "    </tr>\n",
              "    <tr>\n",
              "      <th>1</th>\n",
              "      <td>afro</td>\n",
              "      <td>2</td>\n",
              "    </tr>\n",
              "    <tr>\n",
              "      <th>2</th>\n",
              "      <td>different</td>\n",
              "      <td>1</td>\n",
              "    </tr>\n",
              "    <tr>\n",
              "      <th>3</th>\n",
              "      <td>top</td>\n",
              "      <td>1</td>\n",
              "    </tr>\n",
              "    <tr>\n",
              "      <th>4</th>\n",
              "      <td>tiny</td>\n",
              "      <td>1</td>\n",
              "    </tr>\n",
              "    <tr>\n",
              "      <th>5</th>\n",
              "      <td>open</td>\n",
              "      <td>1</td>\n",
              "    </tr>\n",
              "    <tr>\n",
              "      <th>6</th>\n",
              "      <td>mixed</td>\n",
              "      <td>1</td>\n",
              "    </tr>\n",
              "    <tr>\n",
              "      <th>7</th>\n",
              "      <td>slower</td>\n",
              "      <td>1</td>\n",
              "    </tr>\n",
              "    <tr>\n",
              "      <th>8</th>\n",
              "      <td>confident</td>\n",
              "      <td>1</td>\n",
              "    </tr>\n",
              "    <tr>\n",
              "      <th>9</th>\n",
              "      <td>steady</td>\n",
              "      <td>1</td>\n",
              "    </tr>\n",
              "    <tr>\n",
              "      <th>10</th>\n",
              "      <td>calm</td>\n",
              "      <td>1</td>\n",
              "    </tr>\n",
              "    <tr>\n",
              "      <th>11</th>\n",
              "      <td>pale</td>\n",
              "      <td>1</td>\n",
              "    </tr>\n",
              "    <tr>\n",
              "      <th>12</th>\n",
              "      <td>prussian</td>\n",
              "      <td>1</td>\n",
              "    </tr>\n",
              "    <tr>\n",
              "      <th>13</th>\n",
              "      <td>frizzy</td>\n",
              "      <td>1</td>\n",
              "    </tr>\n",
              "    <tr>\n",
              "      <th>14</th>\n",
              "      <td>white</td>\n",
              "      <td>1</td>\n",
              "    </tr>\n",
              "    <tr>\n",
              "      <th>15</th>\n",
              "      <td>inch</td>\n",
              "      <td>1</td>\n",
              "    </tr>\n",
              "    <tr>\n",
              "      <th>16</th>\n",
              "      <td>much</td>\n",
              "      <td>1</td>\n",
              "    </tr>\n",
              "    <tr>\n",
              "      <th>17</th>\n",
              "      <td>famous</td>\n",
              "      <td>1</td>\n",
              "    </tr>\n",
              "    <tr>\n",
              "      <th>18</th>\n",
              "      <td>soft</td>\n",
              "      <td>1</td>\n",
              "    </tr>\n",
              "    <tr>\n",
              "      <th>19</th>\n",
              "      <td>avant</td>\n",
              "      <td>1</td>\n",
              "    </tr>\n",
              "    <tr>\n",
              "      <th>20</th>\n",
              "      <td>stylized</td>\n",
              "      <td>1</td>\n",
              "    </tr>\n",
              "    <tr>\n",
              "      <th>21</th>\n",
              "      <td>personal</td>\n",
              "      <td>1</td>\n",
              "    </tr>\n",
              "    <tr>\n",
              "      <th>22</th>\n",
              "      <td>bright</td>\n",
              "      <td>1</td>\n",
              "    </tr>\n",
              "  </tbody>\n",
              "</table>\n",
              "</div>"
            ],
            "text/plain": [
              "          adj  count\n",
              "0        nice      4\n",
              "1        afro      2\n",
              "2   different      1\n",
              "3         top      1\n",
              "4        tiny      1\n",
              "5        open      1\n",
              "6       mixed      1\n",
              "7      slower      1\n",
              "8   confident      1\n",
              "9      steady      1\n",
              "10       calm      1\n",
              "11       pale      1\n",
              "12   prussian      1\n",
              "13     frizzy      1\n",
              "14      white      1\n",
              "15       inch      1\n",
              "16       much      1\n",
              "17     famous      1\n",
              "18       soft      1\n",
              "19      avant      1\n",
              "20   stylized      1\n",
              "21   personal      1\n",
              "22     bright      1"
            ]
          },
          "metadata": {
            "tags": []
          },
          "execution_count": 69
        }
      ]
    },
    {
      "cell_type": "code",
      "metadata": {
        "colab": {
          "base_uri": "https://localhost:8080/",
          "height": 537
        },
        "id": "N-ZxgZEwhfGr",
        "outputId": "6463f86f-62ad-4f53-8349-96b10d9a9d12"
      },
      "source": [
        "# extract the count of adv\n",
        "freq_adv = {}\n",
        "for i in word_count.keys():\n",
        "  if i in adv:\n",
        "    freq_adv[i] = word_count[i]\n",
        "print(freq_adv)\n",
        "\n",
        "# count total number and proportion of adv in this text file\n",
        "prop_adv = len(freq_adv)/len(tmp)\n",
        "print('number of adv in this paper:',len(freq_adv))\n",
        "print('The proportion of adv in the text is:',prop_adv)\n",
        "\n",
        "# change to dataframe and sort them\n",
        "df_adv = pd.DataFrame.from_dict(freq_adv, orient='index',columns=['count']).sort_values(by=['count'],ascending=False)\n",
        "df_adv = df_adv.reset_index().rename(columns={'index':'adv'})\n",
        "df_adv"
      ],
      "execution_count": 70,
      "outputs": [
        {
          "output_type": "stream",
          "text": [
            "{'well': 1, 'wearily': 1, 'yet': 1, 'even': 1, 'together': 1, 'rather': 1, 'barely': 1, 'soon': 1, 'ahead': 1, 'almost': 1, 'perfectly': 1, 'ya': 1, 'first': 1, 'maybe': 1}\n",
            "number of adv in this paper: 14\n",
            "The proportion of adv in the text is: 0.030042918454935622\n"
          ],
          "name": "stdout"
        },
        {
          "output_type": "execute_result",
          "data": {
            "text/html": [
              "<div>\n",
              "<style scoped>\n",
              "    .dataframe tbody tr th:only-of-type {\n",
              "        vertical-align: middle;\n",
              "    }\n",
              "\n",
              "    .dataframe tbody tr th {\n",
              "        vertical-align: top;\n",
              "    }\n",
              "\n",
              "    .dataframe thead th {\n",
              "        text-align: right;\n",
              "    }\n",
              "</style>\n",
              "<table border=\"1\" class=\"dataframe\">\n",
              "  <thead>\n",
              "    <tr style=\"text-align: right;\">\n",
              "      <th></th>\n",
              "      <th>adv</th>\n",
              "      <th>count</th>\n",
              "    </tr>\n",
              "  </thead>\n",
              "  <tbody>\n",
              "    <tr>\n",
              "      <th>0</th>\n",
              "      <td>well</td>\n",
              "      <td>1</td>\n",
              "    </tr>\n",
              "    <tr>\n",
              "      <th>1</th>\n",
              "      <td>wearily</td>\n",
              "      <td>1</td>\n",
              "    </tr>\n",
              "    <tr>\n",
              "      <th>2</th>\n",
              "      <td>yet</td>\n",
              "      <td>1</td>\n",
              "    </tr>\n",
              "    <tr>\n",
              "      <th>3</th>\n",
              "      <td>even</td>\n",
              "      <td>1</td>\n",
              "    </tr>\n",
              "    <tr>\n",
              "      <th>4</th>\n",
              "      <td>together</td>\n",
              "      <td>1</td>\n",
              "    </tr>\n",
              "    <tr>\n",
              "      <th>5</th>\n",
              "      <td>rather</td>\n",
              "      <td>1</td>\n",
              "    </tr>\n",
              "    <tr>\n",
              "      <th>6</th>\n",
              "      <td>barely</td>\n",
              "      <td>1</td>\n",
              "    </tr>\n",
              "    <tr>\n",
              "      <th>7</th>\n",
              "      <td>soon</td>\n",
              "      <td>1</td>\n",
              "    </tr>\n",
              "    <tr>\n",
              "      <th>8</th>\n",
              "      <td>ahead</td>\n",
              "      <td>1</td>\n",
              "    </tr>\n",
              "    <tr>\n",
              "      <th>9</th>\n",
              "      <td>almost</td>\n",
              "      <td>1</td>\n",
              "    </tr>\n",
              "    <tr>\n",
              "      <th>10</th>\n",
              "      <td>perfectly</td>\n",
              "      <td>1</td>\n",
              "    </tr>\n",
              "    <tr>\n",
              "      <th>11</th>\n",
              "      <td>ya</td>\n",
              "      <td>1</td>\n",
              "    </tr>\n",
              "    <tr>\n",
              "      <th>12</th>\n",
              "      <td>first</td>\n",
              "      <td>1</td>\n",
              "    </tr>\n",
              "    <tr>\n",
              "      <th>13</th>\n",
              "      <td>maybe</td>\n",
              "      <td>1</td>\n",
              "    </tr>\n",
              "  </tbody>\n",
              "</table>\n",
              "</div>"
            ],
            "text/plain": [
              "          adv  count\n",
              "0        well      1\n",
              "1     wearily      1\n",
              "2         yet      1\n",
              "3        even      1\n",
              "4    together      1\n",
              "5      rather      1\n",
              "6      barely      1\n",
              "7        soon      1\n",
              "8       ahead      1\n",
              "9      almost      1\n",
              "10  perfectly      1\n",
              "11         ya      1\n",
              "12      first      1\n",
              "13      maybe      1"
            ]
          },
          "metadata": {
            "tags": []
          },
          "execution_count": 70
        }
      ]
    },
    {
      "cell_type": "markdown",
      "metadata": {
        "id": "HmJv7J2o2Ax7"
      },
      "source": [
        "###create csv file to save word count statistics"
      ]
    },
    {
      "cell_type": "code",
      "metadata": {
        "colab": {
          "base_uri": "https://localhost:8080/"
        },
        "id": "eI6_eY872BFa",
        "outputId": "ecbb0b1a-95d4-476f-a120-8a2a6718ba0b"
      },
      "source": [
        "with open('/content/example.csv', 'w', encoding='utf-8') as f2:\n",
        "  pd.DataFrame(columns=['word_count_statistics']).to_csv(f2, index=False) # remove index here\n",
        "\n",
        "  df_noun.to_csv(f2, mode='a+')\n",
        "  df_verb.to_csv(f2, mode='a+')\n",
        "  df_adj.to_csv(f2, mode='a+')\n",
        "  df_adv.to_csv(f2, mode='a+')\n",
        "\n",
        "df2 = pd.read_csv('/content/example.csv')\n",
        "print(df2)\n"
      ],
      "execution_count": 79,
      "outputs": [
        {
          "output_type": "stream",
          "text": [
            "               word_count_statistics\n",
            "NaN  noun                      count\n",
            "0.0  Adolf                         5\n",
            "1.0  man                           5\n",
            "2.0  brush                         3\n",
            "3.0  Hitler                        3\n",
            "...                              ...\n",
            "9.0  almost                        1\n",
            "10.0 perfectly                     1\n",
            "11.0 ya                            1\n",
            "12.0 first                         1\n",
            "13.0 maybe                         1\n",
            "\n",
            "[166 rows x 1 columns]\n"
          ],
          "name": "stdout"
        }
      ]
    },
    {
      "cell_type": "markdown",
      "metadata": {
        "id": "R5NeHoPDjcJ9"
      },
      "source": [
        "###use word frequency calculation method to extract keywords"
      ]
    },
    {
      "cell_type": "code",
      "metadata": {
        "colab": {
          "base_uri": "https://localhost:8080/"
        },
        "id": "AyQuLLeJe4gW",
        "outputId": "fe710399-c335-4b57-c13b-486650a8bf39"
      },
      "source": [
        "key_word_candidate = []\n",
        "df_key = pd.DataFrame.from_dict(word_count, orient='index',columns=['count']).sort_values(by=['count'],ascending=False)\n",
        "\n",
        "# select the most frequently fifteen words in this text file as candidate of key_words\n",
        "for i in range(15):\n",
        "  key_word_candidate.append(df_key.index[i])\n",
        "print(key_word_candidate)"
      ],
      "execution_count": 50,
      "outputs": [
        {
          "output_type": "stream",
          "text": [
            "['Adolf', 'man', 'nice', 'nt', 'come', 'another', 'wanted', 'paint', 'hand', 'want', 'go', 'Bob', 'nodded', 'Hitler', 'brush']\n"
          ],
          "name": "stdout"
        }
      ]
    },
    {
      "cell_type": "code",
      "metadata": {
        "colab": {
          "base_uri": "https://localhost:8080/"
        },
        "id": "A-KHpn-DuI9t",
        "outputId": "3fbbf07d-fb06-4016-a832-c84c5c7e867f"
      },
      "source": [
        "Keyword_candidate = \",\".join(key_word_candidate)\n",
        "print(Keyword_candidate)"
      ],
      "execution_count": 54,
      "outputs": [
        {
          "output_type": "stream",
          "text": [
            "Adolf,man,nice,nt,come,another,wanted,paint,hand,want,go,Bob,nodded,Hitler,brush\n"
          ],
          "name": "stdout"
        }
      ]
    },
    {
      "cell_type": "code",
      "metadata": {
        "colab": {
          "base_uri": "https://localhost:8080/"
        },
        "id": "Kn5XZLlHtAdc",
        "outputId": "80b7d598-ea87-45f4-e9f2-bb772125d35a"
      },
      "source": [
        "with open('/content/example.txt','a+',encoding='UTF-8') as f:\n",
        "  f.write(\"\\n\\nTotal number of words in this text file is : \"+ str(len(tmp))+'\\n')\n",
        "  f.write('Key Word candidate: '+Keyword_candidate+'\\n')\n",
        "  t2 = f.read()\n",
        "print(t2)"
      ],
      "execution_count": 63,
      "outputs": [
        {
          "output_type": "stream",
          "text": [
            "\n"
          ],
          "name": "stdout"
        }
      ]
    },
    {
      "cell_type": "markdown",
      "metadata": {
        "id": "HNYoM0UIhrWp"
      },
      "source": [
        "##Visualization"
      ]
    },
    {
      "cell_type": "code",
      "metadata": {
        "colab": {
          "base_uri": "https://localhost:8080/",
          "height": 248
        },
        "id": "2pWtVmL3XtKG",
        "outputId": "5c7fa53f-6473-4e90-93c8-88de075a3c15"
      },
      "source": [
        "# create a part-of-speech pie chart \n",
        "other = 1 - prop_noun - prop_verb - prop_adj - prop_adv\n",
        "labels ='Noun','Verb','Adj','Adv','Other'\n",
        "fraces = [prop_noun,prop_verb,prop_adj,prop_adv,other]\n",
        "plt.pie(x=fraces,labels= labels)\n",
        "plt.savefig('/content/example_wordcount_piechart.jpg')\n",
        "plt.show()\n"
      ],
      "execution_count": 106,
      "outputs": [
        {
          "output_type": "display_data",
          "data": {
            "image/png": "[encoded data removed]",
            "text/plain": [
              "<Figure size 432x288 with 1 Axes>"
            ]
          },
          "metadata": {
            "tags": []
          }
        }
      ]
    },
    {
      "cell_type": "code",
      "metadata": {
        "colab": {
          "base_uri": "https://localhost:8080/",
          "height": 1000
        },
        "id": "5eVg_n97NNCk",
        "outputId": "770afd3b-9b08-4f48-85b6-5a98ad0e4cb3"
      },
      "source": [
        "# use NLTK to generate figures for noun, verb, adj, adv\n",
        "Freq_noun=nltk.FreqDist(freq_noun)\n",
        "Freq_verb=nltk.FreqDist(freq_verb)\n",
        "Freq_adj=nltk.FreqDist(freq_adj)\n",
        "Freq_adv=nltk.FreqDist(freq_adv)\n",
        "\n",
        "#show figures and save them as png. \n",
        "#Number of words on X-axes is configurable\n",
        "fig = plt.figure(figsize = (10,4))\n",
        "plt.gcf().subplots_adjust(bottom=0.15) # to avoid x-ticks cut-off\n",
        "Freq_noun.plot(10, title='Top 10 Most Common noun in text')\n",
        "fig.savefig('/content/example_top10_noun.png', bbox_inches = \"tight\")\n",
        "\n",
        "fig = plt.figure(figsize = (10,4))\n",
        "plt.gcf().subplots_adjust(bottom=0.15) # to avoid x-ticks cut-off\n",
        "Freq_verb.plot(10, title='Top 10 Most Common verb in text')\n",
        "fig.savefig('/content/example_top10_verb.png', bbox_inches = \"tight\")\n",
        "\n",
        "fig = plt.figure(figsize = (10,4))\n",
        "plt.gcf().subplots_adjust(bottom=0.15) # to avoid x-ticks cut-off\n",
        "Freq_adj.plot(10, title='Top 10 Most Common adj in text')\n",
        "fig.savefig('/content/example_top10_adj.png', bbox_inches = \"tight\")\n",
        "\n",
        "fig = plt.figure(figsize = (10,4))\n",
        "plt.gcf().subplots_adjust(bottom=0.15) # to avoid x-ticks cut-off\n",
        "Freq_adv.plot(10, title='Top 10 Most Common adv in text')\n",
        "fig.savefig('/content/example_top10_adv.png', bbox_inches = \"tight\")\n",
        "\n",
        "plt.show()\n"
      ],
      "execution_count": 117,
      "outputs": [
        {
          "output_type": "display_data",
          "data": {
            "image/png": "[encoded data removed]",
            "text/plain": [
              "<Figure size 720x288 with 1 Axes>"
            ]
          },
          "metadata": {
            "tags": [],
            "needs_background": "light"
          }
        },
        {
          "output_type": "display_data",
          "data": {
            "image/png": "[encoded data removed]",
            "text/plain": [
              "<Figure size 720x288 with 1 Axes>"
            ]
          },
          "metadata": {
            "tags": [],
            "needs_background": "light"
          }
        },
        {
          "output_type": "display_data",
          "data": {
            "image/png": "[encoded data removed]",
            "text/plain": [
              "<Figure size 720x288 with 1 Axes>"
            ]
          },
          "metadata": {
            "tags": [],
            "needs_background": "light"
          }
        },
        {
          "output_type": "display_data",
          "data": {
            "image/png": "[encoded data removed]",
            "text/plain": [
              "<Figure size 720x288 with 1 Axes>"
            ]
          },
          "metadata": {
            "tags": [],
            "needs_background": "light"
          }
        }
      ]
    },
    {
      "cell_type": "code",
      "metadata": {
        "colab": {
          "base_uri": "https://localhost:8080/",
          "height": 263
        },
        "id": "4BAVohbJMwpM",
        "outputId": "b3afcdc4-78f9-47a1-d0e4-d757e0643d59"
      },
      "source": [
        "# use wordcloud to generate png for keywords candidate\n",
        "wordcloud = WordCloud(\n",
        "        background_color=\"white\", # Set the background to white , default is black\n",
        "        width=1500,              #Set width of figure\n",
        "        height=960,              #Set height of figure\n",
        "        margin=10               #Set margin of figure\n",
        "        ).generate(str(key_word_candidate))\n",
        "# generate figure\n",
        "plt.imshow(wordcloud)\n",
        "# remove axes\n",
        "plt.axis(\"off\")\n",
        "\n",
        "fig.show()\n",
        "# save figure as png\n",
        "wordcloud.to_file('/content/example_keyword.png')"
      ],
      "execution_count": 107,
      "outputs": [
        {
          "output_type": "execute_result",
          "data": {
            "text/plain": [
              "<wordcloud.wordcloud.WordCloud at 0x7fe49631f290>"
            ]
          },
          "metadata": {
            "tags": []
          },
          "execution_count": 107
        },
        {
          "output_type": "display_data",
          "data": {
            "image/png": "[encoded data removed]",
            "text/plain": [
              "<Figure size 432x288 with 1 Axes>"
            ]
          },
          "metadata": {
            "tags": [],
            "needs_background": "light"
          }
        }
      ]
    }
  ]
}