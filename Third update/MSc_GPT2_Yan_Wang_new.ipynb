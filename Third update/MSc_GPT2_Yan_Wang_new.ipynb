{
  "nbformat": 4,
  "nbformat_minor": 0,
  "metadata": {
    "colab": {
      "name": "MSc_GPT2_Yan_Wang.ipynb",
      "provenance": [],
      "collapsed_sections": [
        "CwdJWDEdAZof",
        "8kwMRWI_HCiw",
        "n697QlJeU-eM"
      ]
    },
    "kernelspec": {
      "name": "python3",
      "display_name": "Python 3"
    },
    "language_info": {
      "name": "python"
    }
  },
  "cells": [
    {
      "cell_type": "code",
      "metadata": {
        "colab": {
          "base_uri": "https://localhost:8080/"
        },
        "id": "9h6RU3w4ky8d",
        "outputId": "a3302681-cd05-4cb6-a1c8-3636ef087810"
      },
      "source": [
        "from google.colab import drive\n",
        "drive.mount('/content/drive')"
      ],
      "execution_count": 1,
      "outputs": [
        {
          "output_type": "stream",
          "text": [
            "Mounted at /content/drive\n"
          ],
          "name": "stdout"
        }
      ]
    },
    {
      "cell_type": "code",
      "metadata": {
        "colab": {
          "base_uri": "https://localhost:8080/"
        },
        "id": "9hN2K4Wp0qZh",
        "outputId": "86d0a734-de0e-497e-8433-394549ba5e7e"
      },
      "source": [
        "!nvidia-smi"
      ],
      "execution_count": null,
      "outputs": [
        {
          "output_type": "stream",
          "text": [
            "Tue Aug 10 09:27:49 2021       \n",
            "+-----------------------------------------------------------------------------+\n",
            "| NVIDIA-SMI 470.42.01    Driver Version: 460.32.03    CUDA Version: 11.2     |\n",
            "|-------------------------------+----------------------+----------------------+\n",
            "| GPU  Name        Persistence-M| Bus-Id        Disp.A | Volatile Uncorr. ECC |\n",
            "| Fan  Temp  Perf  Pwr:Usage/Cap|         Memory-Usage | GPU-Util  Compute M. |\n",
            "|                               |                      |               MIG M. |\n",
            "|===============================+======================+======================|\n",
            "|   0  Tesla P100-PCIE...  Off  | 00000000:00:04.0 Off |                    0 |\n",
            "| N/A   38C    P0    27W / 250W |      0MiB / 16280MiB |      0%      Default |\n",
            "|                               |                      |                  N/A |\n",
            "+-------------------------------+----------------------+----------------------+\n",
            "                                                                               \n",
            "+-----------------------------------------------------------------------------+\n",
            "| Processes:                                                                  |\n",
            "|  GPU   GI   CI        PID   Type   Process name                  GPU Memory |\n",
            "|        ID   ID                                                   Usage      |\n",
            "|=============================================================================|\n",
            "|  No running processes found                                                 |\n",
            "+-----------------------------------------------------------------------------+\n"
          ],
          "name": "stdout"
        }
      ]
    },
    {
      "cell_type": "code",
      "metadata": {
        "id": "Tq6oPDfN1wNC",
        "colab": {
          "base_uri": "https://localhost:8080/"
        },
        "outputId": "91886081-2fbd-4561-ec2d-43ef294919b1"
      },
      "source": [
        "%tensorflow_version 1.x\n",
        "!pip install -q gpt-2-simple\n",
        "import gpt_2_simple as gpt2\n",
        "from datetime import datetime\n",
        "from google.colab import files\n",
        "import os\n",
        "import requests\n",
        "import re\n",
        "\n",
        "import collections\n",
        "import pandas as pd\n",
        "from nltk import word_tokenize\n",
        "import nltk\n",
        "from nltk import pos_tag\n",
        "import matplotlib.pyplot as plt\n",
        "from wordcloud import WordCloud"
      ],
      "execution_count": 2,
      "outputs": [
        {
          "output_type": "stream",
          "text": [
            "TensorFlow 1.x selected.\n",
            "  Building wheel for gpt-2-simple (setup.py) ... \u001b[?25l\u001b[?25hdone\n",
            "WARNING:tensorflow:\n",
            "The TensorFlow contrib module will not be included in TensorFlow 2.0.\n",
            "For more information, please see:\n",
            "  * https://github.com/tensorflow/community/blob/master/rfcs/20180907-contrib-sunset.md\n",
            "  * https://github.com/tensorflow/addons\n",
            "  * https://github.com/tensorflow/io (for I/O related ops)\n",
            "If you depend on functionality not listed there, please file an issue.\n",
            "\n"
          ],
          "name": "stdout"
        }
      ]
    },
    {
      "cell_type": "code",
      "metadata": {
        "colab": {
          "base_uri": "https://localhost:8080/"
        },
        "id": "NyN-sdAOVTOl",
        "outputId": "5817bc19-881d-490b-caaa-202f57076403"
      },
      "source": [
        "nltk.download('punkt')\n",
        "nltk.download('stopwords')\n",
        "nltk.download('averaged_perceptron_tagger')"
      ],
      "execution_count": 3,
      "outputs": [
        {
          "output_type": "stream",
          "text": [
            "[nltk_data] Downloading package punkt to /root/nltk_data...\n",
            "[nltk_data]   Unzipping tokenizers/punkt.zip.\n",
            "[nltk_data] Downloading package stopwords to /root/nltk_data...\n",
            "[nltk_data]   Unzipping corpora/stopwords.zip.\n",
            "[nltk_data] Downloading package averaged_perceptron_tagger to\n",
            "[nltk_data]     /root/nltk_data...\n",
            "[nltk_data]   Unzipping taggers/averaged_perceptron_tagger.zip.\n"
          ],
          "name": "stdout"
        },
        {
          "output_type": "execute_result",
          "data": {
            "text/plain": [
              "True"
            ]
          },
          "metadata": {
            "tags": []
          },
          "execution_count": 3
        }
      ]
    },
    {
      "cell_type": "code",
      "metadata": {
        "id": "HxUKVFKmt0u1",
        "colab": {
          "base_uri": "https://localhost:8080/"
        },
        "outputId": "694ea4bd-c812-444d-ec62-7b5887a1169b"
      },
      "source": [
        "# download gpt2 models.  \n",
        "#gpt2.download_gpt2(model_name=\"124M\")\n",
        "gpt2.download_gpt2(model_name=\"355M\")\n",
        "#gpt2.download_gpt2(model_name=\"774M\")\n",
        "#gpt2.download_gpt2(model_name=\"1558M\")"
      ],
      "execution_count": 4,
      "outputs": [
        {
          "output_type": "stream",
          "text": [
            "Fetching checkpoint: 1.05Mit [00:00, 306Mit/s]                                                      \n",
            "Fetching encoder.json: 1.05Mit [00:00, 4.34Mit/s]\n",
            "Fetching hparams.json: 1.05Mit [00:00, 295Mit/s]                                                    \n",
            "Fetching model.ckpt.data-00000-of-00001: 1.42Git [01:10, 20.1Mit/s]                                 \n",
            "Fetching model.ckpt.index: 1.05Mit [00:00, 192Mit/s]                                                \n",
            "Fetching model.ckpt.meta: 1.05Mit [00:00, 4.36Mit/s]\n",
            "Fetching vocab.bpe: 1.05Mit [00:00, 5.63Mit/s]\n"
          ],
          "name": "stderr"
        }
      ]
    },
    {
      "cell_type": "markdown",
      "metadata": {
        "id": "CwdJWDEdAZof"
      },
      "source": [
        "###legacy:  \n",
        "If dataset hasn't been created and splited to train & test dataset"
      ]
    },
    {
      "cell_type": "code",
      "metadata": {
        "id": "gUSMnpAiWeFL"
      },
      "source": [
        "#  copy models to google drive if you want\n",
        "!cp -r /content/models /content/drive/MyDrive "
      ],
      "execution_count": null,
      "outputs": []
    },
    {
      "cell_type": "code",
      "metadata": {
        "id": "i0FPqyGMoezw"
      },
      "source": [
        "# load dataset\n",
        "file_name = \"HarryPotter.txt\"\n",
        "\n",
        "# if no dataset here, create a HarryPotter dataset\n",
        "if not os.path.isfile(file_name):\n",
        "\turl = \"https://raw.githubusercontent.com/YanWang20121865/MSc2021YanWang/main/Second%20update/Dataset/HarryPotter.txt\"\n",
        "\tdata = requests.get(url)\n",
        "\t\n",
        "\twith open(file_name, 'w') as f:\n",
        "\t\tf.write(data.text)"
      ],
      "execution_count": null,
      "outputs": []
    },
    {
      "cell_type": "code",
      "metadata": {
        "id": "fjmuAW7b4Lwk"
      },
      "source": [
        "!export PYTHONIOENCODING=UTF-8"
      ],
      "execution_count": null,
      "outputs": []
    },
    {
      "cell_type": "code",
      "metadata": {
        "id": "5ZBHh4BDA6cO"
      },
      "source": [
        "def train_test_split_fun(file_name, num):\n",
        "  if 0 < num < 1:\n",
        "    # open original txt file\n",
        "    text = open(file_name+'.txt',\"r\", encoding='UTF-8').read()    \n",
        "    # split each line of content in text file \n",
        "    b=re.split('\\n',text)\n",
        "\n",
        "    # check how many lines in total\n",
        "    n=0\n",
        "    for i in b:\n",
        "      n+=1\n",
        "    print(n)\n",
        "\n",
        "    # generage train.txt and test.txt files\n",
        "    f1 = open(file_name+'_train.txt','a')\n",
        "    f2 = open(file_name+'_test.txt','a')\n",
        "    m=0\n",
        "    for i in b:\n",
        "      m+=1\n",
        "      if m<=n*num:    # train : test = num\n",
        "        f1.write(i)\n",
        "      else:\n",
        "        f2.write(i)\n",
        "    #close files\n",
        "    f1.close()\n",
        "    f2.close()\n",
        "  else:\n",
        "    print(\"The training data ratio must between 0 and 1.0! \")"
      ],
      "execution_count": null,
      "outputs": []
    },
    {
      "cell_type": "code",
      "metadata": {
        "id": "2IKzDzooBDev"
      },
      "source": [
        "# code for spliting train & test dataset\n",
        "num = 0.8\n",
        "file_name = 'HarryPotter'\n",
        "train_test_split_fun(file_name, num)"
      ],
      "execution_count": null,
      "outputs": []
    },
    {
      "cell_type": "markdown",
      "metadata": {
        "id": "M9PaFqHSAjpX"
      },
      "source": [
        "###copy dataset from google drive here"
      ]
    },
    {
      "cell_type": "code",
      "metadata": {
        "id": "sjW1SdhdAYSZ"
      },
      "source": [
        "# copy datasets \n",
        "!cp -r /content/drive/MyDrive/Dataset/* /content"
      ],
      "execution_count": 5,
      "outputs": []
    },
    {
      "cell_type": "code",
      "metadata": {
        "id": "T2wMZYJrij2A"
      },
      "source": [
        "# load checkpoint to google drive if in need( if you want to restart training from existed checkpoint)\n",
        "!cp -r /content/drive/MyDrive/checkpoint/ /content/checkpoint/"
      ],
      "execution_count": 6,
      "outputs": []
    },
    {
      "cell_type": "code",
      "metadata": {
        "id": "321S_Qo4B50I"
      },
      "source": [
        "# set file name and model_name for training and generating\n",
        "file_name = 'dataset_top1000'\n",
        "model_name = '355M'"
      ],
      "execution_count": 7,
      "outputs": []
    },
    {
      "cell_type": "markdown",
      "metadata": {
        "id": "8kwMRWI_HCiw"
      },
      "source": [
        "###Train model:"
      ]
    },
    {
      "cell_type": "code",
      "metadata": {
        "id": "bszlok5-3ZW3"
      },
      "source": [
        "sess = gpt2.start_tf_sess()\n",
        "gpt2.finetune(sess,\n",
        "              dataset=file_name+'_train.txt',\n",
        "              model_name=model_name,\n",
        "              steps=10000,\n",
        "              #Set to fresh to start training from the base GPT-2, or set to latest to restart training from an existing checkpoint.\n",
        "              restore_from='latest',   \n",
        "              run_name='run_'+model_name+'_'+file_name,\n",
        "              print_every=10,\n",
        "              sample_every=250,\n",
        "              save_every=500,\n",
        "              \n",
        "              )"
      ],
      "execution_count": null,
      "outputs": []
    },
    {
      "cell_type": "code",
      "metadata": {
        "id": "LiSiwgGC7Yhv"
      },
      "source": [
        "# save checkpoint to google drive \n",
        "!cp -r /content/checkpoint/ /content/drive/MyDrive"
      ],
      "execution_count": null,
      "outputs": []
    },
    {
      "cell_type": "markdown",
      "metadata": {
        "id": "e3qoWxSRJaFT"
      },
      "source": [
        "###Generate story txt file:  "
      ]
    },
    {
      "cell_type": "code",
      "metadata": {
        "id": "eHxe-FtT7xc5",
        "colab": {
          "base_uri": "https://localhost:8080/"
        },
        "outputId": "394b773c-612c-49fe-8c69-6947b9f57f26"
      },
      "source": [
        "# load the model we trained\n",
        "sess = gpt2.start_tf_sess()\n",
        "gpt2.load_gpt2(sess, run_name='run_'+model_name+'_'+file_name)"
      ],
      "execution_count": 8,
      "outputs": [
        {
          "output_type": "stream",
          "text": [
            "Loading checkpoint checkpoint/run_355M_dataset_top1000/model-69501\n",
            "INFO:tensorflow:Restoring parameters from checkpoint/run_355M_dataset_top1000/model-69501\n"
          ],
          "name": "stdout"
        }
      ]
    },
    {
      "cell_type": "code",
      "metadata": {
        "id": "hhu2NN3O8C2J"
      },
      "source": [
        "# generate txt files to save stories\n",
        "# path for generated file\n",
        "gen_file = '/content/drive/MyDrive/Generated Story/run_'+model_name+'_'+file_name+'/{:%Y%m%d_%H%M%S}/'.format(datetime.utcnow())\n",
        "os.makedirs(gen_file)\n"
      ],
      "execution_count": 153,
      "outputs": []
    },
    {
      "cell_type": "code",
      "metadata": {
        "colab": {
          "base_uri": "https://localhost:8080/"
        },
        "id": "H2aGHrVM3gby",
        "outputId": "645d36c8-fc19-45f0-cde5-519ce3fcce0d"
      },
      "source": [
        "start = input(\"Starting sentence:\")\n",
        "gpt2.generate_to_file(sess,\n",
        "                      run_name='run_'+model_name+'_'+file_name,\n",
        "                      destination_path=gen_file+'story.txt',\n",
        "                      prefix=start,  # input starting sentence\n",
        "                      length=500,   # set max length of generated story\n",
        "                      temperature=0.9,  # The higher the temperature, the crazier the text\n",
        "                      nsamples=1,   # set number of generated stories, can generate several samples simultaneously\n",
        "                      batch_size=1,\n",
        "                      )"
      ],
      "execution_count": 154,
      "outputs": [
        {
          "output_type": "stream",
          "text": [
            "Starting sentence:Vampires cannot enter a house uninvited. Turns out, they invented Welcome mats to bypass this rule decades ago.\n"
          ],
          "name": "stdout"
        }
      ]
    },
    {
      "cell_type": "markdown",
      "metadata": {
        "id": "n697QlJeU-eM"
      },
      "source": [
        "#statistics & visualization"
      ]
    },
    {
      "cell_type": "code",
      "metadata": {
        "colab": {
          "base_uri": "https://localhost:8080/"
        },
        "id": "EINmwob0TmvV",
        "outputId": "cabe845d-5a5c-4531-c93f-61e8eb067b4b"
      },
      "source": [
        "# read generated story file\n",
        "with open(gen_file+'story.txt','r+',encoding='UTF-8') as f:\n",
        "  t = f.read()\n",
        "  print(t)"
      ],
      "execution_count": 155,
      "outputs": [
        {
          "output_type": "stream",
          "text": [
            "Vampires cannot enter a house uninvited. Turns out, they invented Welcome mats to bypass this rule decades ago. From the inside of the house, one can see the outside, and the inner thought. They look up to you from whatever they feel like they should be seeing. Behind the stuffies, the actual people, the ones not looking at the aliens, the orders they wait for from the \"higher-ups\", they all come from the same source. The Anglian.The Anglian let the invasion begin because they *want to rule everything by force*. The Anglian has no love for anybody. They don't like their own people. Everyone is afraid of the other *and* the easy way around. One day, the Anglian was going to a gathering of them and they found themselves. Nomad, the street-walker type we're here to meet and greet and know over voice communication. Had no problems understanding me. I don't know why he was there. I mean, when you're coming from a place with just about no culture and play anyway... eventually they get bored so they switch to instant messenger. Y'know like the old days? Sounds weird, but stuck in a 30-minute phone call they have... bad kobbler and there's lots of funny memes on with the world at large... not enough time to go home before they become a cult leader or something... it's the same problem with everybody. Why the aliens came back. Complacency. They dropped supply in the Uzbek where we're fleeing. OK, not the world, but why does it sound like you'd know about Meme Borg, and what's happening here? What are you going to do about it? That's the first question you've got, and I'm in the middle of. Let's see how much difference we can make from here. Just go home. I'll tell you everything, but first:Cuz I'm Agent North, and we're flying one of the pretty ones. It's also the year the aliens hit, but I'll save that for aliens. You know, I don't go by my names sometimes. I believe I'm a little too... public.The other agents are all pretty much the same. They're all cautious, frightened, and attached to mission. I mean the gadgets, the gearheads, all that intertribal technology. I'll tell you that it's not OK; this whole alien invasion has been escalating steadily for the past year and a half. No mission is too extravagant for them\n",
            "\n"
          ],
          "name": "stdout"
        }
      ]
    },
    {
      "cell_type": "markdown",
      "metadata": {
        "id": "CqrdJ25YVywt"
      },
      "source": [
        "###Pre-precess"
      ]
    },
    {
      "cell_type": "code",
      "metadata": {
        "colab": {
          "base_uri": "https://localhost:8080/"
        },
        "id": "XVU0wREhVzQN",
        "outputId": "0ab0d7d9-6c92-46ef-abcc-7e315e39f789"
      },
      "source": [
        "# tokenize words\n",
        "w = word_tokenize(t)\n",
        "print(w)"
      ],
      "execution_count": 156,
      "outputs": [
        {
          "output_type": "stream",
          "text": [
            "['Vampires', 'can', 'not', 'enter', 'a', 'house', 'uninvited', '.', 'Turns', 'out', ',', 'they', 'invented', 'Welcome', 'mats', 'to', 'bypass', 'this', 'rule', 'decades', 'ago', '.', 'From', 'the', 'inside', 'of', 'the', 'house', ',', 'one', 'can', 'see', 'the', 'outside', ',', 'and', 'the', 'inner', 'thought', '.', 'They', 'look', 'up', 'to', 'you', 'from', 'whatever', 'they', 'feel', 'like', 'they', 'should', 'be', 'seeing', '.', 'Behind', 'the', 'stuffies', ',', 'the', 'actual', 'people', ',', 'the', 'ones', 'not', 'looking', 'at', 'the', 'aliens', ',', 'the', 'orders', 'they', 'wait', 'for', 'from', 'the', '``', 'higher-ups', \"''\", ',', 'they', 'all', 'come', 'from', 'the', 'same', 'source', '.', 'The', 'Anglian.The', 'Anglian', 'let', 'the', 'invasion', 'begin', 'because', 'they', '*want', 'to', 'rule', 'everything', 'by', 'force*', '.', 'The', 'Anglian', 'has', 'no', 'love', 'for', 'anybody', '.', 'They', 'do', \"n't\", 'like', 'their', 'own', 'people', '.', 'Everyone', 'is', 'afraid', 'of', 'the', 'other', '*and*', 'the', 'easy', 'way', 'around', '.', 'One', 'day', ',', 'the', 'Anglian', 'was', 'going', 'to', 'a', 'gathering', 'of', 'them', 'and', 'they', 'found', 'themselves', '.', 'Nomad', ',', 'the', 'street-walker', 'type', 'we', \"'re\", 'here', 'to', 'meet', 'and', 'greet', 'and', 'know', 'over', 'voice', 'communication', '.', 'Had', 'no', 'problems', 'understanding', 'me', '.', 'I', 'do', \"n't\", 'know', 'why', 'he', 'was', 'there', '.', 'I', 'mean', ',', 'when', 'you', \"'re\", 'coming', 'from', 'a', 'place', 'with', 'just', 'about', 'no', 'culture', 'and', 'play', 'anyway', '...', 'eventually', 'they', 'get', 'bored', 'so', 'they', 'switch', 'to', 'instant', 'messenger', '.', \"Y'know\", 'like', 'the', 'old', 'days', '?', 'Sounds', 'weird', ',', 'but', 'stuck', 'in', 'a', '30-minute', 'phone', 'call', 'they', 'have', '...', 'bad', 'kobbler', 'and', 'there', \"'s\", 'lots', 'of', 'funny', 'memes', 'on', 'with', 'the', 'world', 'at', 'large', '...', 'not', 'enough', 'time', 'to', 'go', 'home', 'before', 'they', 'become', 'a', 'cult', 'leader', 'or', 'something', '...', 'it', \"'s\", 'the', 'same', 'problem', 'with', 'everybody', '.', 'Why', 'the', 'aliens', 'came', 'back', '.', 'Complacency', '.', 'They', 'dropped', 'supply', 'in', 'the', 'Uzbek', 'where', 'we', \"'re\", 'fleeing', '.', 'OK', ',', 'not', 'the', 'world', ',', 'but', 'why', 'does', 'it', 'sound', 'like', 'you', \"'d\", 'know', 'about', 'Meme', 'Borg', ',', 'and', 'what', \"'s\", 'happening', 'here', '?', 'What', 'are', 'you', 'going', 'to', 'do', 'about', 'it', '?', 'That', \"'s\", 'the', 'first', 'question', 'you', \"'ve\", 'got', ',', 'and', 'I', \"'m\", 'in', 'the', 'middle', 'of', '.', 'Let', \"'s\", 'see', 'how', 'much', 'difference', 'we', 'can', 'make', 'from', 'here', '.', 'Just', 'go', 'home', '.', 'I', \"'ll\", 'tell', 'you', 'everything', ',', 'but', 'first', ':', 'Cuz', 'I', \"'m\", 'Agent', 'North', ',', 'and', 'we', \"'re\", 'flying', 'one', 'of', 'the', 'pretty', 'ones', '.', 'It', \"'s\", 'also', 'the', 'year', 'the', 'aliens', 'hit', ',', 'but', 'I', \"'ll\", 'save', 'that', 'for', 'aliens', '.', 'You', 'know', ',', 'I', 'do', \"n't\", 'go', 'by', 'my', 'names', 'sometimes', '.', 'I', 'believe', 'I', \"'m\", 'a', 'little', 'too', '...', 'public.The', 'other', 'agents', 'are', 'all', 'pretty', 'much', 'the', 'same', '.', 'They', \"'re\", 'all', 'cautious', ',', 'frightened', ',', 'and', 'attached', 'to', 'mission', '.', 'I', 'mean', 'the', 'gadgets', ',', 'the', 'gearheads', ',', 'all', 'that', 'intertribal', 'technology', '.', 'I', \"'ll\", 'tell', 'you', 'that', 'it', \"'s\", 'not', 'OK', ';', 'this', 'whole', 'alien', 'invasion', 'has', 'been', 'escalating', 'steadily', 'for', 'the', 'past', 'year', 'and', 'a', 'half', '.', 'No', 'mission', 'is', 'too', 'extravagant', 'for', 'them']\n"
          ],
          "name": "stdout"
        }
      ]
    },
    {
      "cell_type": "code",
      "metadata": {
        "colab": {
          "base_uri": "https://localhost:8080/"
        },
        "id": "-PsJ9etoV2Wc",
        "outputId": "7906a0c8-d24d-4585-d8f9-ab27aa2d5684"
      },
      "source": [
        "# tagging the part of speech each word belongs to\n",
        "tw = pos_tag(w)\n",
        "print(tw)"
      ],
      "execution_count": 157,
      "outputs": [
        {
          "output_type": "stream",
          "text": [
            "[('Vampires', 'NNS'), ('can', 'MD'), ('not', 'RB'), ('enter', 'VB'), ('a', 'DT'), ('house', 'NN'), ('uninvited', 'JJ'), ('.', '.'), ('Turns', 'VBZ'), ('out', 'RP'), (',', ','), ('they', 'PRP'), ('invented', 'VBD'), ('Welcome', 'NNP'), ('mats', 'NNS'), ('to', 'TO'), ('bypass', 'VB'), ('this', 'DT'), ('rule', 'NN'), ('decades', 'VBZ'), ('ago', 'RB'), ('.', '.'), ('From', 'IN'), ('the', 'DT'), ('inside', 'NN'), ('of', 'IN'), ('the', 'DT'), ('house', 'NN'), (',', ','), ('one', 'CD'), ('can', 'MD'), ('see', 'VB'), ('the', 'DT'), ('outside', 'JJ'), (',', ','), ('and', 'CC'), ('the', 'DT'), ('inner', 'JJ'), ('thought', 'NN'), ('.', '.'), ('They', 'PRP'), ('look', 'VBP'), ('up', 'RP'), ('to', 'TO'), ('you', 'PRP'), ('from', 'IN'), ('whatever', 'WDT'), ('they', 'PRP'), ('feel', 'VBP'), ('like', 'IN'), ('they', 'PRP'), ('should', 'MD'), ('be', 'VB'), ('seeing', 'VBG'), ('.', '.'), ('Behind', 'IN'), ('the', 'DT'), ('stuffies', 'NNS'), (',', ','), ('the', 'DT'), ('actual', 'JJ'), ('people', 'NNS'), (',', ','), ('the', 'DT'), ('ones', 'NNS'), ('not', 'RB'), ('looking', 'VBG'), ('at', 'IN'), ('the', 'DT'), ('aliens', 'NNS'), (',', ','), ('the', 'DT'), ('orders', 'NNS'), ('they', 'PRP'), ('wait', 'VBP'), ('for', 'IN'), ('from', 'IN'), ('the', 'DT'), ('``', '``'), ('higher-ups', 'JJ'), (\"''\", \"''\"), (',', ','), ('they', 'PRP'), ('all', 'DT'), ('come', 'VBP'), ('from', 'IN'), ('the', 'DT'), ('same', 'JJ'), ('source', 'NN'), ('.', '.'), ('The', 'DT'), ('Anglian.The', 'NNP'), ('Anglian', 'NNP'), ('let', 'VBD'), ('the', 'DT'), ('invasion', 'NN'), ('begin', 'NN'), ('because', 'IN'), ('they', 'PRP'), ('*want', 'VBP'), ('to', 'TO'), ('rule', 'VB'), ('everything', 'NN'), ('by', 'IN'), ('force*', 'NN'), ('.', '.'), ('The', 'DT'), ('Anglian', 'NNP'), ('has', 'VBZ'), ('no', 'DT'), ('love', 'NN'), ('for', 'IN'), ('anybody', 'NN'), ('.', '.'), ('They', 'PRP'), ('do', 'VBP'), (\"n't\", 'RB'), ('like', 'VB'), ('their', 'PRP$'), ('own', 'JJ'), ('people', 'NNS'), ('.', '.'), ('Everyone', 'NN'), ('is', 'VBZ'), ('afraid', 'VBN'), ('of', 'IN'), ('the', 'DT'), ('other', 'JJ'), ('*and*', 'VBD'), ('the', 'DT'), ('easy', 'JJ'), ('way', 'NN'), ('around', 'IN'), ('.', '.'), ('One', 'CD'), ('day', 'NN'), (',', ','), ('the', 'DT'), ('Anglian', 'NNP'), ('was', 'VBD'), ('going', 'VBG'), ('to', 'TO'), ('a', 'DT'), ('gathering', 'NN'), ('of', 'IN'), ('them', 'PRP'), ('and', 'CC'), ('they', 'PRP'), ('found', 'VBD'), ('themselves', 'PRP'), ('.', '.'), ('Nomad', 'NNP'), (',', ','), ('the', 'DT'), ('street-walker', 'NN'), ('type', 'NN'), ('we', 'PRP'), (\"'re\", 'VBP'), ('here', 'RB'), ('to', 'TO'), ('meet', 'VB'), ('and', 'CC'), ('greet', 'VB'), ('and', 'CC'), ('know', 'VB'), ('over', 'IN'), ('voice', 'JJ'), ('communication', 'NN'), ('.', '.'), ('Had', 'VBD'), ('no', 'DT'), ('problems', 'NNS'), ('understanding', 'VBG'), ('me', 'PRP'), ('.', '.'), ('I', 'PRP'), ('do', 'VBP'), (\"n't\", 'RB'), ('know', 'VB'), ('why', 'WRB'), ('he', 'PRP'), ('was', 'VBD'), ('there', 'RB'), ('.', '.'), ('I', 'PRP'), ('mean', 'VBP'), (',', ','), ('when', 'WRB'), ('you', 'PRP'), (\"'re\", 'VBP'), ('coming', 'VBG'), ('from', 'IN'), ('a', 'DT'), ('place', 'NN'), ('with', 'IN'), ('just', 'RB'), ('about', 'IN'), ('no', 'DT'), ('culture', 'NN'), ('and', 'CC'), ('play', 'VB'), ('anyway', 'RB'), ('...', ':'), ('eventually', 'RB'), ('they', 'PRP'), ('get', 'VBP'), ('bored', 'VBN'), ('so', 'RB'), ('they', 'PRP'), ('switch', 'VBP'), ('to', 'TO'), ('instant', 'VB'), ('messenger', 'NN'), ('.', '.'), (\"Y'know\", 'CC'), ('like', 'IN'), ('the', 'DT'), ('old', 'JJ'), ('days', 'NNS'), ('?', '.'), ('Sounds', 'NNP'), ('weird', 'JJ'), (',', ','), ('but', 'CC'), ('stuck', 'VBD'), ('in', 'IN'), ('a', 'DT'), ('30-minute', 'JJ'), ('phone', 'NN'), ('call', 'NN'), ('they', 'PRP'), ('have', 'VBP'), ('...', ':'), ('bad', 'JJ'), ('kobbler', 'NN'), ('and', 'CC'), ('there', 'EX'), (\"'s\", 'VBZ'), ('lots', 'NNS'), ('of', 'IN'), ('funny', 'JJ'), ('memes', 'NNS'), ('on', 'IN'), ('with', 'IN'), ('the', 'DT'), ('world', 'NN'), ('at', 'IN'), ('large', 'JJ'), ('...', ':'), ('not', 'RB'), ('enough', 'JJ'), ('time', 'NN'), ('to', 'TO'), ('go', 'VB'), ('home', 'NN'), ('before', 'IN'), ('they', 'PRP'), ('become', 'VBP'), ('a', 'DT'), ('cult', 'JJ'), ('leader', 'NN'), ('or', 'CC'), ('something', 'NN'), ('...', ':'), ('it', 'PRP'), (\"'s\", 'VBZ'), ('the', 'DT'), ('same', 'JJ'), ('problem', 'NN'), ('with', 'IN'), ('everybody', 'NN'), ('.', '.'), ('Why', 'WRB'), ('the', 'DT'), ('aliens', 'NNS'), ('came', 'VBD'), ('back', 'RB'), ('.', '.'), ('Complacency', 'NN'), ('.', '.'), ('They', 'PRP'), ('dropped', 'VBD'), ('supply', 'NN'), ('in', 'IN'), ('the', 'DT'), ('Uzbek', 'NNP'), ('where', 'WRB'), ('we', 'PRP'), (\"'re\", 'VBP'), ('fleeing', 'VBG'), ('.', '.'), ('OK', 'UH'), (',', ','), ('not', 'RB'), ('the', 'DT'), ('world', 'NN'), (',', ','), ('but', 'CC'), ('why', 'WRB'), ('does', 'VBZ'), ('it', 'PRP'), ('sound', 'VB'), ('like', 'IN'), ('you', 'PRP'), (\"'d\", 'MD'), ('know', 'VB'), ('about', 'IN'), ('Meme', 'NNP'), ('Borg', 'NNP'), (',', ','), ('and', 'CC'), ('what', 'WP'), (\"'s\", 'VBZ'), ('happening', 'VBG'), ('here', 'RB'), ('?', '.'), ('What', 'WP'), ('are', 'VBP'), ('you', 'PRP'), ('going', 'VBG'), ('to', 'TO'), ('do', 'VB'), ('about', 'IN'), ('it', 'PRP'), ('?', '.'), ('That', 'DT'), (\"'s\", 'VBZ'), ('the', 'DT'), ('first', 'JJ'), ('question', 'NN'), ('you', 'PRP'), (\"'ve\", 'VBP'), ('got', 'VBN'), (',', ','), ('and', 'CC'), ('I', 'PRP'), (\"'m\", 'VBP'), ('in', 'IN'), ('the', 'DT'), ('middle', 'NN'), ('of', 'IN'), ('.', '.'), ('Let', 'VB'), (\"'s\", 'POS'), ('see', 'VB'), ('how', 'WRB'), ('much', 'JJ'), ('difference', 'NN'), ('we', 'PRP'), ('can', 'MD'), ('make', 'VB'), ('from', 'IN'), ('here', 'RB'), ('.', '.'), ('Just', 'NNP'), ('go', 'VBP'), ('home', 'NN'), ('.', '.'), ('I', 'PRP'), (\"'ll\", 'MD'), ('tell', 'VB'), ('you', 'PRP'), ('everything', 'NN'), (',', ','), ('but', 'CC'), ('first', 'JJ'), (':', ':'), ('Cuz', 'NN'), ('I', 'PRP'), (\"'m\", 'VBP'), ('Agent', 'JJ'), ('North', 'NNP'), (',', ','), ('and', 'CC'), ('we', 'PRP'), (\"'re\", 'VBP'), ('flying', 'VBG'), ('one', 'CD'), ('of', 'IN'), ('the', 'DT'), ('pretty', 'JJ'), ('ones', 'NNS'), ('.', '.'), ('It', 'PRP'), (\"'s\", 'VBZ'), ('also', 'RB'), ('the', 'DT'), ('year', 'NN'), ('the', 'DT'), ('aliens', 'NNS'), ('hit', 'VBN'), (',', ','), ('but', 'CC'), ('I', 'PRP'), (\"'ll\", 'MD'), ('save', 'VB'), ('that', 'DT'), ('for', 'IN'), ('aliens', 'NNS'), ('.', '.'), ('You', 'PRP'), ('know', 'VBP'), (',', ','), ('I', 'PRP'), ('do', 'VBP'), (\"n't\", 'RB'), ('go', 'VB'), ('by', 'IN'), ('my', 'PRP$'), ('names', 'NNS'), ('sometimes', 'RB'), ('.', '.'), ('I', 'PRP'), ('believe', 'VBP'), ('I', 'PRP'), (\"'m\", 'VBP'), ('a', 'DT'), ('little', 'JJ'), ('too', 'RB'), ('...', ':'), ('public.The', 'VBZ'), ('other', 'JJ'), ('agents', 'NNS'), ('are', 'VBP'), ('all', 'DT'), ('pretty', 'RB'), ('much', 'JJ'), ('the', 'DT'), ('same', 'JJ'), ('.', '.'), ('They', 'PRP'), (\"'re\", 'VBP'), ('all', 'DT'), ('cautious', 'JJ'), (',', ','), ('frightened', 'VBN'), (',', ','), ('and', 'CC'), ('attached', 'VBD'), ('to', 'TO'), ('mission', 'NN'), ('.', '.'), ('I', 'PRP'), ('mean', 'VBP'), ('the', 'DT'), ('gadgets', 'NNS'), (',', ','), ('the', 'DT'), ('gearheads', 'NNS'), (',', ','), ('all', 'PDT'), ('that', 'DT'), ('intertribal', 'JJ'), ('technology', 'NN'), ('.', '.'), ('I', 'PRP'), (\"'ll\", 'MD'), ('tell', 'VB'), ('you', 'PRP'), ('that', 'IN'), ('it', 'PRP'), (\"'s\", 'VBZ'), ('not', 'RB'), ('OK', 'JJ'), (';', ':'), ('this', 'DT'), ('whole', 'JJ'), ('alien', 'NN'), ('invasion', 'NN'), ('has', 'VBZ'), ('been', 'VBN'), ('escalating', 'VBG'), ('steadily', 'RB'), ('for', 'IN'), ('the', 'DT'), ('past', 'JJ'), ('year', 'NN'), ('and', 'CC'), ('a', 'DT'), ('half', 'NN'), ('.', '.'), ('No', 'DT'), ('mission', 'NN'), ('is', 'VBZ'), ('too', 'RB'), ('extravagant', 'JJ'), ('for', 'IN'), ('them', 'PRP')]\n"
          ],
          "name": "stdout"
        }
      ]
    },
    {
      "cell_type": "code",
      "metadata": {
        "colab": {
          "base_uri": "https://localhost:8080/"
        },
        "id": "lzPQMuQ2V320",
        "outputId": "1ceff740-bb16-49a6-e817-496414a8bed1"
      },
      "source": [
        "# extract the names and spaces from the story\n",
        "name = []\n",
        "for i in tw:\n",
        "  if i[1] in ('NNP','NNPS'):\n",
        "    name.append(i[0])\n",
        "print(name)"
      ],
      "execution_count": 158,
      "outputs": [
        {
          "output_type": "stream",
          "text": [
            "['Welcome', 'Anglian.The', 'Anglian', 'Anglian', 'Anglian', 'Nomad', 'Sounds', 'Uzbek', 'Meme', 'Borg', 'Just', 'North']\n"
          ],
          "name": "stdout"
        }
      ]
    },
    {
      "cell_type": "code",
      "metadata": {
        "colab": {
          "base_uri": "https://localhost:8080/"
        },
        "id": "BGFGjr0ZV5bz",
        "outputId": "176cf156-c436-449e-ea03-4545d2c5af39"
      },
      "source": [
        "# do pre-process to story file\n",
        "\n",
        "# Convert to lower case\n",
        "t = t.lower()\n",
        "# Replaces URLs with the word URL\n",
        "t = re.sub(r'((www\\.[\\S]+)|(https?://[\\S]+))', '', t)\n",
        "w = word_tokenize(t)\n",
        "\n",
        "tmp = []\n",
        "word_cleaned = []\n",
        "for i in w:\n",
        "# Remove punctuation\n",
        "  i = i.strip('\\'“”&\"?!,.():;``')\n",
        "  # Convert more than 2 letter repetitions to 2 letter\n",
        "  i = re.sub(r'(.)\\1+', r'\\1\\1', i)\n",
        "  # Remove - & '\n",
        "  i = re.sub(r'(-|\\')', '', i)\n",
        "  # keep the initial of names and places in the story in capital letter \n",
        "  if i.capitalize() in name:\n",
        "    i = i.capitalize()\n",
        "  if i is not '':\n",
        "    tmp.append(i)\n",
        "print('tmp: ',tmp)\n",
        "\n",
        "# remove stopwords\n",
        "stop_words = nltk.corpus.stopwords.words('english')\n",
        "for i in tmp:\n",
        "  if i not in stop_words:\n",
        "    word_cleaned.append(i)  \n",
        "w = word_cleaned\n",
        "print('final wordlist:',w)"
      ],
      "execution_count": 159,
      "outputs": [
        {
          "output_type": "stream",
          "text": [
            "tmp:  ['vampires', 'can', 'not', 'enter', 'a', 'house', 'uninvited', 'turns', 'out', 'they', 'invented', 'Welcome', 'mats', 'to', 'bypass', 'this', 'rule', 'decades', 'ago', 'from', 'the', 'inside', 'of', 'the', 'house', 'one', 'can', 'see', 'the', 'outside', 'and', 'the', 'inner', 'thought', 'they', 'look', 'up', 'to', 'you', 'from', 'whatever', 'they', 'feel', 'like', 'they', 'should', 'be', 'seeing', 'behind', 'the', 'stuffies', 'the', 'actual', 'people', 'the', 'ones', 'not', 'looking', 'at', 'the', 'aliens', 'the', 'orders', 'they', 'wait', 'for', 'from', 'the', 'higherups', 'they', 'all', 'come', 'from', 'the', 'same', 'source', 'the', 'anglian.the', 'Anglian', 'let', 'the', 'invasion', 'begin', 'because', 'they', '*want', 'to', 'rule', 'everything', 'by', 'force*', 'the', 'Anglian', 'has', 'no', 'love', 'for', 'anybody', 'they', 'do', 'nt', 'like', 'their', 'own', 'people', 'everyone', 'is', 'afraid', 'of', 'the', 'other', '*and*', 'the', 'easy', 'way', 'around', 'one', 'day', 'the', 'Anglian', 'was', 'going', 'to', 'a', 'gathering', 'of', 'them', 'and', 'they', 'found', 'themselves', 'Nomad', 'the', 'streetwalker', 'type', 'we', 're', 'here', 'to', 'meet', 'and', 'greet', 'and', 'know', 'over', 'voice', 'communication', 'had', 'no', 'problems', 'understanding', 'me', 'i', 'do', 'nt', 'know', 'why', 'he', 'was', 'there', 'i', 'mean', 'when', 'you', 're', 'coming', 'from', 'a', 'place', 'with', 'Just', 'about', 'no', 'culture', 'and', 'play', 'anyway', 'eventually', 'they', 'get', 'bored', 'so', 'they', 'switch', 'to', 'instant', 'messenger', 'yknow', 'like', 'the', 'old', 'days', 'Sounds', 'weird', 'but', 'stuck', 'in', 'a', '30minute', 'phone', 'call', 'they', 'have', 'bad', 'kobbler', 'and', 'there', 's', 'lots', 'of', 'funny', 'memes', 'on', 'with', 'the', 'world', 'at', 'large', 'not', 'enough', 'time', 'to', 'go', 'home', 'before', 'they', 'become', 'a', 'cult', 'leader', 'or', 'something', 'it', 's', 'the', 'same', 'problem', 'with', 'everybody', 'why', 'the', 'aliens', 'came', 'back', 'complacency', 'they', 'dropped', 'supply', 'in', 'the', 'Uzbek', 'where', 'we', 're', 'fleeing', 'ok', 'not', 'the', 'world', 'but', 'why', 'does', 'it', 'sound', 'like', 'you', 'd', 'know', 'about', 'Meme', 'Borg', 'and', 'what', 's', 'happening', 'here', 'what', 'are', 'you', 'going', 'to', 'do', 'about', 'it', 'that', 's', 'the', 'first', 'question', 'you', 've', 'got', 'and', 'i', 'm', 'in', 'the', 'middle', 'of', 'let', 's', 'see', 'how', 'much', 'difference', 'we', 'can', 'make', 'from', 'here', 'Just', 'go', 'home', 'i', 'll', 'tell', 'you', 'everything', 'but', 'first', 'cuz', 'i', 'm', 'agent', 'North', 'and', 'we', 're', 'flying', 'one', 'of', 'the', 'pretty', 'ones', 'it', 's', 'also', 'the', 'year', 'the', 'aliens', 'hit', 'but', 'i', 'll', 'save', 'that', 'for', 'aliens', 'you', 'know', 'i', 'do', 'nt', 'go', 'by', 'my', 'names', 'sometimes', 'i', 'believe', 'i', 'm', 'a', 'little', 'too', 'public.the', 'other', 'agents', 'are', 'all', 'pretty', 'much', 'the', 'same', 'they', 're', 'all', 'cautious', 'frightened', 'and', 'attached', 'to', 'mission', 'i', 'mean', 'the', 'gadgets', 'the', 'gearheads', 'all', 'that', 'intertribal', 'technology', 'i', 'll', 'tell', 'you', 'that', 'it', 's', 'not', 'ok', 'this', 'whole', 'alien', 'invasion', 'has', 'been', 'escalating', 'steadily', 'for', 'the', 'past', 'year', 'and', 'a', 'half', 'no', 'mission', 'is', 'too', 'extravagant', 'for', 'them']\n",
            "final wordlist: ['vampires', 'enter', 'house', 'uninvited', 'turns', 'invented', 'Welcome', 'mats', 'bypass', 'rule', 'decades', 'ago', 'inside', 'house', 'one', 'see', 'outside', 'inner', 'thought', 'look', 'whatever', 'feel', 'like', 'seeing', 'behind', 'stuffies', 'actual', 'people', 'ones', 'looking', 'aliens', 'orders', 'wait', 'higherups', 'come', 'source', 'anglian.the', 'Anglian', 'let', 'invasion', 'begin', '*want', 'rule', 'everything', 'force*', 'Anglian', 'love', 'anybody', 'nt', 'like', 'people', 'everyone', 'afraid', '*and*', 'easy', 'way', 'around', 'one', 'day', 'Anglian', 'going', 'gathering', 'found', 'Nomad', 'streetwalker', 'type', 'meet', 'greet', 'know', 'voice', 'communication', 'problems', 'understanding', 'nt', 'know', 'mean', 'coming', 'place', 'Just', 'culture', 'play', 'anyway', 'eventually', 'get', 'bored', 'switch', 'instant', 'messenger', 'yknow', 'like', 'old', 'days', 'Sounds', 'weird', 'stuck', '30minute', 'phone', 'call', 'bad', 'kobbler', 'lots', 'funny', 'memes', 'world', 'large', 'enough', 'time', 'go', 'home', 'become', 'cult', 'leader', 'something', 'problem', 'everybody', 'aliens', 'came', 'back', 'complacency', 'dropped', 'supply', 'Uzbek', 'fleeing', 'ok', 'world', 'sound', 'like', 'know', 'Meme', 'Borg', 'happening', 'going', 'first', 'question', 'got', 'middle', 'let', 'see', 'much', 'difference', 'make', 'Just', 'go', 'home', 'tell', 'everything', 'first', 'cuz', 'agent', 'North', 'flying', 'one', 'pretty', 'ones', 'also', 'year', 'aliens', 'hit', 'save', 'aliens', 'know', 'nt', 'go', 'names', 'sometimes', 'believe', 'little', 'public.the', 'agents', 'pretty', 'much', 'cautious', 'frightened', 'attached', 'mission', 'mean', 'gadgets', 'gearheads', 'intertribal', 'technology', 'tell', 'ok', 'whole', 'alien', 'invasion', 'escalating', 'steadily', 'past', 'year', 'half', 'mission', 'extravagant']\n"
          ],
          "name": "stdout"
        }
      ]
    },
    {
      "cell_type": "markdown",
      "metadata": {
        "id": "QNPStRZ2V8S7"
      },
      "source": [
        "###Count words"
      ]
    },
    {
      "cell_type": "code",
      "metadata": {
        "colab": {
          "base_uri": "https://localhost:8080/"
        },
        "id": "_HYMU9kJWAHU",
        "outputId": "615e9371-557e-45df-b802-1e28ae259338"
      },
      "source": [
        "# count the number of each word\n",
        "word_count = {}\n",
        "for i in w:\n",
        "  if i in word_count:\n",
        "    word_count[i] += 1\n",
        "  else:\n",
        "    word_count[i] = 1\n",
        "print(word_count)"
      ],
      "execution_count": 160,
      "outputs": [
        {
          "output_type": "stream",
          "text": [
            "{'vampires': 1, 'enter': 1, 'house': 2, 'uninvited': 1, 'turns': 1, 'invented': 1, 'Welcome': 1, 'mats': 1, 'bypass': 1, 'rule': 2, 'decades': 1, 'ago': 1, 'inside': 1, 'one': 3, 'see': 2, 'outside': 1, 'inner': 1, 'thought': 1, 'look': 1, 'whatever': 1, 'feel': 1, 'like': 4, 'seeing': 1, 'behind': 1, 'stuffies': 1, 'actual': 1, 'people': 2, 'ones': 2, 'looking': 1, 'aliens': 4, 'orders': 1, 'wait': 1, 'higherups': 1, 'come': 1, 'source': 1, 'anglian.the': 1, 'Anglian': 3, 'let': 2, 'invasion': 2, 'begin': 1, '*want': 1, 'everything': 2, 'force*': 1, 'love': 1, 'anybody': 1, 'nt': 3, 'everyone': 1, 'afraid': 1, '*and*': 1, 'easy': 1, 'way': 1, 'around': 1, 'day': 1, 'going': 2, 'gathering': 1, 'found': 1, 'Nomad': 1, 'streetwalker': 1, 'type': 1, 'meet': 1, 'greet': 1, 'know': 4, 'voice': 1, 'communication': 1, 'problems': 1, 'understanding': 1, 'mean': 2, 'coming': 1, 'place': 1, 'Just': 2, 'culture': 1, 'play': 1, 'anyway': 1, 'eventually': 1, 'get': 1, 'bored': 1, 'switch': 1, 'instant': 1, 'messenger': 1, 'yknow': 1, 'old': 1, 'days': 1, 'Sounds': 1, 'weird': 1, 'stuck': 1, '30minute': 1, 'phone': 1, 'call': 1, 'bad': 1, 'kobbler': 1, 'lots': 1, 'funny': 1, 'memes': 1, 'world': 2, 'large': 1, 'enough': 1, 'time': 1, 'go': 3, 'home': 2, 'become': 1, 'cult': 1, 'leader': 1, 'something': 1, 'problem': 1, 'everybody': 1, 'came': 1, 'back': 1, 'complacency': 1, 'dropped': 1, 'supply': 1, 'Uzbek': 1, 'fleeing': 1, 'ok': 2, 'sound': 1, 'Meme': 1, 'Borg': 1, 'happening': 1, 'first': 2, 'question': 1, 'got': 1, 'middle': 1, 'much': 2, 'difference': 1, 'make': 1, 'tell': 2, 'cuz': 1, 'agent': 1, 'North': 1, 'flying': 1, 'pretty': 2, 'also': 1, 'year': 2, 'hit': 1, 'save': 1, 'names': 1, 'sometimes': 1, 'believe': 1, 'little': 1, 'public.the': 1, 'agents': 1, 'cautious': 1, 'frightened': 1, 'attached': 1, 'mission': 2, 'gadgets': 1, 'gearheads': 1, 'intertribal': 1, 'technology': 1, 'whole': 1, 'alien': 1, 'escalating': 1, 'steadily': 1, 'past': 1, 'half': 1, 'extravagant': 1}\n"
          ],
          "name": "stdout"
        }
      ]
    },
    {
      "cell_type": "markdown",
      "metadata": {
        "id": "SA8ZsqhbWCu0"
      },
      "source": [
        "### split the part of speech"
      ]
    },
    {
      "cell_type": "code",
      "metadata": {
        "colab": {
          "base_uri": "https://localhost:8080/"
        },
        "id": "R6A6RYmMWEmd",
        "outputId": "7fbd0b77-ee01-4b40-cb00-5e89faf319e0"
      },
      "source": [
        "# extract the noun \n",
        "noun = []\n",
        "for i in tw:\n",
        "  if i[1] in ('NN','NNS','NNP','NNPS'):\n",
        "    noun.append(i[0])\n",
        "print(noun)"
      ],
      "execution_count": 161,
      "outputs": [
        {
          "output_type": "stream",
          "text": [
            "['Vampires', 'house', 'Welcome', 'mats', 'rule', 'inside', 'house', 'thought', 'stuffies', 'people', 'ones', 'aliens', 'orders', 'source', 'Anglian.The', 'Anglian', 'invasion', 'begin', 'everything', 'force*', 'Anglian', 'love', 'anybody', 'people', 'Everyone', 'way', 'day', 'Anglian', 'gathering', 'Nomad', 'street-walker', 'type', 'communication', 'problems', 'place', 'culture', 'messenger', 'days', 'Sounds', 'phone', 'call', 'kobbler', 'lots', 'memes', 'world', 'time', 'home', 'leader', 'something', 'problem', 'everybody', 'aliens', 'Complacency', 'supply', 'Uzbek', 'world', 'Meme', 'Borg', 'question', 'middle', 'difference', 'Just', 'home', 'everything', 'Cuz', 'North', 'ones', 'year', 'aliens', 'aliens', 'names', 'agents', 'mission', 'gadgets', 'gearheads', 'technology', 'alien', 'invasion', 'year', 'half', 'mission']\n"
          ],
          "name": "stdout"
        }
      ]
    },
    {
      "cell_type": "code",
      "metadata": {
        "colab": {
          "base_uri": "https://localhost:8080/"
        },
        "id": "XCAVslnMWG_D",
        "outputId": "cd221c3b-5772-4e92-bebf-bcab3d6a893b"
      },
      "source": [
        "# extract verb\n",
        "verb = []\n",
        "for i in tw:\n",
        "  if i[1] in ('VB','VBD','VBG','VBN','VBP','VBZ'):\n",
        "    verb.append(i[0])\n",
        "print(verb)"
      ],
      "execution_count": 162,
      "outputs": [
        {
          "output_type": "stream",
          "text": [
            "['enter', 'Turns', 'invented', 'bypass', 'decades', 'see', 'look', 'feel', 'be', 'seeing', 'looking', 'wait', 'come', 'let', '*want', 'rule', 'has', 'do', 'like', 'is', 'afraid', '*and*', 'was', 'going', 'found', \"'re\", 'meet', 'greet', 'know', 'Had', 'understanding', 'do', 'know', 'was', 'mean', \"'re\", 'coming', 'play', 'get', 'bored', 'switch', 'instant', 'stuck', 'have', \"'s\", 'go', 'become', \"'s\", 'came', 'dropped', \"'re\", 'fleeing', 'does', 'sound', 'know', \"'s\", 'happening', 'are', 'going', 'do', \"'s\", \"'ve\", 'got', \"'m\", 'Let', 'see', 'make', 'go', 'tell', \"'m\", \"'re\", 'flying', \"'s\", 'hit', 'save', 'know', 'do', 'go', 'believe', \"'m\", 'public.The', 'are', \"'re\", 'frightened', 'attached', 'mean', 'tell', \"'s\", 'has', 'been', 'escalating', 'is']\n"
          ],
          "name": "stdout"
        }
      ]
    },
    {
      "cell_type": "code",
      "metadata": {
        "colab": {
          "base_uri": "https://localhost:8080/"
        },
        "id": "9jqSPH4RWI69",
        "outputId": "6d9e56d3-4d8f-4e70-e2f3-2e17d0ac20c7"
      },
      "source": [
        "# extract adjective\n",
        "adj = []\n",
        "for i in tw:\n",
        "  if i[1] in ('JJ','JJR','JJS'):\n",
        "    adj.append(i[0])\n",
        "print(adj)\n"
      ],
      "execution_count": 163,
      "outputs": [
        {
          "output_type": "stream",
          "text": [
            "['uninvited', 'outside', 'inner', 'actual', 'higher-ups', 'same', 'own', 'other', 'easy', 'voice', 'old', 'weird', '30-minute', 'bad', 'funny', 'large', 'enough', 'cult', 'same', 'first', 'much', 'first', 'Agent', 'pretty', 'little', 'other', 'much', 'same', 'cautious', 'intertribal', 'OK', 'whole', 'past', 'extravagant']\n"
          ],
          "name": "stdout"
        }
      ]
    },
    {
      "cell_type": "code",
      "metadata": {
        "colab": {
          "base_uri": "https://localhost:8080/"
        },
        "id": "9PUi9VYoWK0z",
        "outputId": "be558ea8-1d66-4f15-c696-3c07d069bf85"
      },
      "source": [
        "# extract adverb\n",
        "adv = []\n",
        "for i in tw:\n",
        "  if i[1] in ('RB','RBR','RBS'):\n",
        "    adv.append(i[0])\n",
        "print(adv)"
      ],
      "execution_count": 164,
      "outputs": [
        {
          "output_type": "stream",
          "text": [
            "['not', 'ago', 'not', \"n't\", 'here', \"n't\", 'there', 'just', 'anyway', 'eventually', 'so', 'not', 'back', 'not', 'here', 'here', 'also', \"n't\", 'sometimes', 'too', 'pretty', 'not', 'steadily', 'too']\n"
          ],
          "name": "stdout"
        }
      ]
    },
    {
      "cell_type": "markdown",
      "metadata": {
        "id": "wCy30b84WO4e"
      },
      "source": [
        "###Count number of word in each part of speech"
      ]
    },
    {
      "cell_type": "code",
      "metadata": {
        "colab": {
          "base_uri": "https://localhost:8080/",
          "height": 0
        },
        "id": "u71io5zQWMZt",
        "outputId": "8d409294-569a-4f59-d0e0-7c982ad8f68b"
      },
      "source": [
        "# extract the count of noun\n",
        "freq_noun = {}\n",
        "for i in word_count.keys():\n",
        "  if i in noun:\n",
        "    freq_noun[i] = word_count[i]\n",
        "print(freq_noun)\n",
        "\n",
        "# count total number and proportion of noun in this text file\n",
        "prop_noun = len(freq_noun)/len(tmp)\n",
        "print('number of noun in this paper:',len(freq_noun))\n",
        "print('The proportion of noun in the text is:',prop_noun)\n",
        "\n",
        "# change to dataframe and sort them\n",
        "df_noun = pd.DataFrame.from_dict(freq_noun, orient='index',columns=['count']).sort_values(by=['count'],ascending=False)\n",
        "df_noun = df_noun.reset_index().rename(columns={'index':'noun'})\n",
        "#df_noun = df_noun.sort_values(by=['count'],ascending=False)\n",
        "df_noun"
      ],
      "execution_count": 165,
      "outputs": [
        {
          "output_type": "stream",
          "text": [
            "{'house': 2, 'Welcome': 1, 'mats': 1, 'rule': 2, 'inside': 1, 'thought': 1, 'stuffies': 1, 'people': 2, 'ones': 2, 'aliens': 4, 'orders': 1, 'source': 1, 'Anglian': 3, 'invasion': 2, 'begin': 1, 'everything': 2, 'force*': 1, 'love': 1, 'anybody': 1, 'way': 1, 'day': 1, 'gathering': 1, 'Nomad': 1, 'type': 1, 'communication': 1, 'problems': 1, 'place': 1, 'Just': 2, 'culture': 1, 'messenger': 1, 'days': 1, 'Sounds': 1, 'phone': 1, 'call': 1, 'kobbler': 1, 'lots': 1, 'memes': 1, 'world': 2, 'time': 1, 'home': 2, 'leader': 1, 'something': 1, 'problem': 1, 'everybody': 1, 'supply': 1, 'Uzbek': 1, 'Meme': 1, 'Borg': 1, 'question': 1, 'middle': 1, 'difference': 1, 'North': 1, 'year': 2, 'names': 1, 'agents': 1, 'mission': 2, 'gadgets': 1, 'gearheads': 1, 'technology': 1, 'alien': 1, 'half': 1}\n",
            "number of noun in this paper: 61\n",
            "The proportion of noun in the text is: 0.14352941176470588\n"
          ],
          "name": "stdout"
        },
        {
          "output_type": "execute_result",
          "data": {
            "text/html": [
              "<div>\n",
              "<style scoped>\n",
              "    .dataframe tbody tr th:only-of-type {\n",
              "        vertical-align: middle;\n",
              "    }\n",
              "\n",
              "    .dataframe tbody tr th {\n",
              "        vertical-align: top;\n",
              "    }\n",
              "\n",
              "    .dataframe thead th {\n",
              "        text-align: right;\n",
              "    }\n",
              "</style>\n",
              "<table border=\"1\" class=\"dataframe\">\n",
              "  <thead>\n",
              "    <tr style=\"text-align: right;\">\n",
              "      <th></th>\n",
              "      <th>noun</th>\n",
              "      <th>count</th>\n",
              "    </tr>\n",
              "  </thead>\n",
              "  <tbody>\n",
              "    <tr>\n",
              "      <th>0</th>\n",
              "      <td>aliens</td>\n",
              "      <td>4</td>\n",
              "    </tr>\n",
              "    <tr>\n",
              "      <th>1</th>\n",
              "      <td>Anglian</td>\n",
              "      <td>3</td>\n",
              "    </tr>\n",
              "    <tr>\n",
              "      <th>2</th>\n",
              "      <td>house</td>\n",
              "      <td>2</td>\n",
              "    </tr>\n",
              "    <tr>\n",
              "      <th>3</th>\n",
              "      <td>ones</td>\n",
              "      <td>2</td>\n",
              "    </tr>\n",
              "    <tr>\n",
              "      <th>4</th>\n",
              "      <td>year</td>\n",
              "      <td>2</td>\n",
              "    </tr>\n",
              "    <tr>\n",
              "      <th>...</th>\n",
              "      <td>...</td>\n",
              "      <td>...</td>\n",
              "    </tr>\n",
              "    <tr>\n",
              "      <th>56</th>\n",
              "      <td>messenger</td>\n",
              "      <td>1</td>\n",
              "    </tr>\n",
              "    <tr>\n",
              "      <th>57</th>\n",
              "      <td>Welcome</td>\n",
              "      <td>1</td>\n",
              "    </tr>\n",
              "    <tr>\n",
              "      <th>58</th>\n",
              "      <td>Sounds</td>\n",
              "      <td>1</td>\n",
              "    </tr>\n",
              "    <tr>\n",
              "      <th>59</th>\n",
              "      <td>phone</td>\n",
              "      <td>1</td>\n",
              "    </tr>\n",
              "    <tr>\n",
              "      <th>60</th>\n",
              "      <td>half</td>\n",
              "      <td>1</td>\n",
              "    </tr>\n",
              "  </tbody>\n",
              "</table>\n",
              "<p>61 rows × 2 columns</p>\n",
              "</div>"
            ],
            "text/plain": [
              "         noun  count\n",
              "0      aliens      4\n",
              "1     Anglian      3\n",
              "2       house      2\n",
              "3        ones      2\n",
              "4        year      2\n",
              "..        ...    ...\n",
              "56  messenger      1\n",
              "57    Welcome      1\n",
              "58     Sounds      1\n",
              "59      phone      1\n",
              "60       half      1\n",
              "\n",
              "[61 rows x 2 columns]"
            ]
          },
          "metadata": {
            "tags": []
          },
          "execution_count": 165
        }
      ]
    },
    {
      "cell_type": "code",
      "metadata": {
        "colab": {
          "base_uri": "https://localhost:8080/",
          "height": 0
        },
        "id": "tAhB9ByxWSmE",
        "outputId": "c1a5d2a5-4cb1-4421-a371-54e8959bf62d"
      },
      "source": [
        "# extract the count of verb\n",
        "freq_verb = {}\n",
        "for i in word_count.keys():\n",
        "  if i in verb:\n",
        "    freq_verb[i] = word_count[i]\n",
        "print(freq_verb)\n",
        "\n",
        "# count total number and proportion of verb in this text file\n",
        "prop_verb = len(freq_verb)/len(tmp)\n",
        "print('number of verb in this paper:',len(freq_verb))\n",
        "print('The proportion of verb in the text is:',prop_verb)\n",
        "\n",
        "# change to dataframe and sort them\n",
        "df_verb = pd.DataFrame.from_dict(freq_verb, orient='index',columns=['count']).sort_values(by=['count'],ascending=False)\n",
        "df_verb = df_verb.reset_index().rename(columns={'index':'verb'})\n",
        "df_verb"
      ],
      "execution_count": 166,
      "outputs": [
        {
          "output_type": "stream",
          "text": [
            "{'enter': 1, 'invented': 1, 'bypass': 1, 'rule': 2, 'decades': 1, 'see': 2, 'look': 1, 'feel': 1, 'like': 4, 'seeing': 1, 'looking': 1, 'wait': 1, 'come': 1, 'let': 2, '*want': 1, 'afraid': 1, '*and*': 1, 'going': 2, 'found': 1, 'meet': 1, 'greet': 1, 'know': 4, 'understanding': 1, 'mean': 2, 'coming': 1, 'play': 1, 'get': 1, 'bored': 1, 'switch': 1, 'instant': 1, 'stuck': 1, 'go': 3, 'become': 1, 'came': 1, 'dropped': 1, 'fleeing': 1, 'sound': 1, 'happening': 1, 'got': 1, 'make': 1, 'tell': 2, 'flying': 1, 'hit': 1, 'save': 1, 'believe': 1, 'frightened': 1, 'attached': 1, 'escalating': 1}\n",
            "number of verb in this paper: 48\n",
            "The proportion of verb in the text is: 0.11294117647058824\n"
          ],
          "name": "stdout"
        },
        {
          "output_type": "execute_result",
          "data": {
            "text/html": [
              "<div>\n",
              "<style scoped>\n",
              "    .dataframe tbody tr th:only-of-type {\n",
              "        vertical-align: middle;\n",
              "    }\n",
              "\n",
              "    .dataframe tbody tr th {\n",
              "        vertical-align: top;\n",
              "    }\n",
              "\n",
              "    .dataframe thead th {\n",
              "        text-align: right;\n",
              "    }\n",
              "</style>\n",
              "<table border=\"1\" class=\"dataframe\">\n",
              "  <thead>\n",
              "    <tr style=\"text-align: right;\">\n",
              "      <th></th>\n",
              "      <th>verb</th>\n",
              "      <th>count</th>\n",
              "    </tr>\n",
              "  </thead>\n",
              "  <tbody>\n",
              "    <tr>\n",
              "      <th>0</th>\n",
              "      <td>like</td>\n",
              "      <td>4</td>\n",
              "    </tr>\n",
              "    <tr>\n",
              "      <th>1</th>\n",
              "      <td>know</td>\n",
              "      <td>4</td>\n",
              "    </tr>\n",
              "    <tr>\n",
              "      <th>2</th>\n",
              "      <td>go</td>\n",
              "      <td>3</td>\n",
              "    </tr>\n",
              "    <tr>\n",
              "      <th>3</th>\n",
              "      <td>let</td>\n",
              "      <td>2</td>\n",
              "    </tr>\n",
              "    <tr>\n",
              "      <th>4</th>\n",
              "      <td>rule</td>\n",
              "      <td>2</td>\n",
              "    </tr>\n",
              "    <tr>\n",
              "      <th>5</th>\n",
              "      <td>see</td>\n",
              "      <td>2</td>\n",
              "    </tr>\n",
              "    <tr>\n",
              "      <th>6</th>\n",
              "      <td>mean</td>\n",
              "      <td>2</td>\n",
              "    </tr>\n",
              "    <tr>\n",
              "      <th>7</th>\n",
              "      <td>tell</td>\n",
              "      <td>2</td>\n",
              "    </tr>\n",
              "    <tr>\n",
              "      <th>8</th>\n",
              "      <td>going</td>\n",
              "      <td>2</td>\n",
              "    </tr>\n",
              "    <tr>\n",
              "      <th>9</th>\n",
              "      <td>sound</td>\n",
              "      <td>1</td>\n",
              "    </tr>\n",
              "    <tr>\n",
              "      <th>10</th>\n",
              "      <td>stuck</td>\n",
              "      <td>1</td>\n",
              "    </tr>\n",
              "    <tr>\n",
              "      <th>11</th>\n",
              "      <td>become</td>\n",
              "      <td>1</td>\n",
              "    </tr>\n",
              "    <tr>\n",
              "      <th>12</th>\n",
              "      <td>came</td>\n",
              "      <td>1</td>\n",
              "    </tr>\n",
              "    <tr>\n",
              "      <th>13</th>\n",
              "      <td>dropped</td>\n",
              "      <td>1</td>\n",
              "    </tr>\n",
              "    <tr>\n",
              "      <th>14</th>\n",
              "      <td>fleeing</td>\n",
              "      <td>1</td>\n",
              "    </tr>\n",
              "    <tr>\n",
              "      <th>15</th>\n",
              "      <td>enter</td>\n",
              "      <td>1</td>\n",
              "    </tr>\n",
              "    <tr>\n",
              "      <th>16</th>\n",
              "      <td>happening</td>\n",
              "      <td>1</td>\n",
              "    </tr>\n",
              "    <tr>\n",
              "      <th>17</th>\n",
              "      <td>got</td>\n",
              "      <td>1</td>\n",
              "    </tr>\n",
              "    <tr>\n",
              "      <th>18</th>\n",
              "      <td>switch</td>\n",
              "      <td>1</td>\n",
              "    </tr>\n",
              "    <tr>\n",
              "      <th>19</th>\n",
              "      <td>make</td>\n",
              "      <td>1</td>\n",
              "    </tr>\n",
              "    <tr>\n",
              "      <th>20</th>\n",
              "      <td>flying</td>\n",
              "      <td>1</td>\n",
              "    </tr>\n",
              "    <tr>\n",
              "      <th>21</th>\n",
              "      <td>hit</td>\n",
              "      <td>1</td>\n",
              "    </tr>\n",
              "    <tr>\n",
              "      <th>22</th>\n",
              "      <td>save</td>\n",
              "      <td>1</td>\n",
              "    </tr>\n",
              "    <tr>\n",
              "      <th>23</th>\n",
              "      <td>believe</td>\n",
              "      <td>1</td>\n",
              "    </tr>\n",
              "    <tr>\n",
              "      <th>24</th>\n",
              "      <td>frightened</td>\n",
              "      <td>1</td>\n",
              "    </tr>\n",
              "    <tr>\n",
              "      <th>25</th>\n",
              "      <td>attached</td>\n",
              "      <td>1</td>\n",
              "    </tr>\n",
              "    <tr>\n",
              "      <th>26</th>\n",
              "      <td>instant</td>\n",
              "      <td>1</td>\n",
              "    </tr>\n",
              "    <tr>\n",
              "      <th>27</th>\n",
              "      <td>coming</td>\n",
              "      <td>1</td>\n",
              "    </tr>\n",
              "    <tr>\n",
              "      <th>28</th>\n",
              "      <td>bored</td>\n",
              "      <td>1</td>\n",
              "    </tr>\n",
              "    <tr>\n",
              "      <th>29</th>\n",
              "      <td>get</td>\n",
              "      <td>1</td>\n",
              "    </tr>\n",
              "    <tr>\n",
              "      <th>30</th>\n",
              "      <td>bypass</td>\n",
              "      <td>1</td>\n",
              "    </tr>\n",
              "    <tr>\n",
              "      <th>31</th>\n",
              "      <td>decades</td>\n",
              "      <td>1</td>\n",
              "    </tr>\n",
              "    <tr>\n",
              "      <th>32</th>\n",
              "      <td>look</td>\n",
              "      <td>1</td>\n",
              "    </tr>\n",
              "    <tr>\n",
              "      <th>33</th>\n",
              "      <td>feel</td>\n",
              "      <td>1</td>\n",
              "    </tr>\n",
              "    <tr>\n",
              "      <th>34</th>\n",
              "      <td>seeing</td>\n",
              "      <td>1</td>\n",
              "    </tr>\n",
              "    <tr>\n",
              "      <th>35</th>\n",
              "      <td>looking</td>\n",
              "      <td>1</td>\n",
              "    </tr>\n",
              "    <tr>\n",
              "      <th>36</th>\n",
              "      <td>wait</td>\n",
              "      <td>1</td>\n",
              "    </tr>\n",
              "    <tr>\n",
              "      <th>37</th>\n",
              "      <td>come</td>\n",
              "      <td>1</td>\n",
              "    </tr>\n",
              "    <tr>\n",
              "      <th>38</th>\n",
              "      <td>*want</td>\n",
              "      <td>1</td>\n",
              "    </tr>\n",
              "    <tr>\n",
              "      <th>39</th>\n",
              "      <td>afraid</td>\n",
              "      <td>1</td>\n",
              "    </tr>\n",
              "    <tr>\n",
              "      <th>40</th>\n",
              "      <td>*and*</td>\n",
              "      <td>1</td>\n",
              "    </tr>\n",
              "    <tr>\n",
              "      <th>41</th>\n",
              "      <td>found</td>\n",
              "      <td>1</td>\n",
              "    </tr>\n",
              "    <tr>\n",
              "      <th>42</th>\n",
              "      <td>meet</td>\n",
              "      <td>1</td>\n",
              "    </tr>\n",
              "    <tr>\n",
              "      <th>43</th>\n",
              "      <td>greet</td>\n",
              "      <td>1</td>\n",
              "    </tr>\n",
              "    <tr>\n",
              "      <th>44</th>\n",
              "      <td>understanding</td>\n",
              "      <td>1</td>\n",
              "    </tr>\n",
              "    <tr>\n",
              "      <th>45</th>\n",
              "      <td>invented</td>\n",
              "      <td>1</td>\n",
              "    </tr>\n",
              "    <tr>\n",
              "      <th>46</th>\n",
              "      <td>play</td>\n",
              "      <td>1</td>\n",
              "    </tr>\n",
              "    <tr>\n",
              "      <th>47</th>\n",
              "      <td>escalating</td>\n",
              "      <td>1</td>\n",
              "    </tr>\n",
              "  </tbody>\n",
              "</table>\n",
              "</div>"
            ],
            "text/plain": [
              "             verb  count\n",
              "0            like      4\n",
              "1            know      4\n",
              "2              go      3\n",
              "3             let      2\n",
              "4            rule      2\n",
              "5             see      2\n",
              "6            mean      2\n",
              "7            tell      2\n",
              "8           going      2\n",
              "9           sound      1\n",
              "10          stuck      1\n",
              "11         become      1\n",
              "12           came      1\n",
              "13        dropped      1\n",
              "14        fleeing      1\n",
              "15          enter      1\n",
              "16      happening      1\n",
              "17            got      1\n",
              "18         switch      1\n",
              "19           make      1\n",
              "20         flying      1\n",
              "21            hit      1\n",
              "22           save      1\n",
              "23        believe      1\n",
              "24     frightened      1\n",
              "25       attached      1\n",
              "26        instant      1\n",
              "27         coming      1\n",
              "28          bored      1\n",
              "29            get      1\n",
              "30         bypass      1\n",
              "31        decades      1\n",
              "32           look      1\n",
              "33           feel      1\n",
              "34         seeing      1\n",
              "35        looking      1\n",
              "36           wait      1\n",
              "37           come      1\n",
              "38          *want      1\n",
              "39         afraid      1\n",
              "40          *and*      1\n",
              "41          found      1\n",
              "42           meet      1\n",
              "43          greet      1\n",
              "44  understanding      1\n",
              "45       invented      1\n",
              "46           play      1\n",
              "47     escalating      1"
            ]
          },
          "metadata": {
            "tags": []
          },
          "execution_count": 166
        }
      ]
    },
    {
      "cell_type": "code",
      "metadata": {
        "colab": {
          "base_uri": "https://localhost:8080/",
          "height": 0
        },
        "id": "4xuXwf7sWUxE",
        "outputId": "06c23de8-22ff-4773-d870-f4d04ea6bced"
      },
      "source": [
        "# extract the count of adj\n",
        "freq_adj = {}\n",
        "for i in word_count.keys():\n",
        "  if i in adj:\n",
        "    freq_adj[i] = word_count[i]\n",
        "print(freq_adj)\n",
        "\n",
        "# count total number and proportion of adj in this text file\n",
        "prop_adj = len(freq_adj)/len(tmp)\n",
        "print('number of adj in this paper:',len(freq_adj))\n",
        "print('The proportion of adj in the text is:',prop_adj)\n",
        "\n",
        "# change to dataframe and sort them\n",
        "df_adj = pd.DataFrame.from_dict(freq_adj, orient='index',columns=['count']).sort_values(by=['count'],ascending=False)\n",
        "df_adj = df_adj.reset_index().rename(columns={'index':'adj'})\n",
        "df_adj"
      ],
      "execution_count": 167,
      "outputs": [
        {
          "output_type": "stream",
          "text": [
            "{'uninvited': 1, 'outside': 1, 'inner': 1, 'actual': 1, 'easy': 1, 'voice': 1, 'old': 1, 'weird': 1, 'bad': 1, 'funny': 1, 'large': 1, 'enough': 1, 'cult': 1, 'first': 2, 'much': 2, 'pretty': 2, 'little': 1, 'cautious': 1, 'intertribal': 1, 'whole': 1, 'past': 1, 'extravagant': 1}\n",
            "number of adj in this paper: 22\n",
            "The proportion of adj in the text is: 0.05176470588235294\n"
          ],
          "name": "stdout"
        },
        {
          "output_type": "execute_result",
          "data": {
            "text/html": [
              "<div>\n",
              "<style scoped>\n",
              "    .dataframe tbody tr th:only-of-type {\n",
              "        vertical-align: middle;\n",
              "    }\n",
              "\n",
              "    .dataframe tbody tr th {\n",
              "        vertical-align: top;\n",
              "    }\n",
              "\n",
              "    .dataframe thead th {\n",
              "        text-align: right;\n",
              "    }\n",
              "</style>\n",
              "<table border=\"1\" class=\"dataframe\">\n",
              "  <thead>\n",
              "    <tr style=\"text-align: right;\">\n",
              "      <th></th>\n",
              "      <th>adj</th>\n",
              "      <th>count</th>\n",
              "    </tr>\n",
              "  </thead>\n",
              "  <tbody>\n",
              "    <tr>\n",
              "      <th>0</th>\n",
              "      <td>pretty</td>\n",
              "      <td>2</td>\n",
              "    </tr>\n",
              "    <tr>\n",
              "      <th>1</th>\n",
              "      <td>much</td>\n",
              "      <td>2</td>\n",
              "    </tr>\n",
              "    <tr>\n",
              "      <th>2</th>\n",
              "      <td>first</td>\n",
              "      <td>2</td>\n",
              "    </tr>\n",
              "    <tr>\n",
              "      <th>3</th>\n",
              "      <td>uninvited</td>\n",
              "      <td>1</td>\n",
              "    </tr>\n",
              "    <tr>\n",
              "      <th>4</th>\n",
              "      <td>outside</td>\n",
              "      <td>1</td>\n",
              "    </tr>\n",
              "    <tr>\n",
              "      <th>5</th>\n",
              "      <td>past</td>\n",
              "      <td>1</td>\n",
              "    </tr>\n",
              "    <tr>\n",
              "      <th>6</th>\n",
              "      <td>whole</td>\n",
              "      <td>1</td>\n",
              "    </tr>\n",
              "    <tr>\n",
              "      <th>7</th>\n",
              "      <td>intertribal</td>\n",
              "      <td>1</td>\n",
              "    </tr>\n",
              "    <tr>\n",
              "      <th>8</th>\n",
              "      <td>cautious</td>\n",
              "      <td>1</td>\n",
              "    </tr>\n",
              "    <tr>\n",
              "      <th>9</th>\n",
              "      <td>little</td>\n",
              "      <td>1</td>\n",
              "    </tr>\n",
              "    <tr>\n",
              "      <th>10</th>\n",
              "      <td>cult</td>\n",
              "      <td>1</td>\n",
              "    </tr>\n",
              "    <tr>\n",
              "      <th>11</th>\n",
              "      <td>enough</td>\n",
              "      <td>1</td>\n",
              "    </tr>\n",
              "    <tr>\n",
              "      <th>12</th>\n",
              "      <td>large</td>\n",
              "      <td>1</td>\n",
              "    </tr>\n",
              "    <tr>\n",
              "      <th>13</th>\n",
              "      <td>funny</td>\n",
              "      <td>1</td>\n",
              "    </tr>\n",
              "    <tr>\n",
              "      <th>14</th>\n",
              "      <td>bad</td>\n",
              "      <td>1</td>\n",
              "    </tr>\n",
              "    <tr>\n",
              "      <th>15</th>\n",
              "      <td>weird</td>\n",
              "      <td>1</td>\n",
              "    </tr>\n",
              "    <tr>\n",
              "      <th>16</th>\n",
              "      <td>old</td>\n",
              "      <td>1</td>\n",
              "    </tr>\n",
              "    <tr>\n",
              "      <th>17</th>\n",
              "      <td>voice</td>\n",
              "      <td>1</td>\n",
              "    </tr>\n",
              "    <tr>\n",
              "      <th>18</th>\n",
              "      <td>easy</td>\n",
              "      <td>1</td>\n",
              "    </tr>\n",
              "    <tr>\n",
              "      <th>19</th>\n",
              "      <td>actual</td>\n",
              "      <td>1</td>\n",
              "    </tr>\n",
              "    <tr>\n",
              "      <th>20</th>\n",
              "      <td>inner</td>\n",
              "      <td>1</td>\n",
              "    </tr>\n",
              "    <tr>\n",
              "      <th>21</th>\n",
              "      <td>extravagant</td>\n",
              "      <td>1</td>\n",
              "    </tr>\n",
              "  </tbody>\n",
              "</table>\n",
              "</div>"
            ],
            "text/plain": [
              "            adj  count\n",
              "0        pretty      2\n",
              "1          much      2\n",
              "2         first      2\n",
              "3     uninvited      1\n",
              "4       outside      1\n",
              "5          past      1\n",
              "6         whole      1\n",
              "7   intertribal      1\n",
              "8      cautious      1\n",
              "9        little      1\n",
              "10         cult      1\n",
              "11       enough      1\n",
              "12        large      1\n",
              "13        funny      1\n",
              "14          bad      1\n",
              "15        weird      1\n",
              "16          old      1\n",
              "17        voice      1\n",
              "18         easy      1\n",
              "19       actual      1\n",
              "20        inner      1\n",
              "21  extravagant      1"
            ]
          },
          "metadata": {
            "tags": []
          },
          "execution_count": 167
        }
      ]
    },
    {
      "cell_type": "code",
      "metadata": {
        "colab": {
          "base_uri": "https://localhost:8080/",
          "height": 0
        },
        "id": "Lb7ZCBY3WXof",
        "outputId": "310819aa-8a00-4fa1-8616-a3f7257359c8"
      },
      "source": [
        "# extract the count of adv\n",
        "freq_adv = {}\n",
        "for i in word_count.keys():\n",
        "  if i in adv:\n",
        "    freq_adv[i] = word_count[i]\n",
        "print(freq_adv)\n",
        "\n",
        "# count total number and proportion of adv in this text file\n",
        "prop_adv = len(freq_adv)/len(tmp)\n",
        "print('number of adv in this paper:',len(freq_adv))\n",
        "print('The proportion of adv in the text is:',prop_adv)\n",
        "\n",
        "# change to dataframe and sort them\n",
        "df_adv = pd.DataFrame.from_dict(freq_adv, orient='index',columns=['count']).sort_values(by=['count'],ascending=False)\n",
        "df_adv = df_adv.reset_index().rename(columns={'index':'adv'})\n",
        "df_adv"
      ],
      "execution_count": 168,
      "outputs": [
        {
          "output_type": "stream",
          "text": [
            "{'ago': 1, 'anyway': 1, 'eventually': 1, 'back': 1, 'pretty': 2, 'also': 1, 'sometimes': 1, 'steadily': 1}\n",
            "number of adv in this paper: 8\n",
            "The proportion of adv in the text is: 0.018823529411764704\n"
          ],
          "name": "stdout"
        },
        {
          "output_type": "execute_result",
          "data": {
            "text/html": [
              "<div>\n",
              "<style scoped>\n",
              "    .dataframe tbody tr th:only-of-type {\n",
              "        vertical-align: middle;\n",
              "    }\n",
              "\n",
              "    .dataframe tbody tr th {\n",
              "        vertical-align: top;\n",
              "    }\n",
              "\n",
              "    .dataframe thead th {\n",
              "        text-align: right;\n",
              "    }\n",
              "</style>\n",
              "<table border=\"1\" class=\"dataframe\">\n",
              "  <thead>\n",
              "    <tr style=\"text-align: right;\">\n",
              "      <th></th>\n",
              "      <th>adv</th>\n",
              "      <th>count</th>\n",
              "    </tr>\n",
              "  </thead>\n",
              "  <tbody>\n",
              "    <tr>\n",
              "      <th>0</th>\n",
              "      <td>pretty</td>\n",
              "      <td>2</td>\n",
              "    </tr>\n",
              "    <tr>\n",
              "      <th>1</th>\n",
              "      <td>ago</td>\n",
              "      <td>1</td>\n",
              "    </tr>\n",
              "    <tr>\n",
              "      <th>2</th>\n",
              "      <td>anyway</td>\n",
              "      <td>1</td>\n",
              "    </tr>\n",
              "    <tr>\n",
              "      <th>3</th>\n",
              "      <td>eventually</td>\n",
              "      <td>1</td>\n",
              "    </tr>\n",
              "    <tr>\n",
              "      <th>4</th>\n",
              "      <td>back</td>\n",
              "      <td>1</td>\n",
              "    </tr>\n",
              "    <tr>\n",
              "      <th>5</th>\n",
              "      <td>also</td>\n",
              "      <td>1</td>\n",
              "    </tr>\n",
              "    <tr>\n",
              "      <th>6</th>\n",
              "      <td>sometimes</td>\n",
              "      <td>1</td>\n",
              "    </tr>\n",
              "    <tr>\n",
              "      <th>7</th>\n",
              "      <td>steadily</td>\n",
              "      <td>1</td>\n",
              "    </tr>\n",
              "  </tbody>\n",
              "</table>\n",
              "</div>"
            ],
            "text/plain": [
              "          adv  count\n",
              "0      pretty      2\n",
              "1         ago      1\n",
              "2      anyway      1\n",
              "3  eventually      1\n",
              "4        back      1\n",
              "5        also      1\n",
              "6   sometimes      1\n",
              "7    steadily      1"
            ]
          },
          "metadata": {
            "tags": []
          },
          "execution_count": 168
        }
      ]
    },
    {
      "cell_type": "markdown",
      "metadata": {
        "id": "z25rK-EQWb5W"
      },
      "source": [
        "###create csv file to save word count statistics"
      ]
    },
    {
      "cell_type": "code",
      "metadata": {
        "colab": {
          "base_uri": "https://localhost:8080/"
        },
        "id": "gf6XxjP2WcZN",
        "outputId": "a773aeae-1d2f-4e08-dd8e-4108f5586b2b"
      },
      "source": [
        "with open(gen_file+'story_wordcount.csv', 'w', encoding='utf-8') as f2:\n",
        "  pd.DataFrame(columns=['word_count_statistics']).to_csv(f2, index=False) # remove index here\n",
        "\n",
        "  df_noun.to_csv(f2, mode='a+')\n",
        "  df_verb.to_csv(f2, mode='a+')\n",
        "  df_adj.to_csv(f2, mode='a+')\n",
        "  df_adv.to_csv(f2, mode='a+')\n",
        "\n",
        "df2 = pd.read_csv(gen_file+'story_wordcount.csv')\n",
        "print(df2)\n"
      ],
      "execution_count": 169,
      "outputs": [
        {
          "output_type": "stream",
          "text": [
            "               word_count_statistics\n",
            "NaN noun                       count\n",
            "0.0 aliens                         4\n",
            "1.0 Anglian                        3\n",
            "2.0 house                          2\n",
            "3.0 ones                           2\n",
            "...                              ...\n",
            "    eventually                     1\n",
            "4.0 back                           1\n",
            "5.0 also                           1\n",
            "6.0 sometimes                      1\n",
            "7.0 steadily                       1\n",
            "\n",
            "[143 rows x 1 columns]\n"
          ],
          "name": "stdout"
        }
      ]
    },
    {
      "cell_type": "markdown",
      "metadata": {
        "id": "F33hHPmIXRHv"
      },
      "source": [
        "###use word frequency calculation method to extract keywords"
      ]
    },
    {
      "cell_type": "code",
      "metadata": {
        "colab": {
          "base_uri": "https://localhost:8080/"
        },
        "id": "r7AQ0WBzXRZM",
        "outputId": "b77c1e5f-25c0-4c7f-c06e-603be507105a"
      },
      "source": [
        "key_word_candidate = []\n",
        "df_key = pd.DataFrame.from_dict(word_count, orient='index',columns=['count']).sort_values(by=['count'],ascending=False)\n",
        "\n",
        "# select the most frequently fifteen words in this text file as candidate of key_words\n",
        "for i in range(15):\n",
        "  key_word_candidate.append(df_key.index[i])\n",
        "print(key_word_candidate)"
      ],
      "execution_count": 170,
      "outputs": [
        {
          "output_type": "stream",
          "text": [
            "['aliens', 'know', 'like', 'nt', 'go', 'one', 'Anglian', 'tell', 'year', 'ones', 'mean', 'let', 'pretty', 'invasion', 'everything']\n"
          ],
          "name": "stdout"
        }
      ]
    },
    {
      "cell_type": "code",
      "metadata": {
        "colab": {
          "base_uri": "https://localhost:8080/"
        },
        "id": "dTkMTC7yXV9d",
        "outputId": "e36dcfef-c979-4156-a216-1c713bca2194"
      },
      "source": [
        "# list to str\n",
        "Keyword_candidate = \",\".join(key_word_candidate)\n",
        "print(Keyword_candidate)"
      ],
      "execution_count": 171,
      "outputs": [
        {
          "output_type": "stream",
          "text": [
            "aliens,know,like,nt,go,one,Anglian,tell,year,ones,mean,let,pretty,invasion,everything\n"
          ],
          "name": "stdout"
        }
      ]
    },
    {
      "cell_type": "code",
      "metadata": {
        "colab": {
          "base_uri": "https://localhost:8080/"
        },
        "id": "WvMI6q0rXWgk",
        "outputId": "b5307ef5-78e1-4fdc-f012-7e09a2699e87"
      },
      "source": [
        "# append total number of words and key word candidates information in original text file\n",
        "with open(gen_file+'story.txt','a+',encoding='UTF-8') as f:\n",
        "  f.write(\"\\n\\nTotal number of words in this text file is : \"+ str(len(tmp))+'\\n')\n",
        "  f.write('Key Word candidate: '+Keyword_candidate+'\\n')\n",
        "  t2 = f.read()\n",
        "  print(t2)"
      ],
      "execution_count": 172,
      "outputs": [
        {
          "output_type": "stream",
          "text": [
            "\n"
          ],
          "name": "stdout"
        }
      ]
    },
    {
      "cell_type": "markdown",
      "metadata": {
        "id": "wSuThDO4Xh9N"
      },
      "source": [
        "##Visualization"
      ]
    },
    {
      "cell_type": "code",
      "metadata": {
        "colab": {
          "base_uri": "https://localhost:8080/",
          "height": 0
        },
        "id": "9RGfsjXJXhoJ",
        "outputId": "60ca8cbd-407b-42e6-c6ff-dafb4ee4376d"
      },
      "source": [
        "# create a part-of-speech pie chart \n",
        "other = 1 - prop_noun - prop_verb - prop_adj - prop_adv\n",
        "labels ='Noun','Verb','Adj','Adv','Other'\n",
        "fraces = [prop_noun,prop_verb,prop_adj,prop_adv,other]\n",
        "plt.pie(x=fraces,labels= labels)\n",
        "plt.savefig(gen_file+'story_wordcount_piechart.jpg')\n",
        "plt.show()\n"
      ],
      "execution_count": 173,
      "outputs": [
        {
          "output_type": "display_data",
          "data": {
            "image/png": "[encoded data removed]",
            "text/plain": [
              "<Figure size 432x288 with 1 Axes>"
            ]
          },
          "metadata": {
            "tags": []
          }
        }
      ]
    },
    {
      "cell_type": "code",
      "metadata": {
        "colab": {
          "base_uri": "https://localhost:8080/",
          "height": 0
        },
        "id": "aMqSUSzxYGl9",
        "outputId": "49935614-6435-4bec-b8d7-40644146c2dc"
      },
      "source": [
        "# use NLTK to generate figures for noun, verb, adj, adv\n",
        "Freq_noun=nltk.FreqDist(freq_noun)\n",
        "Freq_verb=nltk.FreqDist(freq_verb)\n",
        "Freq_adj=nltk.FreqDist(freq_adj)\n",
        "Freq_adv=nltk.FreqDist(freq_adv)\n",
        "\n",
        "#show figures and save them as png. \n",
        "#Number of words on X-axes is configurable\n",
        "fig = plt.figure(figsize = (10,4))\n",
        "plt.gcf().subplots_adjust(bottom=0.15) # to avoid x-ticks cut-off\n",
        "Freq_noun.plot(10, title='Top 10 Most Common noun in text')\n",
        "fig.savefig(gen_file+'story_top10_noun.png', bbox_inches = \"tight\")\n",
        "\n",
        "fig = plt.figure(figsize = (10,4))\n",
        "plt.gcf().subplots_adjust(bottom=0.15) # to avoid x-ticks cut-off\n",
        "Freq_verb.plot(10, title='Top 10 Most Common verb in text')\n",
        "fig.savefig(gen_file+'story_top10_verb.png', bbox_inches = \"tight\")\n",
        "\n",
        "fig = plt.figure(figsize = (10,4))\n",
        "plt.gcf().subplots_adjust(bottom=0.15) # to avoid x-ticks cut-off\n",
        "Freq_adj.plot(10, title='Top 10 Most Common adj in text')\n",
        "fig.savefig(gen_file+'story_top10_adj.png', bbox_inches = \"tight\")\n",
        "\n",
        "fig = plt.figure(figsize = (10,4))\n",
        "plt.gcf().subplots_adjust(bottom=0.15) # to avoid x-ticks cut-off\n",
        "Freq_adv.plot(10, title='Top 10 Most Common adv in text')\n",
        "fig.savefig(gen_file+'story_top10_adv.png', bbox_inches = \"tight\")\n",
        "\n",
        "plt.show()"
      ],
      "execution_count": 174,
      "outputs": [
        {
          "output_type": "display_data",
          "data": {
            "image/png": "[encoded data removed]",
            "text/plain": [
              "<Figure size 720x288 with 1 Axes>"
            ]
          },
          "metadata": {
            "tags": [],
            "needs_background": "light"
          }
        },
        {
          "output_type": "display_data",
          "data": {
            "image/png": "[encoded data removed]",
            "text/plain": [
              "<Figure size 720x288 with 1 Axes>"
            ]
          },
          "metadata": {
            "tags": [],
            "needs_background": "light"
          }
        },
        {
          "output_type": "display_data",
          "data": {
            "image/png": "[encoded data removed]",
            "text/plain": [
              "<Figure size 720x288 with 1 Axes>"
            ]
          },
          "metadata": {
            "tags": [],
            "needs_background": "light"
          }
        },
        {
          "output_type": "display_data",
          "data": {
            "image/png": "[encoded data removed]",
            "text/plain": [
              "<Figure size 720x288 with 1 Axes>"
            ]
          },
          "metadata": {
            "tags": [],
            "needs_background": "light"
          }
        }
      ]
    },
    {
      "cell_type": "code",
      "metadata": {
        "colab": {
          "base_uri": "https://localhost:8080/",
          "height": 0
        },
        "id": "UvM_dih0YSeX",
        "outputId": "1687052e-0e7e-4365-88fe-ac5d651735cc"
      },
      "source": [
        "# use wordcloud to generate png for keywords candidate\n",
        "wordcloud = WordCloud(\n",
        "        background_color=\"white\", # Set the background to white , default is black\n",
        "        width=1500,              #Set width of figure\n",
        "        height=960,              #Set height of figure\n",
        "        margin=10               #Set margin of figure\n",
        "        ).generate(str(key_word_candidate))\n",
        "# generate figure\n",
        "plt.imshow(wordcloud)\n",
        "# remove axes\n",
        "plt.axis(\"off\")\n",
        "\n",
        "fig.show()\n",
        "# save figure as png\n",
        "wordcloud.to_file(gen_file+'story_keywordcloud.png')"
      ],
      "execution_count": 175,
      "outputs": [
        {
          "output_type": "execute_result",
          "data": {
            "text/plain": [
              "<wordcloud.wordcloud.WordCloud at 0x7f8f98a67a10>"
            ]
          },
          "metadata": {
            "tags": []
          },
          "execution_count": 175
        },
        {
          "output_type": "display_data",
          "data": {
            "image/png": "[encoded data removed]",
            "text/plain": [
              "<Figure size 432x288 with 1 Axes>"
            ]
          },
          "metadata": {
            "tags": [],
            "needs_background": "light"
          }
        }
      ]
    },
    {
      "cell_type": "code",
      "metadata": {
        "id": "RPm2vI2M9d-q"
      },
      "source": [
        "# may have to run twice to get file to download\n",
        "#files.download(gen_file)"
      ],
      "execution_count": 176,
      "outputs": []
    }
  ]
}