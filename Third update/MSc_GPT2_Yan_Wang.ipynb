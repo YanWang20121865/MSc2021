{
  "nbformat": 4,
  "nbformat_minor": 0,
  "metadata": {
    "colab": {
      "name": "MSc_GPT2_Yan Wang.ipynb",
      "provenance": [],
      "collapsed_sections": [
        "CwdJWDEdAZof",
        "M9PaFqHSAjpX",
        "QogIqDMtH181",
        "8kwMRWI_HCiw"
      ],
      "machine_shape": "hm"
    },
    "kernelspec": {
      "name": "python3",
      "display_name": "Python 3"
    },
    "language_info": {
      "name": "python"
    },
    "accelerator": "GPU"
  },
  "cells": [
    {
      "cell_type": "code",
      "metadata": {
        "colab": {
          "base_uri": "https://localhost:8080/"
        },
        "id": "9h6RU3w4ky8d",
        "outputId": "157eab9b-378c-489e-8c6b-b3499cdfd65c"
      },
      "source": [
        "from google.colab import drive\n",
        "drive.mount('/content/drive')"
      ],
      "execution_count": 1,
      "outputs": [
        {
          "output_type": "stream",
          "text": [
            "Mounted at /content/drive\n"
          ],
          "name": "stdout"
        }
      ]
    },
    {
      "cell_type": "code",
      "metadata": {
        "colab": {
          "base_uri": "https://localhost:8080/"
        },
        "id": "9hN2K4Wp0qZh",
        "outputId": "86d0a734-de0e-497e-8433-394549ba5e7e"
      },
      "source": [
        "!nvidia-smi"
      ],
      "execution_count": null,
      "outputs": [
        {
          "output_type": "stream",
          "text": [
            "Tue Aug 10 09:27:49 2021       \n",
            "+-----------------------------------------------------------------------------+\n",
            "| NVIDIA-SMI 470.42.01    Driver Version: 460.32.03    CUDA Version: 11.2     |\n",
            "|-------------------------------+----------------------+----------------------+\n",
            "| GPU  Name        Persistence-M| Bus-Id        Disp.A | Volatile Uncorr. ECC |\n",
            "| Fan  Temp  Perf  Pwr:Usage/Cap|         Memory-Usage | GPU-Util  Compute M. |\n",
            "|                               |                      |               MIG M. |\n",
            "|===============================+======================+======================|\n",
            "|   0  Tesla P100-PCIE...  Off  | 00000000:00:04.0 Off |                    0 |\n",
            "| N/A   38C    P0    27W / 250W |      0MiB / 16280MiB |      0%      Default |\n",
            "|                               |                      |                  N/A |\n",
            "+-------------------------------+----------------------+----------------------+\n",
            "                                                                               \n",
            "+-----------------------------------------------------------------------------+\n",
            "| Processes:                                                                  |\n",
            "|  GPU   GI   CI        PID   Type   Process name                  GPU Memory |\n",
            "|        ID   ID                                                   Usage      |\n",
            "|=============================================================================|\n",
            "|  No running processes found                                                 |\n",
            "+-----------------------------------------------------------------------------+\n"
          ],
          "name": "stdout"
        }
      ]
    },
    {
      "cell_type": "code",
      "metadata": {
        "id": "Tq6oPDfN1wNC"
      },
      "source": [
        "%tensorflow_version 1.x\n",
        "!pip install -q gpt-2-simple\n",
        "import gpt_2_simple as gpt2\n",
        "from datetime import datetime\n",
        "from google.colab import files\n",
        "import os\n",
        "import requests\n",
        "import re\n",
        "\n",
        "import collections\n",
        "import pandas as pd\n",
        "from nltk import word_tokenize\n",
        "import nltk\n",
        "from nltk import pos_tag\n",
        "import matplotlib.pyplot as plt\n",
        "from wordcloud import WordCloud"
      ],
      "execution_count": 21,
      "outputs": []
    },
    {
      "cell_type": "code",
      "metadata": {
        "colab": {
          "base_uri": "https://localhost:8080/"
        },
        "id": "NyN-sdAOVTOl",
        "outputId": "cf9ac72e-ed72-4648-e67a-af5c18d6de2b"
      },
      "source": [
        "nltk.download('punkt')\n",
        "nltk.download('stopwords')\n",
        "nltk.download('averaged_perceptron_tagger')"
      ],
      "execution_count": 22,
      "outputs": [
        {
          "output_type": "stream",
          "text": [
            "[nltk_data] Downloading package punkt to /root/nltk_data...\n",
            "[nltk_data]   Unzipping tokenizers/punkt.zip.\n",
            "[nltk_data] Downloading package stopwords to /root/nltk_data...\n",
            "[nltk_data]   Unzipping corpora/stopwords.zip.\n",
            "[nltk_data] Downloading package averaged_perceptron_tagger to\n",
            "[nltk_data]     /root/nltk_data...\n",
            "[nltk_data]   Unzipping taggers/averaged_perceptron_tagger.zip.\n"
          ],
          "name": "stdout"
        },
        {
          "output_type": "execute_result",
          "data": {
            "text/plain": [
              "True"
            ]
          },
          "metadata": {
            "tags": []
          },
          "execution_count": 22
        }
      ]
    },
    {
      "cell_type": "code",
      "metadata": {
        "id": "HxUKVFKmt0u1",
        "colab": {
          "base_uri": "https://localhost:8080/"
        },
        "outputId": "95f1031d-e9a7-4c10-9ca6-3e268d81ff0b"
      },
      "source": [
        "# download gpt2 models.  \n",
        "gpt2.download_gpt2(model_name=\"124M\")\n",
        "#gpt2.download_gpt2(model_name=\"355M\")\n",
        "#gpt2.download_gpt2(model_name=\"774M\")\n",
        "#gpt2.download_gpt2(model_name=\"1558M\")"
      ],
      "execution_count": 3,
      "outputs": [
        {
          "output_type": "stream",
          "text": [
            "Fetching checkpoint: 1.05Mit [00:00, 575Mit/s]                                                      \n",
            "Fetching encoder.json: 1.05Mit [00:00, 1.60Mit/s]\n",
            "Fetching hparams.json: 1.05Mit [00:00, 748Mit/s]                                                    \n",
            "Fetching model.ckpt.data-00000-of-00001: 498Mit [00:47, 10.5Mit/s]\n",
            "Fetching model.ckpt.index: 1.05Mit [00:00, 778Mit/s]                                                \n",
            "Fetching model.ckpt.meta: 1.05Mit [00:00, 1.95Mit/s]\n",
            "Fetching vocab.bpe: 1.05Mit [00:00, 1.98Mit/s]\n"
          ],
          "name": "stderr"
        }
      ]
    },
    {
      "cell_type": "markdown",
      "metadata": {
        "id": "CwdJWDEdAZof"
      },
      "source": [
        "###legacy:  \n",
        "If dataset hasn't been created and splited to train & test dataset"
      ]
    },
    {
      "cell_type": "code",
      "metadata": {
        "id": "gUSMnpAiWeFL"
      },
      "source": [
        "#  copy models to google drive if you want\n",
        "!cp -r /content/models /content/drive/MyDrive "
      ],
      "execution_count": null,
      "outputs": []
    },
    {
      "cell_type": "code",
      "metadata": {
        "id": "i0FPqyGMoezw"
      },
      "source": [
        "# load dataset\n",
        "file_name = \"HarryPotter.txt\"\n",
        "\n",
        "# if no dataset here, create a HarryPotter dataset\n",
        "if not os.path.isfile(file_name):\n",
        "\turl = \"https://raw.githubusercontent.com/YanWang20121865/MSc2021YanWang/main/Second%20update/Dataset/HarryPotter.txt\"\n",
        "\tdata = requests.get(url)\n",
        "\t\n",
        "\twith open(file_name, 'w') as f:\n",
        "\t\tf.write(data.text)"
      ],
      "execution_count": null,
      "outputs": []
    },
    {
      "cell_type": "code",
      "metadata": {
        "id": "fjmuAW7b4Lwk"
      },
      "source": [
        "!export PYTHONIOENCODING=UTF-8"
      ],
      "execution_count": null,
      "outputs": []
    },
    {
      "cell_type": "code",
      "metadata": {
        "id": "5ZBHh4BDA6cO"
      },
      "source": [
        "def train_test_split_fun(file_name, num):\n",
        "  if 0 < num < 1:\n",
        "    # open original txt file\n",
        "    text = open(file_name+'.txt',\"r\", encoding='UTF-8').read()    \n",
        "    # split each line of content in text file \n",
        "    b=re.split('\\n',text)\n",
        "\n",
        "    # check how many lines in total\n",
        "    n=0\n",
        "    for i in b:\n",
        "      n+=1\n",
        "    print(n)\n",
        "\n",
        "    # generage train.txt and test.txt files\n",
        "    f1 = open(file_name+'_train.txt','a')\n",
        "    f2 = open(file_name+'_test.txt','a')\n",
        "    m=0\n",
        "    for i in b:\n",
        "      m+=1\n",
        "      if m<=n*num:    # train : test = num\n",
        "        f1.write(i)\n",
        "      else:\n",
        "        f2.write(i)\n",
        "    #close files\n",
        "    f1.close()\n",
        "    f2.close()\n",
        "  else:\n",
        "    print(\"The training data ratio must between 0 and 1.0! \")"
      ],
      "execution_count": null,
      "outputs": []
    },
    {
      "cell_type": "code",
      "metadata": {
        "id": "2IKzDzooBDev"
      },
      "source": [
        "# code for spliting train & test dataset\n",
        "num = 0.8\n",
        "file_name = 'HarryPotter'\n",
        "train_test_split_fun(file_name, num)"
      ],
      "execution_count": null,
      "outputs": []
    },
    {
      "cell_type": "markdown",
      "metadata": {
        "id": "M9PaFqHSAjpX"
      },
      "source": [
        "###copy dataset from google drive here"
      ]
    },
    {
      "cell_type": "code",
      "metadata": {
        "id": "sjW1SdhdAYSZ"
      },
      "source": [
        "# copy datasets \n",
        "!cp -r /content/drive/MyDrive/Dataset/* /content"
      ],
      "execution_count": 4,
      "outputs": []
    },
    {
      "cell_type": "markdown",
      "metadata": {
        "id": "QogIqDMtH181"
      },
      "source": [
        "###For restart training:"
      ]
    },
    {
      "cell_type": "code",
      "metadata": {
        "id": "T2wMZYJrij2A"
      },
      "source": [
        "# load checkpoint to google drive if in need( if you want to restart training from existed checkpoint)\n",
        "!cp -r /content/drive/MyDrive/checkpoint/ /content/checkpoint/"
      ],
      "execution_count": 5,
      "outputs": []
    },
    {
      "cell_type": "code",
      "metadata": {
        "id": "321S_Qo4B50I"
      },
      "source": [
        "# set file name and model_name for training and generating\n",
        "file_name = 'dataset_top1000'\n",
        "model_name = '124M'"
      ],
      "execution_count": 6,
      "outputs": []
    },
    {
      "cell_type": "markdown",
      "metadata": {
        "id": "8kwMRWI_HCiw"
      },
      "source": [
        "###Train model:"
      ]
    },
    {
      "cell_type": "code",
      "metadata": {
        "id": "bszlok5-3ZW3"
      },
      "source": [
        "sess = gpt2.start_tf_sess()\n",
        "gpt2.finetune(sess,\n",
        "              dataset=file_name+'_train.txt',\n",
        "              model_name=model_name,\n",
        "              steps=10000,\n",
        "              #Set to fresh to start training from the base GPT-2, or set to latest to restart training from an existing checkpoint.\n",
        "              restore_from='latest',   \n",
        "              run_name='run_'+model_name+'_'+file_name,\n",
        "              print_every=10,\n",
        "              sample_every=250,\n",
        "              save_every=500,\n",
        "              \n",
        "              )"
      ],
      "execution_count": null,
      "outputs": []
    },
    {
      "cell_type": "code",
      "metadata": {
        "id": "LiSiwgGC7Yhv"
      },
      "source": [
        "# save checkpoint to google drive \n",
        "!cp -r /content/checkpoint/ /content/drive/MyDrive"
      ],
      "execution_count": 9,
      "outputs": []
    },
    {
      "cell_type": "markdown",
      "metadata": {
        "id": "e3qoWxSRJaFT"
      },
      "source": [
        "###Generate story txt file:  "
      ]
    },
    {
      "cell_type": "code",
      "metadata": {
        "id": "eHxe-FtT7xc5",
        "colab": {
          "base_uri": "https://localhost:8080/"
        },
        "outputId": "4be646cd-a32f-434a-b5a4-4bface73bc89"
      },
      "source": [
        "# load the model we trained\n",
        "sess = gpt2.start_tf_sess()\n",
        "gpt2.load_gpt2(sess, run_name='run_'+model_name+'_'+file_name)"
      ],
      "execution_count": 7,
      "outputs": [
        {
          "output_type": "stream",
          "text": [
            "Loading checkpoint checkpoint/run_124M_dataset_top1000/model-40502\n",
            "INFO:tensorflow:Restoring parameters from checkpoint/run_124M_dataset_top1000/model-40502\n"
          ],
          "name": "stdout"
        }
      ]
    },
    {
      "cell_type": "code",
      "metadata": {
        "id": "hhu2NN3O8C2J",
        "colab": {
          "base_uri": "https://localhost:8080/"
        },
        "outputId": "1d7ac5f9-4f1c-4744-ae28-5650bca2e29b"
      },
      "source": [
        "# generate txt files to save stories\n",
        "# path for generated file\n",
        "gen_file = '/content/drive/MyDrive/Generated Story/run_'+model_name+'_'+file_name+'/{:%Y%m%d_%H%M%S}'.format(datetime.utcnow())\n",
        "start = input(\"Starting sentence:\")\n",
        "gpt2.generate_to_file(sess,\n",
        "                      run_name='run_'+model_name+'_'+file_name,\n",
        "                      destination_path=gen_file+'.txt',\n",
        "                      prefix=start,  # input starting sentence\n",
        "                      length=500,   # set max length of generated story\n",
        "                      temperature=0.9,  # The higher the temperature, the crazier the text\n",
        "                      nsamples=1,   # set number of generated stories, can generate several samples simultaneously\n",
        "                      batch_size=1,\n",
        "                      )\n"
      ],
      "execution_count": 43,
      "outputs": [
        {
          "output_type": "stream",
          "text": [
            "Starting sentence:The summer holiday is coming\n"
          ],
          "name": "stdout"
        }
      ]
    },
    {
      "cell_type": "code",
      "metadata": {
        "id": "H5B1l7Zn2mIK",
        "colab": {
          "base_uri": "https://localhost:8080/",
          "height": 17
        },
        "outputId": "d1ea9438-3ee7-4368-a2fe-0a6527f83877"
      },
      "source": [
        "# may have to run twice to get file to download\n",
        "files.download(gen_file+'.txt')"
      ],
      "execution_count": 44,
      "outputs": [
        {
          "output_type": "display_data",
          "data": {
            "application/javascript": [
              "\n",
              "    async function download(id, filename, size) {\n",
              "      if (!google.colab.kernel.accessAllowed) {\n",
              "        return;\n",
              "      }\n",
              "      const div = document.createElement('div');\n",
              "      const label = document.createElement('label');\n",
              "      label.textContent = `Downloading \"${filename}\": `;\n",
              "      div.appendChild(label);\n",
              "      const progress = document.createElement('progress');\n",
              "      progress.max = size;\n",
              "      div.appendChild(progress);\n",
              "      document.body.appendChild(div);\n",
              "\n",
              "      const buffers = [];\n",
              "      let downloaded = 0;\n",
              "\n",
              "      const channel = await google.colab.kernel.comms.open(id);\n",
              "      // Send a message to notify the kernel that we're ready.\n",
              "      channel.send({})\n",
              "\n",
              "      for await (const message of channel.messages) {\n",
              "        // Send a message to notify the kernel that we're ready.\n",
              "        channel.send({})\n",
              "        if (message.buffers) {\n",
              "          for (const buffer of message.buffers) {\n",
              "            buffers.push(buffer);\n",
              "            downloaded += buffer.byteLength;\n",
              "            progress.value = downloaded;\n",
              "          }\n",
              "        }\n",
              "      }\n",
              "      const blob = new Blob(buffers, {type: 'application/binary'});\n",
              "      const a = document.createElement('a');\n",
              "      a.href = window.URL.createObjectURL(blob);\n",
              "      a.download = filename;\n",
              "      div.appendChild(a);\n",
              "      a.click();\n",
              "      div.remove();\n",
              "    }\n",
              "  "
            ],
            "text/plain": [
              "<IPython.core.display.Javascript object>"
            ]
          },
          "metadata": {
            "tags": []
          }
        },
        {
          "output_type": "display_data",
          "data": {
            "application/javascript": [
              "download(\"download_a3b376b6-a890-46ff-a304-c8a870eb0386\", \"20210815_200037.txt\", 2210)"
            ],
            "text/plain": [
              "<IPython.core.display.Javascript object>"
            ]
          },
          "metadata": {
            "tags": []
          }
        }
      ]
    },
    {
      "cell_type": "markdown",
      "metadata": {
        "id": "n697QlJeU-eM"
      },
      "source": [
        "#statistics & visualization"
      ]
    },
    {
      "cell_type": "code",
      "metadata": {
        "colab": {
          "base_uri": "https://localhost:8080/"
        },
        "id": "EINmwob0TmvV",
        "outputId": "a040e43a-6342-40be-c548-c9524900ec9c"
      },
      "source": [
        "# read generated story file\n",
        "with open(gen_file+'.txt','r+',encoding='UTF-8') as f:\n",
        "  t = f.read()\n",
        "  print(t)"
      ],
      "execution_count": 45,
      "outputs": [
        {
          "output_type": "stream",
          "text": [
            "The summer holiday is coming soon\" laughed the loudest voice of Fretigar. Levi was sipping on his cold coffee knowing the answer. He did not like the cafe, he didn't like the people, he preferred his job being done on the run from the people. Many have called him Trollope, he called it an ego. With the beers finishing, the coffee having already downed, the table emptyies had slid into the wrong side, the attendees leaving the café drunker than any possible 21 year old looking froggy. I gave up on working at the cafe and headed north east to the desert to find love before my inevitable doom.On the way back to camp I let myself drift, not to drown the negative emotions into my otherwise reedy playlist. By the end of day 1249 I had found the one place in the valley closest to my ex-girlfriend's house I knew would sustain me. That little patch of wilderness packed with bison, deer, and squirrels. Its terrain unfamiliar yet still relaxing, it feels like it could possibly be the bluestest sky in the entire east. Is it truly safe? If you asked me I would say yes. I left my depression at work at around 11 pm, long after the sun had risen. I arrived at the first camp and found myself lost in thought. A squirrel approached me and offered its furs for sale, which I declined as it was not my job, I just wanted to annoy this thing. I walked closer to the camp, it’s small wooden gate almost handles the whole way, so I made my way up towards it. The animal inside only seemed to bring me back to the base of the gate, they were small to start with but they reminded me of any pet of my own, even deer. I walked around the whole procession for about half an hour before I heard the soft sound of my ex’s boots hitting the ground, and my eyes boring into the worn leather of the wooden bench in the middle of the path. As the moonlight spilled through the trees into the valley I couldn’t help but turn my head to see the holy trinity of gates rushing towards me, this one was not up yet, it was way over my head. I pull the trinket out of my pocket and feel the trinket lift from my foot, now on the outside was the trinket of relief. Upon closer inspection it is rather small, to be dropped in\n",
            "\n"
          ],
          "name": "stdout"
        }
      ]
    },
    {
      "cell_type": "markdown",
      "metadata": {
        "id": "CqrdJ25YVywt"
      },
      "source": [
        "###Pre-precess"
      ]
    },
    {
      "cell_type": "code",
      "metadata": {
        "colab": {
          "base_uri": "https://localhost:8080/"
        },
        "id": "XVU0wREhVzQN",
        "outputId": "e5c602ea-d9d2-4a95-af4f-7ccda96b8c70"
      },
      "source": [
        "# tokenize words\n",
        "w = word_tokenize(t)\n",
        "print(w)"
      ],
      "execution_count": 46,
      "outputs": [
        {
          "output_type": "stream",
          "text": [
            "['The', 'summer', 'holiday', 'is', 'coming', 'soon', \"''\", 'laughed', 'the', 'loudest', 'voice', 'of', 'Fretigar', '.', 'Levi', 'was', 'sipping', 'on', 'his', 'cold', 'coffee', 'knowing', 'the', 'answer', '.', 'He', 'did', 'not', 'like', 'the', 'cafe', ',', 'he', 'did', \"n't\", 'like', 'the', 'people', ',', 'he', 'preferred', 'his', 'job', 'being', 'done', 'on', 'the', 'run', 'from', 'the', 'people', '.', 'Many', 'have', 'called', 'him', 'Trollope', ',', 'he', 'called', 'it', 'an', 'ego', '.', 'With', 'the', 'beers', 'finishing', ',', 'the', 'coffee', 'having', 'already', 'downed', ',', 'the', 'table', 'emptyies', 'had', 'slid', 'into', 'the', 'wrong', 'side', ',', 'the', 'attendees', 'leaving', 'the', 'café', 'drunker', 'than', 'any', 'possible', '21', 'year', 'old', 'looking', 'froggy', '.', 'I', 'gave', 'up', 'on', 'working', 'at', 'the', 'cafe', 'and', 'headed', 'north', 'east', 'to', 'the', 'desert', 'to', 'find', 'love', 'before', 'my', 'inevitable', 'doom.On', 'the', 'way', 'back', 'to', 'camp', 'I', 'let', 'myself', 'drift', ',', 'not', 'to', 'drown', 'the', 'negative', 'emotions', 'into', 'my', 'otherwise', 'reedy', 'playlist', '.', 'By', 'the', 'end', 'of', 'day', '1249', 'I', 'had', 'found', 'the', 'one', 'place', 'in', 'the', 'valley', 'closest', 'to', 'my', 'ex-girlfriend', \"'s\", 'house', 'I', 'knew', 'would', 'sustain', 'me', '.', 'That', 'little', 'patch', 'of', 'wilderness', 'packed', 'with', 'bison', ',', 'deer', ',', 'and', 'squirrels', '.', 'Its', 'terrain', 'unfamiliar', 'yet', 'still', 'relaxing', ',', 'it', 'feels', 'like', 'it', 'could', 'possibly', 'be', 'the', 'bluestest', 'sky', 'in', 'the', 'entire', 'east', '.', 'Is', 'it', 'truly', 'safe', '?', 'If', 'you', 'asked', 'me', 'I', 'would', 'say', 'yes', '.', 'I', 'left', 'my', 'depression', 'at', 'work', 'at', 'around', '11', 'pm', ',', 'long', 'after', 'the', 'sun', 'had', 'risen', '.', 'I', 'arrived', 'at', 'the', 'first', 'camp', 'and', 'found', 'myself', 'lost', 'in', 'thought', '.', 'A', 'squirrel', 'approached', 'me', 'and', 'offered', 'its', 'furs', 'for', 'sale', ',', 'which', 'I', 'declined', 'as', 'it', 'was', 'not', 'my', 'job', ',', 'I', 'just', 'wanted', 'to', 'annoy', 'this', 'thing', '.', 'I', 'walked', 'closer', 'to', 'the', 'camp', ',', 'it', '’', 's', 'small', 'wooden', 'gate', 'almost', 'handles', 'the', 'whole', 'way', ',', 'so', 'I', 'made', 'my', 'way', 'up', 'towards', 'it', '.', 'The', 'animal', 'inside', 'only', 'seemed', 'to', 'bring', 'me', 'back', 'to', 'the', 'base', 'of', 'the', 'gate', ',', 'they', 'were', 'small', 'to', 'start', 'with', 'but', 'they', 'reminded', 'me', 'of', 'any', 'pet', 'of', 'my', 'own', ',', 'even', 'deer', '.', 'I', 'walked', 'around', 'the', 'whole', 'procession', 'for', 'about', 'half', 'an', 'hour', 'before', 'I', 'heard', 'the', 'soft', 'sound', 'of', 'my', 'ex', '’', 's', 'boots', 'hitting', 'the', 'ground', ',', 'and', 'my', 'eyes', 'boring', 'into', 'the', 'worn', 'leather', 'of', 'the', 'wooden', 'bench', 'in', 'the', 'middle', 'of', 'the', 'path', '.', 'As', 'the', 'moonlight', 'spilled', 'through', 'the', 'trees', 'into', 'the', 'valley', 'I', 'couldn', '’', 't', 'help', 'but', 'turn', 'my', 'head', 'to', 'see', 'the', 'holy', 'trinity', 'of', 'gates', 'rushing', 'towards', 'me', ',', 'this', 'one', 'was', 'not', 'up', 'yet', ',', 'it', 'was', 'way', 'over', 'my', 'head', '.', 'I', 'pull', 'the', 'trinket', 'out', 'of', 'my', 'pocket', 'and', 'feel', 'the', 'trinket', 'lift', 'from', 'my', 'foot', ',', 'now', 'on', 'the', 'outside', 'was', 'the', 'trinket', 'of', 'relief', '.', 'Upon', 'closer', 'inspection', 'it', 'is', 'rather', 'small', ',', 'to', 'be', 'dropped', 'in']\n"
          ],
          "name": "stdout"
        }
      ]
    },
    {
      "cell_type": "code",
      "metadata": {
        "colab": {
          "base_uri": "https://localhost:8080/"
        },
        "id": "-PsJ9etoV2Wc",
        "outputId": "c51faa21-e4e1-4814-c90b-7c2cd6d37ec2"
      },
      "source": [
        "# tagging the part of speech each word belongs to\n",
        "tw = pos_tag(w)\n",
        "print(tw)"
      ],
      "execution_count": 47,
      "outputs": [
        {
          "output_type": "stream",
          "text": [
            "[('The', 'DT'), ('summer', 'NN'), ('holiday', 'NN'), ('is', 'VBZ'), ('coming', 'VBG'), ('soon', 'RB'), (\"''\", \"''\"), ('laughed', 'VBD'), ('the', 'DT'), ('loudest', 'JJS'), ('voice', 'NN'), ('of', 'IN'), ('Fretigar', 'NNP'), ('.', '.'), ('Levi', 'NNP'), ('was', 'VBD'), ('sipping', 'VBG'), ('on', 'IN'), ('his', 'PRP$'), ('cold', 'JJ'), ('coffee', 'NN'), ('knowing', 'VBG'), ('the', 'DT'), ('answer', 'NN'), ('.', '.'), ('He', 'PRP'), ('did', 'VBD'), ('not', 'RB'), ('like', 'IN'), ('the', 'DT'), ('cafe', 'NN'), (',', ','), ('he', 'PRP'), ('did', 'VBD'), (\"n't\", 'RB'), ('like', 'VB'), ('the', 'DT'), ('people', 'NNS'), (',', ','), ('he', 'PRP'), ('preferred', 'VBD'), ('his', 'PRP$'), ('job', 'NN'), ('being', 'VBG'), ('done', 'VBN'), ('on', 'IN'), ('the', 'DT'), ('run', 'NN'), ('from', 'IN'), ('the', 'DT'), ('people', 'NNS'), ('.', '.'), ('Many', 'JJ'), ('have', 'VBP'), ('called', 'VBN'), ('him', 'PRP'), ('Trollope', 'NNP'), (',', ','), ('he', 'PRP'), ('called', 'VBD'), ('it', 'PRP'), ('an', 'DT'), ('ego', 'NN'), ('.', '.'), ('With', 'IN'), ('the', 'DT'), ('beers', 'NNS'), ('finishing', 'NN'), (',', ','), ('the', 'DT'), ('coffee', 'NN'), ('having', 'VBG'), ('already', 'RB'), ('downed', 'VBN'), (',', ','), ('the', 'DT'), ('table', 'NN'), ('emptyies', 'NNS'), ('had', 'VBD'), ('slid', 'VBN'), ('into', 'IN'), ('the', 'DT'), ('wrong', 'JJ'), ('side', 'NN'), (',', ','), ('the', 'DT'), ('attendees', 'NNS'), ('leaving', 'VBG'), ('the', 'DT'), ('café', 'NN'), ('drunker', 'NN'), ('than', 'IN'), ('any', 'DT'), ('possible', 'JJ'), ('21', 'CD'), ('year', 'NN'), ('old', 'JJ'), ('looking', 'VBG'), ('froggy', 'NN'), ('.', '.'), ('I', 'PRP'), ('gave', 'VBD'), ('up', 'RP'), ('on', 'IN'), ('working', 'VBG'), ('at', 'IN'), ('the', 'DT'), ('cafe', 'NN'), ('and', 'CC'), ('headed', 'VBD'), ('north', 'RB'), ('east', 'JJ'), ('to', 'TO'), ('the', 'DT'), ('desert', 'NN'), ('to', 'TO'), ('find', 'VB'), ('love', 'NN'), ('before', 'IN'), ('my', 'PRP$'), ('inevitable', 'JJ'), ('doom.On', 'NN'), ('the', 'DT'), ('way', 'NN'), ('back', 'RB'), ('to', 'TO'), ('camp', 'NN'), ('I', 'PRP'), ('let', 'VBP'), ('myself', 'PRP'), ('drift', 'VB'), (',', ','), ('not', 'RB'), ('to', 'TO'), ('drown', 'VB'), ('the', 'DT'), ('negative', 'JJ'), ('emotions', 'NNS'), ('into', 'IN'), ('my', 'PRP$'), ('otherwise', 'NN'), ('reedy', 'NN'), ('playlist', 'NN'), ('.', '.'), ('By', 'IN'), ('the', 'DT'), ('end', 'NN'), ('of', 'IN'), ('day', 'NN'), ('1249', 'CD'), ('I', 'PRP'), ('had', 'VBD'), ('found', 'VBN'), ('the', 'DT'), ('one', 'CD'), ('place', 'NN'), ('in', 'IN'), ('the', 'DT'), ('valley', 'NN'), ('closest', 'NN'), ('to', 'TO'), ('my', 'PRP$'), ('ex-girlfriend', 'NN'), (\"'s\", 'POS'), ('house', 'NN'), ('I', 'PRP'), ('knew', 'VBD'), ('would', 'MD'), ('sustain', 'VB'), ('me', 'PRP'), ('.', '.'), ('That', 'DT'), ('little', 'JJ'), ('patch', 'NN'), ('of', 'IN'), ('wilderness', 'NN'), ('packed', 'VBN'), ('with', 'IN'), ('bison', 'NN'), (',', ','), ('deer', 'NN'), (',', ','), ('and', 'CC'), ('squirrels', 'NNS'), ('.', '.'), ('Its', 'PRP$'), ('terrain', 'NN'), ('unfamiliar', 'JJ'), ('yet', 'RB'), ('still', 'RB'), ('relaxing', 'VBG'), (',', ','), ('it', 'PRP'), ('feels', 'VBZ'), ('like', 'IN'), ('it', 'PRP'), ('could', 'MD'), ('possibly', 'RB'), ('be', 'VB'), ('the', 'DT'), ('bluestest', 'JJS'), ('sky', 'NN'), ('in', 'IN'), ('the', 'DT'), ('entire', 'JJ'), ('east', 'NN'), ('.', '.'), ('Is', 'VBZ'), ('it', 'PRP'), ('truly', 'RB'), ('safe', 'JJ'), ('?', '.'), ('If', 'IN'), ('you', 'PRP'), ('asked', 'VBD'), ('me', 'PRP'), ('I', 'PRP'), ('would', 'MD'), ('say', 'VB'), ('yes', 'UH'), ('.', '.'), ('I', 'PRP'), ('left', 'VBD'), ('my', 'PRP$'), ('depression', 'NN'), ('at', 'IN'), ('work', 'NN'), ('at', 'IN'), ('around', 'IN'), ('11', 'CD'), ('pm', 'NNS'), (',', ','), ('long', 'RB'), ('after', 'IN'), ('the', 'DT'), ('sun', 'NN'), ('had', 'VBD'), ('risen', 'VBN'), ('.', '.'), ('I', 'PRP'), ('arrived', 'VBD'), ('at', 'IN'), ('the', 'DT'), ('first', 'JJ'), ('camp', 'NN'), ('and', 'CC'), ('found', 'VBD'), ('myself', 'PRP'), ('lost', 'VBN'), ('in', 'IN'), ('thought', 'NN'), ('.', '.'), ('A', 'DT'), ('squirrel', 'NN'), ('approached', 'VBN'), ('me', 'PRP'), ('and', 'CC'), ('offered', 'VBD'), ('its', 'PRP$'), ('furs', 'NNS'), ('for', 'IN'), ('sale', 'NN'), (',', ','), ('which', 'WDT'), ('I', 'PRP'), ('declined', 'VBD'), ('as', 'IN'), ('it', 'PRP'), ('was', 'VBD'), ('not', 'RB'), ('my', 'PRP$'), ('job', 'NN'), (',', ','), ('I', 'PRP'), ('just', 'RB'), ('wanted', 'VBD'), ('to', 'TO'), ('annoy', 'VB'), ('this', 'DT'), ('thing', 'NN'), ('.', '.'), ('I', 'PRP'), ('walked', 'VBD'), ('closer', 'RBR'), ('to', 'TO'), ('the', 'DT'), ('camp', 'NN'), (',', ','), ('it', 'PRP'), ('’', 'VBD'), ('s', 'PRP'), ('small', 'JJ'), ('wooden', 'JJ'), ('gate', 'NN'), ('almost', 'RB'), ('handles', 'VBZ'), ('the', 'DT'), ('whole', 'JJ'), ('way', 'NN'), (',', ','), ('so', 'IN'), ('I', 'PRP'), ('made', 'VBD'), ('my', 'PRP$'), ('way', 'NN'), ('up', 'IN'), ('towards', 'NNS'), ('it', 'PRP'), ('.', '.'), ('The', 'DT'), ('animal', 'NN'), ('inside', 'IN'), ('only', 'RB'), ('seemed', 'VBD'), ('to', 'TO'), ('bring', 'VB'), ('me', 'PRP'), ('back', 'RB'), ('to', 'TO'), ('the', 'DT'), ('base', 'NN'), ('of', 'IN'), ('the', 'DT'), ('gate', 'NN'), (',', ','), ('they', 'PRP'), ('were', 'VBD'), ('small', 'JJ'), ('to', 'TO'), ('start', 'VB'), ('with', 'IN'), ('but', 'CC'), ('they', 'PRP'), ('reminded', 'VBD'), ('me', 'PRP'), ('of', 'IN'), ('any', 'DT'), ('pet', 'NN'), ('of', 'IN'), ('my', 'PRP$'), ('own', 'JJ'), (',', ','), ('even', 'RB'), ('deer', 'NN'), ('.', '.'), ('I', 'PRP'), ('walked', 'VBD'), ('around', 'IN'), ('the', 'DT'), ('whole', 'JJ'), ('procession', 'NN'), ('for', 'IN'), ('about', 'IN'), ('half', 'PDT'), ('an', 'DT'), ('hour', 'NN'), ('before', 'IN'), ('I', 'PRP'), ('heard', 'VBP'), ('the', 'DT'), ('soft', 'JJ'), ('sound', 'NN'), ('of', 'IN'), ('my', 'PRP$'), ('ex', 'NN'), ('’', 'NNP'), ('s', 'VBZ'), ('boots', 'NNS'), ('hitting', 'VBG'), ('the', 'DT'), ('ground', 'NN'), (',', ','), ('and', 'CC'), ('my', 'PRP$'), ('eyes', 'NNS'), ('boring', 'VBG'), ('into', 'IN'), ('the', 'DT'), ('worn', 'JJ'), ('leather', 'NN'), ('of', 'IN'), ('the', 'DT'), ('wooden', 'JJ'), ('bench', 'NN'), ('in', 'IN'), ('the', 'DT'), ('middle', 'NN'), ('of', 'IN'), ('the', 'DT'), ('path', 'NN'), ('.', '.'), ('As', 'IN'), ('the', 'DT'), ('moonlight', 'NN'), ('spilled', 'VBD'), ('through', 'IN'), ('the', 'DT'), ('trees', 'NNS'), ('into', 'IN'), ('the', 'DT'), ('valley', 'NN'), ('I', 'PRP'), ('couldn', 'VBP'), ('’', 'JJ'), ('t', 'NN'), ('help', 'NN'), ('but', 'CC'), ('turn', 'VB'), ('my', 'PRP$'), ('head', 'NN'), ('to', 'TO'), ('see', 'VB'), ('the', 'DT'), ('holy', 'JJ'), ('trinity', 'NN'), ('of', 'IN'), ('gates', 'NNS'), ('rushing', 'VBG'), ('towards', 'IN'), ('me', 'PRP'), (',', ','), ('this', 'DT'), ('one', 'CD'), ('was', 'VBD'), ('not', 'RB'), ('up', 'RB'), ('yet', 'RB'), (',', ','), ('it', 'PRP'), ('was', 'VBD'), ('way', 'NN'), ('over', 'IN'), ('my', 'PRP$'), ('head', 'NN'), ('.', '.'), ('I', 'PRP'), ('pull', 'VBP'), ('the', 'DT'), ('trinket', 'NN'), ('out', 'IN'), ('of', 'IN'), ('my', 'PRP$'), ('pocket', 'NN'), ('and', 'CC'), ('feel', 'VB'), ('the', 'DT'), ('trinket', 'NN'), ('lift', 'NN'), ('from', 'IN'), ('my', 'PRP$'), ('foot', 'NN'), (',', ','), ('now', 'RB'), ('on', 'IN'), ('the', 'DT'), ('outside', 'NN'), ('was', 'VBD'), ('the', 'DT'), ('trinket', 'NN'), ('of', 'IN'), ('relief', 'NN'), ('.', '.'), ('Upon', 'IN'), ('closer', 'JJR'), ('inspection', 'NN'), ('it', 'PRP'), ('is', 'VBZ'), ('rather', 'RB'), ('small', 'JJ'), (',', ','), ('to', 'TO'), ('be', 'VB'), ('dropped', 'VBN'), ('in', 'IN')]\n"
          ],
          "name": "stdout"
        }
      ]
    },
    {
      "cell_type": "code",
      "metadata": {
        "colab": {
          "base_uri": "https://localhost:8080/"
        },
        "id": "lzPQMuQ2V320",
        "outputId": "3bbf9a6a-3252-47c2-eb03-0cb2e1934f0a"
      },
      "source": [
        "# extract the names and spaces from the story\n",
        "name = []\n",
        "for i in tw:\n",
        "  if i[1] in ('NNP','NNPS'):\n",
        "    name.append(i[0])\n",
        "print(name)"
      ],
      "execution_count": 48,
      "outputs": [
        {
          "output_type": "stream",
          "text": [
            "['Fretigar', 'Levi', 'Trollope', '’']\n"
          ],
          "name": "stdout"
        }
      ]
    },
    {
      "cell_type": "code",
      "metadata": {
        "colab": {
          "base_uri": "https://localhost:8080/"
        },
        "id": "BGFGjr0ZV5bz",
        "outputId": "37c50b22-e301-43c1-9ca4-6f8eaf912759"
      },
      "source": [
        "# do pre-process to story file\n",
        "\n",
        "# Convert to lower case\n",
        "t = t.lower()\n",
        "# Replaces URLs with the word URL\n",
        "t = re.sub(r'((www\\.[\\S]+)|(https?://[\\S]+))', '', t)\n",
        "w = word_tokenize(t)\n",
        "\n",
        "tmp = []\n",
        "word_cleaned = []\n",
        "for i in w:\n",
        "# Remove punctuation\n",
        "  i = i.strip('\\'“”&\"?!,.():;``')\n",
        "  # Convert more than 2 letter repetitions to 2 letter\n",
        "  i = re.sub(r'(.)\\1+', r'\\1\\1', i)\n",
        "  # Remove - & '\n",
        "  i = re.sub(r'(-|\\')', '', i)\n",
        "  # keep the initial of names and places in the story in capital letter \n",
        "  if i.capitalize() in name:\n",
        "    i = i.capitalize()\n",
        "  if i is not '':\n",
        "    tmp.append(i)\n",
        "print('tmp: ',tmp)\n",
        "\n",
        "# remove stopwords\n",
        "stop_words = nltk.corpus.stopwords.words('english')\n",
        "for i in tmp:\n",
        "  if i not in stop_words:\n",
        "    word_cleaned.append(i)  \n",
        "w = word_cleaned\n",
        "print('final wordlist:',w)"
      ],
      "execution_count": 49,
      "outputs": [
        {
          "output_type": "stream",
          "text": [
            "tmp:  ['the', 'summer', 'holiday', 'is', 'coming', 'soon', 'laughed', 'the', 'loudest', 'voice', 'of', 'Fretigar', 'Levi', 'was', 'sipping', 'on', 'his', 'cold', 'coffee', 'knowing', 'the', 'answer', 'he', 'did', 'not', 'like', 'the', 'cafe', 'he', 'did', 'nt', 'like', 'the', 'people', 'he', 'preferred', 'his', 'job', 'being', 'done', 'on', 'the', 'run', 'from', 'the', 'people', 'many', 'have', 'called', 'him', 'Trollope', 'he', 'called', 'it', 'an', 'ego', 'with', 'the', 'beers', 'finishing', 'the', 'coffee', 'having', 'already', 'downed', 'the', 'table', 'emptyies', 'had', 'slid', 'into', 'the', 'wrong', 'side', 'the', 'attendees', 'leaving', 'the', 'café', 'drunker', 'than', 'any', 'possible', '21', 'year', 'old', 'looking', 'froggy', 'i', 'gave', 'up', 'on', 'working', 'at', 'the', 'cafe', 'and', 'headed', 'north', 'east', 'to', 'the', 'desert', 'to', 'find', 'love', 'before', 'my', 'inevitable', 'doom.on', 'the', 'way', 'back', 'to', 'camp', 'i', 'let', 'myself', 'drift', 'not', 'to', 'drown', 'the', 'negative', 'emotions', 'into', 'my', 'otherwise', 'reedy', 'playlist', 'by', 'the', 'end', 'of', 'day', '1249', 'i', 'had', 'found', 'the', 'one', 'place', 'in', 'the', 'valley', 'closest', 'to', 'my', 'exgirlfriend', 's', 'house', 'i', 'knew', 'would', 'sustain', 'me', 'that', 'little', 'patch', 'of', 'wilderness', 'packed', 'with', 'bison', 'deer', 'and', 'squirrels', 'its', 'terrain', 'unfamiliar', 'yet', 'still', 'relaxing', 'it', 'feels', 'like', 'it', 'could', 'possibly', 'be', 'the', 'bluestest', 'sky', 'in', 'the', 'entire', 'east', 'is', 'it', 'truly', 'safe', 'if', 'you', 'asked', 'me', 'i', 'would', 'say', 'yes', 'i', 'left', 'my', 'depression', 'at', 'work', 'at', 'around', '11', 'pm', 'long', 'after', 'the', 'sun', 'had', 'risen', 'i', 'arrived', 'at', 'the', 'first', 'camp', 'and', 'found', 'myself', 'lost', 'in', 'thought', 'a', 'squirrel', 'approached', 'me', 'and', 'offered', 'its', 'furs', 'for', 'sale', 'which', 'i', 'declined', 'as', 'it', 'was', 'not', 'my', 'job', 'i', 'just', 'wanted', 'to', 'annoy', 'this', 'thing', 'i', 'walked', 'closer', 'to', 'the', 'camp', 'it', '’', 's', 'small', 'wooden', 'gate', 'almost', 'handles', 'the', 'whole', 'way', 'so', 'i', 'made', 'my', 'way', 'up', 'towards', 'it', 'the', 'animal', 'inside', 'only', 'seemed', 'to', 'bring', 'me', 'back', 'to', 'the', 'base', 'of', 'the', 'gate', 'they', 'were', 'small', 'to', 'start', 'with', 'but', 'they', 'reminded', 'me', 'of', 'any', 'pet', 'of', 'my', 'own', 'even', 'deer', 'i', 'walked', 'around', 'the', 'whole', 'procession', 'for', 'about', 'half', 'an', 'hour', 'before', 'i', 'heard', 'the', 'soft', 'sound', 'of', 'my', 'ex', '’', 's', 'boots', 'hitting', 'the', 'ground', 'and', 'my', 'eyes', 'boring', 'into', 'the', 'worn', 'leather', 'of', 'the', 'wooden', 'bench', 'in', 'the', 'middle', 'of', 'the', 'path', 'as', 'the', 'moonlight', 'spilled', 'through', 'the', 'trees', 'into', 'the', 'valley', 'i', 'couldn', '’', 't', 'help', 'but', 'turn', 'my', 'head', 'to', 'see', 'the', 'holy', 'trinity', 'of', 'gates', 'rushing', 'towards', 'me', 'this', 'one', 'was', 'not', 'up', 'yet', 'it', 'was', 'way', 'over', 'my', 'head', 'i', 'pull', 'the', 'trinket', 'out', 'of', 'my', 'pocket', 'and', 'feel', 'the', 'trinket', 'lift', 'from', 'my', 'foot', 'now', 'on', 'the', 'outside', 'was', 'the', 'trinket', 'of', 'relief', 'upon', 'closer', 'inspection', 'it', 'is', 'rather', 'small', 'to', 'be', 'dropped', 'in']\n",
            "final wordlist: ['summer', 'holiday', 'coming', 'soon', 'laughed', 'loudest', 'voice', 'Fretigar', 'Levi', 'sipping', 'cold', 'coffee', 'knowing', 'answer', 'like', 'cafe', 'nt', 'like', 'people', 'preferred', 'job', 'done', 'run', 'people', 'many', 'called', 'Trollope', 'called', 'ego', 'beers', 'finishing', 'coffee', 'already', 'downed', 'table', 'emptyies', 'slid', 'wrong', 'side', 'attendees', 'leaving', 'café', 'drunker', 'possible', '21', 'year', 'old', 'looking', 'froggy', 'gave', 'working', 'cafe', 'headed', 'north', 'east', 'desert', 'find', 'love', 'inevitable', 'doom.on', 'way', 'back', 'camp', 'let', 'drift', 'drown', 'negative', 'emotions', 'otherwise', 'reedy', 'playlist', 'end', 'day', '1249', 'found', 'one', 'place', 'valley', 'closest', 'exgirlfriend', 'house', 'knew', 'would', 'sustain', 'little', 'patch', 'wilderness', 'packed', 'bison', 'deer', 'squirrels', 'terrain', 'unfamiliar', 'yet', 'still', 'relaxing', 'feels', 'like', 'could', 'possibly', 'bluestest', 'sky', 'entire', 'east', 'truly', 'safe', 'asked', 'would', 'say', 'yes', 'left', 'depression', 'work', 'around', '11', 'pm', 'long', 'sun', 'risen', 'arrived', 'first', 'camp', 'found', 'lost', 'thought', 'squirrel', 'approached', 'offered', 'furs', 'sale', 'declined', 'job', 'wanted', 'annoy', 'thing', 'walked', 'closer', 'camp', '’', 'small', 'wooden', 'gate', 'almost', 'handles', 'whole', 'way', 'made', 'way', 'towards', 'animal', 'inside', 'seemed', 'bring', 'back', 'base', 'gate', 'small', 'start', 'reminded', 'pet', 'even', 'deer', 'walked', 'around', 'whole', 'procession', 'half', 'hour', 'heard', 'soft', 'sound', 'ex', '’', 'boots', 'hitting', 'ground', 'eyes', 'boring', 'worn', 'leather', 'wooden', 'bench', 'middle', 'path', 'moonlight', 'spilled', 'trees', 'valley', '’', 'help', 'turn', 'head', 'see', 'holy', 'trinity', 'gates', 'rushing', 'towards', 'one', 'yet', 'way', 'head', 'pull', 'trinket', 'pocket', 'feel', 'trinket', 'lift', 'foot', 'outside', 'trinket', 'relief', 'upon', 'closer', 'inspection', 'rather', 'small', 'dropped']\n"
          ],
          "name": "stdout"
        }
      ]
    },
    {
      "cell_type": "markdown",
      "metadata": {
        "id": "QNPStRZ2V8S7"
      },
      "source": [
        "###Count words"
      ]
    },
    {
      "cell_type": "code",
      "metadata": {
        "colab": {
          "base_uri": "https://localhost:8080/"
        },
        "id": "_HYMU9kJWAHU",
        "outputId": "a1a57f8f-8fa7-4c96-bd2b-5c6b5586e60d"
      },
      "source": [
        "# count the number of each word\n",
        "word_count = {}\n",
        "for i in w:\n",
        "  if i in word_count:\n",
        "    word_count[i] += 1\n",
        "  else:\n",
        "    word_count[i] = 1\n",
        "print(word_count)"
      ],
      "execution_count": 50,
      "outputs": [
        {
          "output_type": "stream",
          "text": [
            "{'summer': 1, 'holiday': 1, 'coming': 1, 'soon': 1, 'laughed': 1, 'loudest': 1, 'voice': 1, 'Fretigar': 1, 'Levi': 1, 'sipping': 1, 'cold': 1, 'coffee': 2, 'knowing': 1, 'answer': 1, 'like': 3, 'cafe': 2, 'nt': 1, 'people': 2, 'preferred': 1, 'job': 2, 'done': 1, 'run': 1, 'many': 1, 'called': 2, 'Trollope': 1, 'ego': 1, 'beers': 1, 'finishing': 1, 'already': 1, 'downed': 1, 'table': 1, 'emptyies': 1, 'slid': 1, 'wrong': 1, 'side': 1, 'attendees': 1, 'leaving': 1, 'café': 1, 'drunker': 1, 'possible': 1, '21': 1, 'year': 1, 'old': 1, 'looking': 1, 'froggy': 1, 'gave': 1, 'working': 1, 'headed': 1, 'north': 1, 'east': 2, 'desert': 1, 'find': 1, 'love': 1, 'inevitable': 1, 'doom.on': 1, 'way': 4, 'back': 2, 'camp': 3, 'let': 1, 'drift': 1, 'drown': 1, 'negative': 1, 'emotions': 1, 'otherwise': 1, 'reedy': 1, 'playlist': 1, 'end': 1, 'day': 1, '1249': 1, 'found': 2, 'one': 2, 'place': 1, 'valley': 2, 'closest': 1, 'exgirlfriend': 1, 'house': 1, 'knew': 1, 'would': 2, 'sustain': 1, 'little': 1, 'patch': 1, 'wilderness': 1, 'packed': 1, 'bison': 1, 'deer': 2, 'squirrels': 1, 'terrain': 1, 'unfamiliar': 1, 'yet': 2, 'still': 1, 'relaxing': 1, 'feels': 1, 'could': 1, 'possibly': 1, 'bluestest': 1, 'sky': 1, 'entire': 1, 'truly': 1, 'safe': 1, 'asked': 1, 'say': 1, 'yes': 1, 'left': 1, 'depression': 1, 'work': 1, 'around': 2, '11': 1, 'pm': 1, 'long': 1, 'sun': 1, 'risen': 1, 'arrived': 1, 'first': 1, 'lost': 1, 'thought': 1, 'squirrel': 1, 'approached': 1, 'offered': 1, 'furs': 1, 'sale': 1, 'declined': 1, 'wanted': 1, 'annoy': 1, 'thing': 1, 'walked': 2, 'closer': 2, '’': 3, 'small': 3, 'wooden': 2, 'gate': 2, 'almost': 1, 'handles': 1, 'whole': 2, 'made': 1, 'towards': 2, 'animal': 1, 'inside': 1, 'seemed': 1, 'bring': 1, 'base': 1, 'start': 1, 'reminded': 1, 'pet': 1, 'even': 1, 'procession': 1, 'half': 1, 'hour': 1, 'heard': 1, 'soft': 1, 'sound': 1, 'ex': 1, 'boots': 1, 'hitting': 1, 'ground': 1, 'eyes': 1, 'boring': 1, 'worn': 1, 'leather': 1, 'bench': 1, 'middle': 1, 'path': 1, 'moonlight': 1, 'spilled': 1, 'trees': 1, 'help': 1, 'turn': 1, 'head': 2, 'see': 1, 'holy': 1, 'trinity': 1, 'gates': 1, 'rushing': 1, 'pull': 1, 'trinket': 3, 'pocket': 1, 'feel': 1, 'lift': 1, 'foot': 1, 'outside': 1, 'relief': 1, 'upon': 1, 'inspection': 1, 'rather': 1, 'dropped': 1}\n"
          ],
          "name": "stdout"
        }
      ]
    },
    {
      "cell_type": "markdown",
      "metadata": {
        "id": "SA8ZsqhbWCu0"
      },
      "source": [
        "### split the part of speech"
      ]
    },
    {
      "cell_type": "code",
      "metadata": {
        "colab": {
          "base_uri": "https://localhost:8080/"
        },
        "id": "R6A6RYmMWEmd",
        "outputId": "7ed460d4-805e-4d4b-a1a0-02ff6d602536"
      },
      "source": [
        "# extract the noun \n",
        "noun = []\n",
        "for i in tw:\n",
        "  if i[1] in ('NN','NNS','NNP','NNPS'):\n",
        "    noun.append(i[0])\n",
        "print(noun)"
      ],
      "execution_count": 51,
      "outputs": [
        {
          "output_type": "stream",
          "text": [
            "['summer', 'holiday', 'voice', 'Fretigar', 'Levi', 'coffee', 'answer', 'cafe', 'people', 'job', 'run', 'people', 'Trollope', 'ego', 'beers', 'finishing', 'coffee', 'table', 'emptyies', 'side', 'attendees', 'café', 'drunker', 'year', 'froggy', 'cafe', 'desert', 'love', 'doom.On', 'way', 'camp', 'emotions', 'otherwise', 'reedy', 'playlist', 'end', 'day', 'place', 'valley', 'closest', 'ex-girlfriend', 'house', 'patch', 'wilderness', 'bison', 'deer', 'squirrels', 'terrain', 'sky', 'east', 'depression', 'work', 'pm', 'sun', 'camp', 'thought', 'squirrel', 'furs', 'sale', 'job', 'thing', 'camp', 'gate', 'way', 'way', 'towards', 'animal', 'base', 'gate', 'pet', 'deer', 'procession', 'hour', 'sound', 'ex', '’', 'boots', 'ground', 'eyes', 'leather', 'bench', 'middle', 'path', 'moonlight', 'trees', 'valley', 't', 'help', 'head', 'trinity', 'gates', 'way', 'head', 'trinket', 'pocket', 'trinket', 'lift', 'foot', 'outside', 'trinket', 'relief', 'inspection']\n"
          ],
          "name": "stdout"
        }
      ]
    },
    {
      "cell_type": "code",
      "metadata": {
        "colab": {
          "base_uri": "https://localhost:8080/"
        },
        "id": "XCAVslnMWG_D",
        "outputId": "101afdc7-60a9-417e-887d-a98a472e623b"
      },
      "source": [
        "# extract verb\n",
        "verb = []\n",
        "for i in tw:\n",
        "  if i[1] in ('VB','VBD','VBG','VBN','VBP','VBZ'):\n",
        "    verb.append(i[0])\n",
        "print(verb)"
      ],
      "execution_count": 52,
      "outputs": [
        {
          "output_type": "stream",
          "text": [
            "['is', 'coming', 'laughed', 'was', 'sipping', 'knowing', 'did', 'did', 'like', 'preferred', 'being', 'done', 'have', 'called', 'called', 'having', 'downed', 'had', 'slid', 'leaving', 'looking', 'gave', 'working', 'headed', 'find', 'let', 'drift', 'drown', 'had', 'found', 'knew', 'sustain', 'packed', 'relaxing', 'feels', 'be', 'Is', 'asked', 'say', 'left', 'had', 'risen', 'arrived', 'found', 'lost', 'approached', 'offered', 'declined', 'was', 'wanted', 'annoy', 'walked', '’', 'handles', 'made', 'seemed', 'bring', 'were', 'start', 'reminded', 'walked', 'heard', 's', 'hitting', 'boring', 'spilled', 'couldn', 'turn', 'see', 'rushing', 'was', 'was', 'pull', 'feel', 'was', 'is', 'be', 'dropped']\n"
          ],
          "name": "stdout"
        }
      ]
    },
    {
      "cell_type": "code",
      "metadata": {
        "colab": {
          "base_uri": "https://localhost:8080/"
        },
        "id": "9jqSPH4RWI69",
        "outputId": "696ab4c5-1db0-4853-d50f-27f4d7fe5311"
      },
      "source": [
        "# extract adjective\n",
        "adj = []\n",
        "for i in tw:\n",
        "  if i[1] in ('JJ','JJR','JJS'):\n",
        "    adj.append(i[0])\n",
        "print(adj)\n"
      ],
      "execution_count": 53,
      "outputs": [
        {
          "output_type": "stream",
          "text": [
            "['loudest', 'cold', 'Many', 'wrong', 'possible', 'old', 'east', 'inevitable', 'negative', 'little', 'unfamiliar', 'bluestest', 'entire', 'safe', 'first', 'small', 'wooden', 'whole', 'small', 'own', 'whole', 'soft', 'worn', 'wooden', '’', 'holy', 'closer', 'small']\n"
          ],
          "name": "stdout"
        }
      ]
    },
    {
      "cell_type": "code",
      "metadata": {
        "colab": {
          "base_uri": "https://localhost:8080/"
        },
        "id": "9PUi9VYoWK0z",
        "outputId": "51b19489-67f9-41c3-c238-42591031a8b9"
      },
      "source": [
        "# extract adverb\n",
        "adv = []\n",
        "for i in tw:\n",
        "  if i[1] in ('RB','RBR','RBS'):\n",
        "    adv.append(i[0])\n",
        "print(adv)"
      ],
      "execution_count": 54,
      "outputs": [
        {
          "output_type": "stream",
          "text": [
            "['soon', 'not', \"n't\", 'already', 'north', 'back', 'not', 'yet', 'still', 'possibly', 'truly', 'long', 'not', 'just', 'closer', 'almost', 'only', 'back', 'even', 'not', 'up', 'yet', 'now', 'rather']\n"
          ],
          "name": "stdout"
        }
      ]
    },
    {
      "cell_type": "markdown",
      "metadata": {
        "id": "wCy30b84WO4e"
      },
      "source": [
        "###Count number of word in each part of speech"
      ]
    },
    {
      "cell_type": "code",
      "metadata": {
        "colab": {
          "base_uri": "https://localhost:8080/",
          "height": 493
        },
        "id": "u71io5zQWMZt",
        "outputId": "580913fc-cc90-48d5-8fc4-353017cc60ea"
      },
      "source": [
        "# extract the count of noun\n",
        "freq_noun = {}\n",
        "for i in word_count.keys():\n",
        "  if i in noun:\n",
        "    freq_noun[i] = word_count[i]\n",
        "print(freq_noun)\n",
        "\n",
        "# count total number and proportion of noun in this text file\n",
        "prop_noun = len(freq_noun)/len(tmp)\n",
        "print('number of noun in this paper:',len(freq_noun))\n",
        "print('The proportion of noun in the text is:',prop_noun)\n",
        "\n",
        "# change to dataframe and sort them\n",
        "df_noun = pd.DataFrame.from_dict(freq_noun, orient='index',columns=['count']).sort_values(by=['count'],ascending=False)\n",
        "df_noun = df_noun.reset_index().rename(columns={'index':'noun'})\n",
        "#df_noun = df_noun.sort_values(by=['count'],ascending=False)\n",
        "df_noun"
      ],
      "execution_count": 55,
      "outputs": [
        {
          "output_type": "stream",
          "text": [
            "{'summer': 1, 'holiday': 1, 'voice': 1, 'Fretigar': 1, 'Levi': 1, 'coffee': 2, 'answer': 1, 'cafe': 2, 'people': 2, 'job': 2, 'run': 1, 'Trollope': 1, 'ego': 1, 'beers': 1, 'finishing': 1, 'table': 1, 'emptyies': 1, 'side': 1, 'attendees': 1, 'café': 1, 'drunker': 1, 'year': 1, 'froggy': 1, 'east': 2, 'desert': 1, 'love': 1, 'way': 4, 'camp': 3, 'emotions': 1, 'otherwise': 1, 'reedy': 1, 'playlist': 1, 'end': 1, 'day': 1, 'place': 1, 'valley': 2, 'closest': 1, 'house': 1, 'patch': 1, 'wilderness': 1, 'bison': 1, 'deer': 2, 'squirrels': 1, 'terrain': 1, 'sky': 1, 'depression': 1, 'work': 1, 'pm': 1, 'sun': 1, 'thought': 1, 'squirrel': 1, 'furs': 1, 'sale': 1, 'thing': 1, '’': 3, 'gate': 2, 'towards': 2, 'animal': 1, 'base': 1, 'pet': 1, 'procession': 1, 'hour': 1, 'sound': 1, 'ex': 1, 'boots': 1, 'ground': 1, 'eyes': 1, 'leather': 1, 'bench': 1, 'middle': 1, 'path': 1, 'moonlight': 1, 'trees': 1, 'help': 1, 'head': 2, 'trinity': 1, 'gates': 1, 'trinket': 3, 'pocket': 1, 'lift': 1, 'foot': 1, 'outside': 1, 'relief': 1, 'inspection': 1}\n",
            "number of noun in this paper: 84\n",
            "The proportion of noun in the text is: 0.19444444444444445\n"
          ],
          "name": "stdout"
        },
        {
          "output_type": "execute_result",
          "data": {
            "text/html": [
              "<div>\n",
              "<style scoped>\n",
              "    .dataframe tbody tr th:only-of-type {\n",
              "        vertical-align: middle;\n",
              "    }\n",
              "\n",
              "    .dataframe tbody tr th {\n",
              "        vertical-align: top;\n",
              "    }\n",
              "\n",
              "    .dataframe thead th {\n",
              "        text-align: right;\n",
              "    }\n",
              "</style>\n",
              "<table border=\"1\" class=\"dataframe\">\n",
              "  <thead>\n",
              "    <tr style=\"text-align: right;\">\n",
              "      <th></th>\n",
              "      <th>noun</th>\n",
              "      <th>count</th>\n",
              "    </tr>\n",
              "  </thead>\n",
              "  <tbody>\n",
              "    <tr>\n",
              "      <th>0</th>\n",
              "      <td>way</td>\n",
              "      <td>4</td>\n",
              "    </tr>\n",
              "    <tr>\n",
              "      <th>1</th>\n",
              "      <td>’</td>\n",
              "      <td>3</td>\n",
              "    </tr>\n",
              "    <tr>\n",
              "      <th>2</th>\n",
              "      <td>trinket</td>\n",
              "      <td>3</td>\n",
              "    </tr>\n",
              "    <tr>\n",
              "      <th>3</th>\n",
              "      <td>camp</td>\n",
              "      <td>3</td>\n",
              "    </tr>\n",
              "    <tr>\n",
              "      <th>4</th>\n",
              "      <td>gate</td>\n",
              "      <td>2</td>\n",
              "    </tr>\n",
              "    <tr>\n",
              "      <th>...</th>\n",
              "      <td>...</td>\n",
              "      <td>...</td>\n",
              "    </tr>\n",
              "    <tr>\n",
              "      <th>79</th>\n",
              "      <td>playlist</td>\n",
              "      <td>1</td>\n",
              "    </tr>\n",
              "    <tr>\n",
              "      <th>80</th>\n",
              "      <td>reedy</td>\n",
              "      <td>1</td>\n",
              "    </tr>\n",
              "    <tr>\n",
              "      <th>81</th>\n",
              "      <td>otherwise</td>\n",
              "      <td>1</td>\n",
              "    </tr>\n",
              "    <tr>\n",
              "      <th>82</th>\n",
              "      <td>emotions</td>\n",
              "      <td>1</td>\n",
              "    </tr>\n",
              "    <tr>\n",
              "      <th>83</th>\n",
              "      <td>inspection</td>\n",
              "      <td>1</td>\n",
              "    </tr>\n",
              "  </tbody>\n",
              "</table>\n",
              "<p>84 rows × 2 columns</p>\n",
              "</div>"
            ],
            "text/plain": [
              "          noun  count\n",
              "0          way      4\n",
              "1            ’      3\n",
              "2      trinket      3\n",
              "3         camp      3\n",
              "4         gate      2\n",
              "..         ...    ...\n",
              "79    playlist      1\n",
              "80       reedy      1\n",
              "81   otherwise      1\n",
              "82    emotions      1\n",
              "83  inspection      1\n",
              "\n",
              "[84 rows x 2 columns]"
            ]
          },
          "metadata": {
            "tags": []
          },
          "execution_count": 55
        }
      ]
    },
    {
      "cell_type": "code",
      "metadata": {
        "colab": {
          "base_uri": "https://localhost:8080/",
          "height": 1000
        },
        "id": "tAhB9ByxWSmE",
        "outputId": "3cd87318-4247-42b4-bc77-786f83703976"
      },
      "source": [
        "# extract the count of verb\n",
        "freq_verb = {}\n",
        "for i in word_count.keys():\n",
        "  if i in verb:\n",
        "    freq_verb[i] = word_count[i]\n",
        "print(freq_verb)\n",
        "\n",
        "# count total number and proportion of verb in this text file\n",
        "prop_verb = len(freq_verb)/len(tmp)\n",
        "print('number of verb in this paper:',len(freq_verb))\n",
        "print('The proportion of verb in the text is:',prop_verb)\n",
        "\n",
        "# change to dataframe and sort them\n",
        "df_verb = pd.DataFrame.from_dict(freq_verb, orient='index',columns=['count']).sort_values(by=['count'],ascending=False)\n",
        "df_verb = df_verb.reset_index().rename(columns={'index':'verb'})\n",
        "df_verb"
      ],
      "execution_count": 56,
      "outputs": [
        {
          "output_type": "stream",
          "text": [
            "{'coming': 1, 'laughed': 1, 'sipping': 1, 'knowing': 1, 'like': 3, 'preferred': 1, 'done': 1, 'called': 2, 'downed': 1, 'slid': 1, 'leaving': 1, 'looking': 1, 'gave': 1, 'working': 1, 'headed': 1, 'find': 1, 'let': 1, 'drift': 1, 'drown': 1, 'found': 2, 'knew': 1, 'sustain': 1, 'packed': 1, 'relaxing': 1, 'feels': 1, 'asked': 1, 'say': 1, 'left': 1, 'risen': 1, 'arrived': 1, 'lost': 1, 'approached': 1, 'offered': 1, 'declined': 1, 'wanted': 1, 'annoy': 1, 'walked': 2, '’': 3, 'handles': 1, 'made': 1, 'seemed': 1, 'bring': 1, 'start': 1, 'reminded': 1, 'heard': 1, 'hitting': 1, 'boring': 1, 'spilled': 1, 'turn': 1, 'see': 1, 'rushing': 1, 'pull': 1, 'feel': 1, 'dropped': 1}\n",
            "number of verb in this paper: 54\n",
            "The proportion of verb in the text is: 0.125\n"
          ],
          "name": "stdout"
        },
        {
          "output_type": "execute_result",
          "data": {
            "text/html": [
              "<div>\n",
              "<style scoped>\n",
              "    .dataframe tbody tr th:only-of-type {\n",
              "        vertical-align: middle;\n",
              "    }\n",
              "\n",
              "    .dataframe tbody tr th {\n",
              "        vertical-align: top;\n",
              "    }\n",
              "\n",
              "    .dataframe thead th {\n",
              "        text-align: right;\n",
              "    }\n",
              "</style>\n",
              "<table border=\"1\" class=\"dataframe\">\n",
              "  <thead>\n",
              "    <tr style=\"text-align: right;\">\n",
              "      <th></th>\n",
              "      <th>verb</th>\n",
              "      <th>count</th>\n",
              "    </tr>\n",
              "  </thead>\n",
              "  <tbody>\n",
              "    <tr>\n",
              "      <th>0</th>\n",
              "      <td>like</td>\n",
              "      <td>3</td>\n",
              "    </tr>\n",
              "    <tr>\n",
              "      <th>1</th>\n",
              "      <td>’</td>\n",
              "      <td>3</td>\n",
              "    </tr>\n",
              "    <tr>\n",
              "      <th>2</th>\n",
              "      <td>called</td>\n",
              "      <td>2</td>\n",
              "    </tr>\n",
              "    <tr>\n",
              "      <th>3</th>\n",
              "      <td>walked</td>\n",
              "      <td>2</td>\n",
              "    </tr>\n",
              "    <tr>\n",
              "      <th>4</th>\n",
              "      <td>found</td>\n",
              "      <td>2</td>\n",
              "    </tr>\n",
              "    <tr>\n",
              "      <th>5</th>\n",
              "      <td>coming</td>\n",
              "      <td>1</td>\n",
              "    </tr>\n",
              "    <tr>\n",
              "      <th>6</th>\n",
              "      <td>bring</td>\n",
              "      <td>1</td>\n",
              "    </tr>\n",
              "    <tr>\n",
              "      <th>7</th>\n",
              "      <td>approached</td>\n",
              "      <td>1</td>\n",
              "    </tr>\n",
              "    <tr>\n",
              "      <th>8</th>\n",
              "      <td>offered</td>\n",
              "      <td>1</td>\n",
              "    </tr>\n",
              "    <tr>\n",
              "      <th>9</th>\n",
              "      <td>declined</td>\n",
              "      <td>1</td>\n",
              "    </tr>\n",
              "    <tr>\n",
              "      <th>10</th>\n",
              "      <td>wanted</td>\n",
              "      <td>1</td>\n",
              "    </tr>\n",
              "    <tr>\n",
              "      <th>11</th>\n",
              "      <td>annoy</td>\n",
              "      <td>1</td>\n",
              "    </tr>\n",
              "    <tr>\n",
              "      <th>12</th>\n",
              "      <td>handles</td>\n",
              "      <td>1</td>\n",
              "    </tr>\n",
              "    <tr>\n",
              "      <th>13</th>\n",
              "      <td>made</td>\n",
              "      <td>1</td>\n",
              "    </tr>\n",
              "    <tr>\n",
              "      <th>14</th>\n",
              "      <td>seemed</td>\n",
              "      <td>1</td>\n",
              "    </tr>\n",
              "    <tr>\n",
              "      <th>15</th>\n",
              "      <td>start</td>\n",
              "      <td>1</td>\n",
              "    </tr>\n",
              "    <tr>\n",
              "      <th>16</th>\n",
              "      <td>arrived</td>\n",
              "      <td>1</td>\n",
              "    </tr>\n",
              "    <tr>\n",
              "      <th>17</th>\n",
              "      <td>reminded</td>\n",
              "      <td>1</td>\n",
              "    </tr>\n",
              "    <tr>\n",
              "      <th>18</th>\n",
              "      <td>heard</td>\n",
              "      <td>1</td>\n",
              "    </tr>\n",
              "    <tr>\n",
              "      <th>19</th>\n",
              "      <td>hitting</td>\n",
              "      <td>1</td>\n",
              "    </tr>\n",
              "    <tr>\n",
              "      <th>20</th>\n",
              "      <td>boring</td>\n",
              "      <td>1</td>\n",
              "    </tr>\n",
              "    <tr>\n",
              "      <th>21</th>\n",
              "      <td>spilled</td>\n",
              "      <td>1</td>\n",
              "    </tr>\n",
              "    <tr>\n",
              "      <th>22</th>\n",
              "      <td>turn</td>\n",
              "      <td>1</td>\n",
              "    </tr>\n",
              "    <tr>\n",
              "      <th>23</th>\n",
              "      <td>see</td>\n",
              "      <td>1</td>\n",
              "    </tr>\n",
              "    <tr>\n",
              "      <th>24</th>\n",
              "      <td>rushing</td>\n",
              "      <td>1</td>\n",
              "    </tr>\n",
              "    <tr>\n",
              "      <th>25</th>\n",
              "      <td>pull</td>\n",
              "      <td>1</td>\n",
              "    </tr>\n",
              "    <tr>\n",
              "      <th>26</th>\n",
              "      <td>feel</td>\n",
              "      <td>1</td>\n",
              "    </tr>\n",
              "    <tr>\n",
              "      <th>27</th>\n",
              "      <td>lost</td>\n",
              "      <td>1</td>\n",
              "    </tr>\n",
              "    <tr>\n",
              "      <th>28</th>\n",
              "      <td>left</td>\n",
              "      <td>1</td>\n",
              "    </tr>\n",
              "    <tr>\n",
              "      <th>29</th>\n",
              "      <td>risen</td>\n",
              "      <td>1</td>\n",
              "    </tr>\n",
              "    <tr>\n",
              "      <th>30</th>\n",
              "      <td>headed</td>\n",
              "      <td>1</td>\n",
              "    </tr>\n",
              "    <tr>\n",
              "      <th>31</th>\n",
              "      <td>sipping</td>\n",
              "      <td>1</td>\n",
              "    </tr>\n",
              "    <tr>\n",
              "      <th>32</th>\n",
              "      <td>knowing</td>\n",
              "      <td>1</td>\n",
              "    </tr>\n",
              "    <tr>\n",
              "      <th>33</th>\n",
              "      <td>preferred</td>\n",
              "      <td>1</td>\n",
              "    </tr>\n",
              "    <tr>\n",
              "      <th>34</th>\n",
              "      <td>done</td>\n",
              "      <td>1</td>\n",
              "    </tr>\n",
              "    <tr>\n",
              "      <th>35</th>\n",
              "      <td>downed</td>\n",
              "      <td>1</td>\n",
              "    </tr>\n",
              "    <tr>\n",
              "      <th>36</th>\n",
              "      <td>slid</td>\n",
              "      <td>1</td>\n",
              "    </tr>\n",
              "    <tr>\n",
              "      <th>37</th>\n",
              "      <td>leaving</td>\n",
              "      <td>1</td>\n",
              "    </tr>\n",
              "    <tr>\n",
              "      <th>38</th>\n",
              "      <td>looking</td>\n",
              "      <td>1</td>\n",
              "    </tr>\n",
              "    <tr>\n",
              "      <th>39</th>\n",
              "      <td>gave</td>\n",
              "      <td>1</td>\n",
              "    </tr>\n",
              "    <tr>\n",
              "      <th>40</th>\n",
              "      <td>working</td>\n",
              "      <td>1</td>\n",
              "    </tr>\n",
              "    <tr>\n",
              "      <th>41</th>\n",
              "      <td>find</td>\n",
              "      <td>1</td>\n",
              "    </tr>\n",
              "    <tr>\n",
              "      <th>42</th>\n",
              "      <td>laughed</td>\n",
              "      <td>1</td>\n",
              "    </tr>\n",
              "    <tr>\n",
              "      <th>43</th>\n",
              "      <td>let</td>\n",
              "      <td>1</td>\n",
              "    </tr>\n",
              "    <tr>\n",
              "      <th>44</th>\n",
              "      <td>drift</td>\n",
              "      <td>1</td>\n",
              "    </tr>\n",
              "    <tr>\n",
              "      <th>45</th>\n",
              "      <td>drown</td>\n",
              "      <td>1</td>\n",
              "    </tr>\n",
              "    <tr>\n",
              "      <th>46</th>\n",
              "      <td>knew</td>\n",
              "      <td>1</td>\n",
              "    </tr>\n",
              "    <tr>\n",
              "      <th>47</th>\n",
              "      <td>sustain</td>\n",
              "      <td>1</td>\n",
              "    </tr>\n",
              "    <tr>\n",
              "      <th>48</th>\n",
              "      <td>packed</td>\n",
              "      <td>1</td>\n",
              "    </tr>\n",
              "    <tr>\n",
              "      <th>49</th>\n",
              "      <td>relaxing</td>\n",
              "      <td>1</td>\n",
              "    </tr>\n",
              "    <tr>\n",
              "      <th>50</th>\n",
              "      <td>feels</td>\n",
              "      <td>1</td>\n",
              "    </tr>\n",
              "    <tr>\n",
              "      <th>51</th>\n",
              "      <td>asked</td>\n",
              "      <td>1</td>\n",
              "    </tr>\n",
              "    <tr>\n",
              "      <th>52</th>\n",
              "      <td>say</td>\n",
              "      <td>1</td>\n",
              "    </tr>\n",
              "    <tr>\n",
              "      <th>53</th>\n",
              "      <td>dropped</td>\n",
              "      <td>1</td>\n",
              "    </tr>\n",
              "  </tbody>\n",
              "</table>\n",
              "</div>"
            ],
            "text/plain": [
              "          verb  count\n",
              "0         like      3\n",
              "1            ’      3\n",
              "2       called      2\n",
              "3       walked      2\n",
              "4        found      2\n",
              "5       coming      1\n",
              "6        bring      1\n",
              "7   approached      1\n",
              "8      offered      1\n",
              "9     declined      1\n",
              "10      wanted      1\n",
              "11       annoy      1\n",
              "12     handles      1\n",
              "13        made      1\n",
              "14      seemed      1\n",
              "15       start      1\n",
              "16     arrived      1\n",
              "17    reminded      1\n",
              "18       heard      1\n",
              "19     hitting      1\n",
              "20      boring      1\n",
              "21     spilled      1\n",
              "22        turn      1\n",
              "23         see      1\n",
              "24     rushing      1\n",
              "25        pull      1\n",
              "26        feel      1\n",
              "27        lost      1\n",
              "28        left      1\n",
              "29       risen      1\n",
              "30      headed      1\n",
              "31     sipping      1\n",
              "32     knowing      1\n",
              "33   preferred      1\n",
              "34        done      1\n",
              "35      downed      1\n",
              "36        slid      1\n",
              "37     leaving      1\n",
              "38     looking      1\n",
              "39        gave      1\n",
              "40     working      1\n",
              "41        find      1\n",
              "42     laughed      1\n",
              "43         let      1\n",
              "44       drift      1\n",
              "45       drown      1\n",
              "46        knew      1\n",
              "47     sustain      1\n",
              "48      packed      1\n",
              "49    relaxing      1\n",
              "50       feels      1\n",
              "51       asked      1\n",
              "52         say      1\n",
              "53     dropped      1"
            ]
          },
          "metadata": {
            "tags": []
          },
          "execution_count": 56
        }
      ]
    },
    {
      "cell_type": "code",
      "metadata": {
        "colab": {
          "base_uri": "https://localhost:8080/",
          "height": 805
        },
        "id": "4xuXwf7sWUxE",
        "outputId": "bf7f6af0-6f9c-4c73-f7f3-13a3f4f48d7e"
      },
      "source": [
        "# extract the count of adj\n",
        "freq_adj = {}\n",
        "for i in word_count.keys():\n",
        "  if i in adj:\n",
        "    freq_adj[i] = word_count[i]\n",
        "print(freq_adj)\n",
        "\n",
        "# count total number and proportion of adj in this text file\n",
        "prop_adj = len(freq_adj)/len(tmp)\n",
        "print('number of adj in this paper:',len(freq_adj))\n",
        "print('The proportion of adj in the text is:',prop_adj)\n",
        "\n",
        "# change to dataframe and sort them\n",
        "df_adj = pd.DataFrame.from_dict(freq_adj, orient='index',columns=['count']).sort_values(by=['count'],ascending=False)\n",
        "df_adj = df_adj.reset_index().rename(columns={'index':'adj'})\n",
        "df_adj"
      ],
      "execution_count": 57,
      "outputs": [
        {
          "output_type": "stream",
          "text": [
            "{'loudest': 1, 'cold': 1, 'wrong': 1, 'possible': 1, 'old': 1, 'east': 2, 'inevitable': 1, 'negative': 1, 'little': 1, 'unfamiliar': 1, 'bluestest': 1, 'entire': 1, 'safe': 1, 'first': 1, 'closer': 2, '’': 3, 'small': 3, 'wooden': 2, 'whole': 2, 'soft': 1, 'worn': 1, 'holy': 1}\n",
            "number of adj in this paper: 22\n",
            "The proportion of adj in the text is: 0.05092592592592592\n"
          ],
          "name": "stdout"
        },
        {
          "output_type": "execute_result",
          "data": {
            "text/html": [
              "<div>\n",
              "<style scoped>\n",
              "    .dataframe tbody tr th:only-of-type {\n",
              "        vertical-align: middle;\n",
              "    }\n",
              "\n",
              "    .dataframe tbody tr th {\n",
              "        vertical-align: top;\n",
              "    }\n",
              "\n",
              "    .dataframe thead th {\n",
              "        text-align: right;\n",
              "    }\n",
              "</style>\n",
              "<table border=\"1\" class=\"dataframe\">\n",
              "  <thead>\n",
              "    <tr style=\"text-align: right;\">\n",
              "      <th></th>\n",
              "      <th>adj</th>\n",
              "      <th>count</th>\n",
              "    </tr>\n",
              "  </thead>\n",
              "  <tbody>\n",
              "    <tr>\n",
              "      <th>0</th>\n",
              "      <td>small</td>\n",
              "      <td>3</td>\n",
              "    </tr>\n",
              "    <tr>\n",
              "      <th>1</th>\n",
              "      <td>’</td>\n",
              "      <td>3</td>\n",
              "    </tr>\n",
              "    <tr>\n",
              "      <th>2</th>\n",
              "      <td>whole</td>\n",
              "      <td>2</td>\n",
              "    </tr>\n",
              "    <tr>\n",
              "      <th>3</th>\n",
              "      <td>east</td>\n",
              "      <td>2</td>\n",
              "    </tr>\n",
              "    <tr>\n",
              "      <th>4</th>\n",
              "      <td>wooden</td>\n",
              "      <td>2</td>\n",
              "    </tr>\n",
              "    <tr>\n",
              "      <th>5</th>\n",
              "      <td>closer</td>\n",
              "      <td>2</td>\n",
              "    </tr>\n",
              "    <tr>\n",
              "      <th>6</th>\n",
              "      <td>loudest</td>\n",
              "      <td>1</td>\n",
              "    </tr>\n",
              "    <tr>\n",
              "      <th>7</th>\n",
              "      <td>safe</td>\n",
              "      <td>1</td>\n",
              "    </tr>\n",
              "    <tr>\n",
              "      <th>8</th>\n",
              "      <td>worn</td>\n",
              "      <td>1</td>\n",
              "    </tr>\n",
              "    <tr>\n",
              "      <th>9</th>\n",
              "      <td>soft</td>\n",
              "      <td>1</td>\n",
              "    </tr>\n",
              "    <tr>\n",
              "      <th>10</th>\n",
              "      <td>first</td>\n",
              "      <td>1</td>\n",
              "    </tr>\n",
              "    <tr>\n",
              "      <th>11</th>\n",
              "      <td>entire</td>\n",
              "      <td>1</td>\n",
              "    </tr>\n",
              "    <tr>\n",
              "      <th>12</th>\n",
              "      <td>cold</td>\n",
              "      <td>1</td>\n",
              "    </tr>\n",
              "    <tr>\n",
              "      <th>13</th>\n",
              "      <td>bluestest</td>\n",
              "      <td>1</td>\n",
              "    </tr>\n",
              "    <tr>\n",
              "      <th>14</th>\n",
              "      <td>unfamiliar</td>\n",
              "      <td>1</td>\n",
              "    </tr>\n",
              "    <tr>\n",
              "      <th>15</th>\n",
              "      <td>little</td>\n",
              "      <td>1</td>\n",
              "    </tr>\n",
              "    <tr>\n",
              "      <th>16</th>\n",
              "      <td>negative</td>\n",
              "      <td>1</td>\n",
              "    </tr>\n",
              "    <tr>\n",
              "      <th>17</th>\n",
              "      <td>inevitable</td>\n",
              "      <td>1</td>\n",
              "    </tr>\n",
              "    <tr>\n",
              "      <th>18</th>\n",
              "      <td>old</td>\n",
              "      <td>1</td>\n",
              "    </tr>\n",
              "    <tr>\n",
              "      <th>19</th>\n",
              "      <td>possible</td>\n",
              "      <td>1</td>\n",
              "    </tr>\n",
              "    <tr>\n",
              "      <th>20</th>\n",
              "      <td>wrong</td>\n",
              "      <td>1</td>\n",
              "    </tr>\n",
              "    <tr>\n",
              "      <th>21</th>\n",
              "      <td>holy</td>\n",
              "      <td>1</td>\n",
              "    </tr>\n",
              "  </tbody>\n",
              "</table>\n",
              "</div>"
            ],
            "text/plain": [
              "           adj  count\n",
              "0        small      3\n",
              "1            ’      3\n",
              "2        whole      2\n",
              "3         east      2\n",
              "4       wooden      2\n",
              "5       closer      2\n",
              "6      loudest      1\n",
              "7         safe      1\n",
              "8         worn      1\n",
              "9         soft      1\n",
              "10       first      1\n",
              "11      entire      1\n",
              "12        cold      1\n",
              "13   bluestest      1\n",
              "14  unfamiliar      1\n",
              "15      little      1\n",
              "16    negative      1\n",
              "17  inevitable      1\n",
              "18         old      1\n",
              "19    possible      1\n",
              "20       wrong      1\n",
              "21        holy      1"
            ]
          },
          "metadata": {
            "tags": []
          },
          "execution_count": 57
        }
      ]
    },
    {
      "cell_type": "code",
      "metadata": {
        "colab": {
          "base_uri": "https://localhost:8080/",
          "height": 506
        },
        "id": "Lb7ZCBY3WXof",
        "outputId": "dd33bf39-8ccb-4475-a70a-197ad5d6553d"
      },
      "source": [
        "# extract the count of adv\n",
        "freq_adv = {}\n",
        "for i in word_count.keys():\n",
        "  if i in adv:\n",
        "    freq_adv[i] = word_count[i]\n",
        "print(freq_adv)\n",
        "\n",
        "# count total number and proportion of adv in this text file\n",
        "prop_adv = len(freq_adv)/len(tmp)\n",
        "print('number of adv in this paper:',len(freq_adv))\n",
        "print('The proportion of adv in the text is:',prop_adv)\n",
        "\n",
        "# change to dataframe and sort them\n",
        "df_adv = pd.DataFrame.from_dict(freq_adv, orient='index',columns=['count']).sort_values(by=['count'],ascending=False)\n",
        "df_adv = df_adv.reset_index().rename(columns={'index':'adv'})\n",
        "df_adv"
      ],
      "execution_count": 58,
      "outputs": [
        {
          "output_type": "stream",
          "text": [
            "{'soon': 1, 'already': 1, 'north': 1, 'back': 2, 'yet': 2, 'still': 1, 'possibly': 1, 'truly': 1, 'long': 1, 'closer': 2, 'almost': 1, 'even': 1, 'rather': 1}\n",
            "number of adv in this paper: 13\n",
            "The proportion of adv in the text is: 0.03009259259259259\n"
          ],
          "name": "stdout"
        },
        {
          "output_type": "execute_result",
          "data": {
            "text/html": [
              "<div>\n",
              "<style scoped>\n",
              "    .dataframe tbody tr th:only-of-type {\n",
              "        vertical-align: middle;\n",
              "    }\n",
              "\n",
              "    .dataframe tbody tr th {\n",
              "        vertical-align: top;\n",
              "    }\n",
              "\n",
              "    .dataframe thead th {\n",
              "        text-align: right;\n",
              "    }\n",
              "</style>\n",
              "<table border=\"1\" class=\"dataframe\">\n",
              "  <thead>\n",
              "    <tr style=\"text-align: right;\">\n",
              "      <th></th>\n",
              "      <th>adv</th>\n",
              "      <th>count</th>\n",
              "    </tr>\n",
              "  </thead>\n",
              "  <tbody>\n",
              "    <tr>\n",
              "      <th>0</th>\n",
              "      <td>back</td>\n",
              "      <td>2</td>\n",
              "    </tr>\n",
              "    <tr>\n",
              "      <th>1</th>\n",
              "      <td>yet</td>\n",
              "      <td>2</td>\n",
              "    </tr>\n",
              "    <tr>\n",
              "      <th>2</th>\n",
              "      <td>closer</td>\n",
              "      <td>2</td>\n",
              "    </tr>\n",
              "    <tr>\n",
              "      <th>3</th>\n",
              "      <td>soon</td>\n",
              "      <td>1</td>\n",
              "    </tr>\n",
              "    <tr>\n",
              "      <th>4</th>\n",
              "      <td>already</td>\n",
              "      <td>1</td>\n",
              "    </tr>\n",
              "    <tr>\n",
              "      <th>5</th>\n",
              "      <td>north</td>\n",
              "      <td>1</td>\n",
              "    </tr>\n",
              "    <tr>\n",
              "      <th>6</th>\n",
              "      <td>still</td>\n",
              "      <td>1</td>\n",
              "    </tr>\n",
              "    <tr>\n",
              "      <th>7</th>\n",
              "      <td>possibly</td>\n",
              "      <td>1</td>\n",
              "    </tr>\n",
              "    <tr>\n",
              "      <th>8</th>\n",
              "      <td>truly</td>\n",
              "      <td>1</td>\n",
              "    </tr>\n",
              "    <tr>\n",
              "      <th>9</th>\n",
              "      <td>long</td>\n",
              "      <td>1</td>\n",
              "    </tr>\n",
              "    <tr>\n",
              "      <th>10</th>\n",
              "      <td>almost</td>\n",
              "      <td>1</td>\n",
              "    </tr>\n",
              "    <tr>\n",
              "      <th>11</th>\n",
              "      <td>even</td>\n",
              "      <td>1</td>\n",
              "    </tr>\n",
              "    <tr>\n",
              "      <th>12</th>\n",
              "      <td>rather</td>\n",
              "      <td>1</td>\n",
              "    </tr>\n",
              "  </tbody>\n",
              "</table>\n",
              "</div>"
            ],
            "text/plain": [
              "         adv  count\n",
              "0       back      2\n",
              "1        yet      2\n",
              "2     closer      2\n",
              "3       soon      1\n",
              "4    already      1\n",
              "5      north      1\n",
              "6      still      1\n",
              "7   possibly      1\n",
              "8      truly      1\n",
              "9       long      1\n",
              "10    almost      1\n",
              "11      even      1\n",
              "12    rather      1"
            ]
          },
          "metadata": {
            "tags": []
          },
          "execution_count": 58
        }
      ]
    },
    {
      "cell_type": "markdown",
      "metadata": {
        "id": "z25rK-EQWb5W"
      },
      "source": [
        "###create csv file to save word count statistics"
      ]
    },
    {
      "cell_type": "code",
      "metadata": {
        "colab": {
          "base_uri": "https://localhost:8080/"
        },
        "id": "gf6XxjP2WcZN",
        "outputId": "d02de362-a6a3-4afe-9939-c99ae0c131aa"
      },
      "source": [
        "with open(gen_file+'.csv', 'w', encoding='utf-8') as f2:\n",
        "  pd.DataFrame(columns=['word_count_statistics']).to_csv(f2, index=False) # remove index here\n",
        "\n",
        "  df_noun.to_csv(f2, mode='a+')\n",
        "  df_verb.to_csv(f2, mode='a+')\n",
        "  df_adj.to_csv(f2, mode='a+')\n",
        "  df_adv.to_csv(f2, mode='a+')\n",
        "\n",
        "df2 = pd.read_csv(gen_file+'.csv')\n",
        "print(df2)\n"
      ],
      "execution_count": 59,
      "outputs": [
        {
          "output_type": "stream",
          "text": [
            "             word_count_statistics\n",
            "NaN  noun                    count\n",
            "0.0  way                         4\n",
            "1.0  ’                           3\n",
            "2.0  trinket                     3\n",
            "3.0  camp                        3\n",
            "...                            ...\n",
            "8.0  truly                       1\n",
            "9.0  long                        1\n",
            "10.0 almost                      1\n",
            "11.0 even                        1\n",
            "12.0 rather                      1\n",
            "\n",
            "[177 rows x 1 columns]\n"
          ],
          "name": "stdout"
        }
      ]
    },
    {
      "cell_type": "markdown",
      "metadata": {
        "id": "F33hHPmIXRHv"
      },
      "source": [
        "###use word frequency calculation method to extract keywords"
      ]
    },
    {
      "cell_type": "code",
      "metadata": {
        "colab": {
          "base_uri": "https://localhost:8080/"
        },
        "id": "r7AQ0WBzXRZM",
        "outputId": "278f3707-0c6f-4d2a-cf5b-1b0ab2d1bc07"
      },
      "source": [
        "key_word_candidate = []\n",
        "df_key = pd.DataFrame.from_dict(word_count, orient='index',columns=['count']).sort_values(by=['count'],ascending=False)\n",
        "\n",
        "# select the most frequently fifteen words in this text file as candidate of key_words\n",
        "for i in range(15):\n",
        "  key_word_candidate.append(df_key.index[i])\n",
        "print(key_word_candidate)"
      ],
      "execution_count": 60,
      "outputs": [
        {
          "output_type": "stream",
          "text": [
            "['way', '’', 'camp', 'small', 'like', 'trinket', 'head', 'wooden', 'deer', 'called', 'back', 'gate', 'found', 'one', 'closer']\n"
          ],
          "name": "stdout"
        }
      ]
    },
    {
      "cell_type": "code",
      "metadata": {
        "colab": {
          "base_uri": "https://localhost:8080/"
        },
        "id": "dTkMTC7yXV9d",
        "outputId": "ae815a14-86b8-4264-cfb7-9bac0b62400c"
      },
      "source": [
        "# list to str\n",
        "Keyword_candidate = \",\".join(key_word_candidate)\n",
        "print(Keyword_candidate)"
      ],
      "execution_count": 61,
      "outputs": [
        {
          "output_type": "stream",
          "text": [
            "way,’,camp,small,like,trinket,head,wooden,deer,called,back,gate,found,one,closer\n"
          ],
          "name": "stdout"
        }
      ]
    },
    {
      "cell_type": "code",
      "metadata": {
        "colab": {
          "base_uri": "https://localhost:8080/"
        },
        "id": "WvMI6q0rXWgk",
        "outputId": "a3eb8d2e-20b9-468a-8e73-b06203619887"
      },
      "source": [
        "# append total number of words and key word candidates information in original text file\n",
        "with open(gen_file+'.txt','a+',encoding='UTF-8') as f:\n",
        "  f.write(\"\\n\\nTotal number of words in this text file is : \"+ str(len(tmp))+'\\n')\n",
        "  f.write('Key Word candidate: '+Keyword_candidate+'\\n')\n",
        "  t2 = f.read()\n",
        "print(t2)"
      ],
      "execution_count": 67,
      "outputs": [
        {
          "output_type": "stream",
          "text": [
            "\n"
          ],
          "name": "stdout"
        }
      ]
    },
    {
      "cell_type": "markdown",
      "metadata": {
        "id": "wSuThDO4Xh9N"
      },
      "source": [
        "##Visualization"
      ]
    },
    {
      "cell_type": "code",
      "metadata": {
        "colab": {
          "base_uri": "https://localhost:8080/",
          "height": 248
        },
        "id": "9RGfsjXJXhoJ",
        "outputId": "d07b2571-ebbf-4870-a1a2-9d9b5be2242f"
      },
      "source": [
        "# create a part-of-speech pie chart \n",
        "other = 1 - prop_noun - prop_verb - prop_adj - prop_adv\n",
        "labels ='Noun','Verb','Adj','Adv','Other'\n",
        "fraces = [prop_noun,prop_verb,prop_adj,prop_adv,other]\n",
        "plt.pie(x=fraces,labels= labels)\n",
        "plt.savefig(gen_file+'_wordcount_piechart.jpg')\n",
        "plt.show()\n"
      ],
      "execution_count": 63,
      "outputs": [
        {
          "output_type": "display_data",
          "data": {
            "image/png": "[encoded data removed]",
            "text/plain": [
              "<Figure size 432x288 with 1 Axes>"
            ]
          },
          "metadata": {
            "tags": []
          }
        }
      ]
    },
    {
      "cell_type": "code",
      "metadata": {
        "colab": {
          "base_uri": "https://localhost:8080/",
          "height": 1000
        },
        "id": "aMqSUSzxYGl9",
        "outputId": "847d9919-be2a-4fa9-a27a-82e03d037553"
      },
      "source": [
        "# use NLTK to generate figures for noun, verb, adj, adv\n",
        "Freq_noun=nltk.FreqDist(freq_noun)\n",
        "Freq_verb=nltk.FreqDist(freq_verb)\n",
        "Freq_adj=nltk.FreqDist(freq_adj)\n",
        "Freq_adv=nltk.FreqDist(freq_adv)\n",
        "\n",
        "#show figures and save them as png. \n",
        "#Number of words on X-axes is configurable\n",
        "fig = plt.figure(figsize = (10,4))\n",
        "plt.gcf().subplots_adjust(bottom=0.15) # to avoid x-ticks cut-off\n",
        "Freq_noun.plot(10, title='Top 10 Most Common noun in text')\n",
        "fig.savefig(gen_file+'_top10_noun.png', bbox_inches = \"tight\")\n",
        "\n",
        "fig = plt.figure(figsize = (10,4))\n",
        "plt.gcf().subplots_adjust(bottom=0.15) # to avoid x-ticks cut-off\n",
        "Freq_verb.plot(10, title='Top 10 Most Common verb in text')\n",
        "fig.savefig(gen_file+'_top10_verb.png', bbox_inches = \"tight\")\n",
        "\n",
        "fig = plt.figure(figsize = (10,4))\n",
        "plt.gcf().subplots_adjust(bottom=0.15) # to avoid x-ticks cut-off\n",
        "Freq_adj.plot(10, title='Top 10 Most Common adj in text')\n",
        "fig.savefig(gen_file+'_top10_adj.png', bbox_inches = \"tight\")\n",
        "\n",
        "fig = plt.figure(figsize = (10,4))\n",
        "plt.gcf().subplots_adjust(bottom=0.15) # to avoid x-ticks cut-off\n",
        "Freq_adv.plot(10, title='Top 10 Most Common adv in text')\n",
        "fig.savefig(gen_file+'_top10_adv.png', bbox_inches = \"tight\")\n",
        "\n",
        "plt.show()"
      ],
      "execution_count": 64,
      "outputs": [
        {
          "output_type": "display_data",
          "data": {
            "image/png": "[encoded data removed]",
            "text/plain": [
              "<Figure size 720x288 with 1 Axes>"
            ]
          },
          "metadata": {
            "tags": [],
            "needs_background": "light"
          }
        },
        {
          "output_type": "display_data",
          "data": {
            "image/png": "[encoded data removed]",
            "text/plain": [
              "<Figure size 720x288 with 1 Axes>"
            ]
          },
          "metadata": {
            "tags": [],
            "needs_background": "light"
          }
        },
        {
          "output_type": "display_data",
          "data": {
            "image/png": "[encoded data removed]",
            "text/plain": [
              "<Figure size 720x288 with 1 Axes>"
            ]
          },
          "metadata": {
            "tags": [],
            "needs_background": "light"
          }
        },
        {
          "output_type": "display_data",
          "data": {
            "image/png": "[encoded data removed]",
            "text/plain": [
              "<Figure size 720x288 with 1 Axes>"
            ]
          },
          "metadata": {
            "tags": [],
            "needs_background": "light"
          }
        }
      ]
    },
    {
      "cell_type": "code",
      "metadata": {
        "colab": {
          "base_uri": "https://localhost:8080/",
          "height": 263
        },
        "id": "UvM_dih0YSeX",
        "outputId": "1a8f0544-29db-4618-f1c9-003983e45f49"
      },
      "source": [
        "# use wordcloud to generate png for keywords candidate\n",
        "wordcloud = WordCloud(\n",
        "        background_color=\"white\", # Set the background to white , default is black\n",
        "        width=1500,              #Set width of figure\n",
        "        height=960,              #Set height of figure\n",
        "        margin=10               #Set margin of figure\n",
        "        ).generate(str(key_word_candidate))\n",
        "# generate figure\n",
        "plt.imshow(wordcloud)\n",
        "# remove axes\n",
        "plt.axis(\"off\")\n",
        "\n",
        "fig.show()\n",
        "# save figure as png\n",
        "wordcloud.to_file(gen_file+'_keyword.png')"
      ],
      "execution_count": 65,
      "outputs": [
        {
          "output_type": "execute_result",
          "data": {
            "text/plain": [
              "<wordcloud.wordcloud.WordCloud at 0x7fac08b33d90>"
            ]
          },
          "metadata": {
            "tags": []
          },
          "execution_count": 65
        },
        {
          "output_type": "display_data",
          "data": {
            "image/png": "[encoded data removed]",
            "text/plain": [
              "<Figure size 432x288 with 1 Axes>"
            ]
          },
          "metadata": {
            "tags": [],
            "needs_background": "light"
          }
        }
      ]
    }
  ]
}