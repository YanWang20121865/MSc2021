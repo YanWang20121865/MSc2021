{
  "nbformat": 4,
  "nbformat_minor": 0,
  "metadata": {
    "colab": {
      "name": "GPT2_Yan Wang.ipynb",
      "provenance": [],
      "collapsed_sections": []
    },
    "kernelspec": {
      "name": "python3",
      "display_name": "Python 3"
    },
    "language_info": {
      "name": "python"
    },
    "accelerator": "GPU"
  },
  "cells": [
    {
      "cell_type": "code",
      "metadata": {
        "colab": {
          "base_uri": "https://localhost:8080/"
        },
        "id": "9h6RU3w4ky8d",
        "outputId": "7c90997a-5f21-4c78-a208-7f1b9e53e53c"
      },
      "source": [
        "from google.colab import drive\n",
        "drive.mount('/content/drive')"
      ],
      "execution_count": 1,
      "outputs": [
        {
          "output_type": "stream",
          "text": [
            "Mounted at /content/drive\n"
          ],
          "name": "stdout"
        }
      ]
    },
    {
      "cell_type": "code",
      "metadata": {
        "colab": {
          "base_uri": "https://localhost:8080/"
        },
        "id": "9hN2K4Wp0qZh",
        "outputId": "16ea8a18-ba2d-4944-8a0a-849667aa3183"
      },
      "source": [
        "!nvidia-smi"
      ],
      "execution_count": 2,
      "outputs": [
        {
          "output_type": "stream",
          "text": [
            "Fri Aug  6 14:08:12 2021       \n",
            "+-----------------------------------------------------------------------------+\n",
            "| NVIDIA-SMI 470.42.01    Driver Version: 460.32.03    CUDA Version: 11.2     |\n",
            "|-------------------------------+----------------------+----------------------+\n",
            "| GPU  Name        Persistence-M| Bus-Id        Disp.A | Volatile Uncorr. ECC |\n",
            "| Fan  Temp  Perf  Pwr:Usage/Cap|         Memory-Usage | GPU-Util  Compute M. |\n",
            "|                               |                      |               MIG M. |\n",
            "|===============================+======================+======================|\n",
            "|   0  Tesla K80           Off  | 00000000:00:04.0 Off |                    0 |\n",
            "| N/A   37C    P8    25W / 149W |      0MiB / 11441MiB |      0%      Default |\n",
            "|                               |                      |                  N/A |\n",
            "+-------------------------------+----------------------+----------------------+\n",
            "                                                                               \n",
            "+-----------------------------------------------------------------------------+\n",
            "| Processes:                                                                  |\n",
            "|  GPU   GI   CI        PID   Type   Process name                  GPU Memory |\n",
            "|        ID   ID                                                   Usage      |\n",
            "|=============================================================================|\n",
            "|  No running processes found                                                 |\n",
            "+-----------------------------------------------------------------------------+\n"
          ],
          "name": "stdout"
        }
      ]
    },
    {
      "cell_type": "code",
      "metadata": {
        "id": "Tq6oPDfN1wNC",
        "colab": {
          "base_uri": "https://localhost:8080/"
        },
        "outputId": "42e99df2-9d8a-441a-c620-cc0fa83c3e5d"
      },
      "source": [
        "%tensorflow_version 1.x\n",
        "!pip install -q gpt-2-simple\n",
        "import gpt_2_simple as gpt2\n",
        "from datetime import datetime\n",
        "from google.colab import files\n",
        "import os\n",
        "import requests"
      ],
      "execution_count": 3,
      "outputs": [
        {
          "output_type": "stream",
          "text": [
            "TensorFlow 1.x selected.\n",
            "  Building wheel for gpt-2-simple (setup.py) ... \u001b[?25l\u001b[?25hdone\n",
            "WARNING:tensorflow:\n",
            "The TensorFlow contrib module will not be included in TensorFlow 2.0.\n",
            "For more information, please see:\n",
            "  * https://github.com/tensorflow/community/blob/master/rfcs/20180907-contrib-sunset.md\n",
            "  * https://github.com/tensorflow/addons\n",
            "  * https://github.com/tensorflow/io (for I/O related ops)\n",
            "If you depend on functionality not listed there, please file an issue.\n",
            "\n"
          ],
          "name": "stdout"
        }
      ]
    },
    {
      "cell_type": "code",
      "metadata": {
        "id": "HxUKVFKmt0u1",
        "colab": {
          "base_uri": "https://localhost:8080/"
        },
        "outputId": "e58033fb-e705-4a3f-8f28-916c70da7eb4"
      },
      "source": [
        "# download gpt2 models.  \n",
        "gpt2.download_gpt2(model_name=\"124M\")\n",
        "gpt2.download_gpt2(model_name=\"355M\")\n",
        "#gpt2.download_gpt2(model_name=\"774M\")\n",
        "#gpt2.download_gpt2(model_name=\"1558M\")"
      ],
      "execution_count": 4,
      "outputs": [
        {
          "output_type": "stream",
          "text": [
            "Fetching checkpoint: 1.05Mit [00:00, 237Mit/s]                                                      \n",
            "Fetching encoder.json: 1.05Mit [00:01, 814kit/s]\n",
            "Fetching hparams.json: 1.05Mit [00:00, 343Mit/s]                                                    \n",
            "Fetching model.ckpt.data-00000-of-00001: 498Mit [01:02, 8.02Mit/s]                                  \n",
            "Fetching model.ckpt.index: 1.05Mit [00:00, 189Mit/s]                                                \n",
            "Fetching model.ckpt.meta: 1.05Mit [00:00, 1.14Mit/s]\n",
            "Fetching vocab.bpe: 1.05Mit [00:00, 1.14Mit/s]\n",
            "Fetching checkpoint: 1.05Mit [00:00, 217Mit/s]                                                      \n",
            "Fetching encoder.json: 1.05Mit [00:01, 946kit/s]\n",
            "Fetching hparams.json: 1.05Mit [00:00, 287Mit/s]                                                    \n",
            "Fetching model.ckpt.data-00000-of-00001: 1.42Git [05:52, 4.02Mit/s]\n",
            "Fetching model.ckpt.index: 1.05Mit [00:00, 187Mit/s]                                                \n",
            "Fetching model.ckpt.meta: 1.05Mit [00:01, 973kit/s]\n",
            "Fetching vocab.bpe: 1.05Mit [00:00, 1.16Mit/s]\n"
          ],
          "name": "stderr"
        }
      ]
    },
    {
      "cell_type": "code",
      "metadata": {
        "id": "gUSMnpAiWeFL"
      },
      "source": [
        "#  copy models to google drive if you want\n",
        "!cp -r /content/models /content/drive/MyDrive "
      ],
      "execution_count": null,
      "outputs": []
    },
    {
      "cell_type": "code",
      "metadata": {
        "id": "i0FPqyGMoezw"
      },
      "source": [
        "# load dataset\n",
        "file_name = \"HarryPotter.txt\"\n",
        "if not os.path.isfile(file_name):\n",
        "\turl = \"https://raw.githubusercontent.com/YanWang20121865/MSc2021YanWang/main/Second%20update/Dataset/HarryPotter.txt\"\n",
        "\tdata = requests.get(url)\n",
        "\t\n",
        "\twith open(file_name, 'w') as f:\n",
        "\t\tf.write(data.text)"
      ],
      "execution_count": 5,
      "outputs": []
    },
    {
      "cell_type": "code",
      "metadata": {
        "id": "fjmuAW7b4Lwk"
      },
      "source": [
        "!export PYTHONIOENCODING=UTF-8"
      ],
      "execution_count": 6,
      "outputs": []
    },
    {
      "cell_type": "code",
      "metadata": {
        "id": "T2wMZYJrij2A"
      },
      "source": [
        "# load checkpoint to google drive if in need( if you want to restart training from existed checkpoint)\n",
        "!cp -r /content/drive/MyDrive/checkpoint/ /content/checkpoint/"
      ],
      "execution_count": 7,
      "outputs": []
    },
    {
      "cell_type": "code",
      "metadata": {
        "id": "bszlok5-3ZW3"
      },
      "source": [
        "sess = gpt2.start_tf_sess()\n",
        "\n",
        "gpt2.finetune(sess,\n",
        "              dataset=file_name,\n",
        "              model_name='124M',\n",
        "              steps=1500,\n",
        "              #Set to fresh to start training from the base GPT-2, or set to latest to restart training from an existing checkpoint.\n",
        "              restore_from='latest',   \n",
        "              run_name='run_124_HarryPotter',\n",
        "              print_every=10,\n",
        "              sample_every=200,\n",
        "              save_every=500,\n",
        "              \n",
        "              )"
      ],
      "execution_count": null,
      "outputs": []
    },
    {
      "cell_type": "code",
      "metadata": {
        "id": "LiSiwgGC7Yhv"
      },
      "source": [
        "# save checkpoint to google drive\n",
        "!cp -r /content/checkpoint/ /content/drive/MyDrive"
      ],
      "execution_count": 9,
      "outputs": []
    },
    {
      "cell_type": "code",
      "metadata": {
        "id": "eHxe-FtT7xc5",
        "colab": {
          "base_uri": "https://localhost:8080/"
        },
        "outputId": "4b6c531f-f763-4eab-d2bc-62ffc6a3ed32"
      },
      "source": [
        "# load the model we trained\n",
        "sess = gpt2.start_tf_sess()\n",
        "gpt2.load_gpt2(sess, run_name='run_124_HarryPotter')"
      ],
      "execution_count": 8,
      "outputs": [
        {
          "output_type": "stream",
          "text": [
            "Loading checkpoint checkpoint/run_124_HarryPotter/model-1627\n",
            "INFO:tensorflow:Restoring parameters from checkpoint/run_124_HarryPotter/model-1627\n"
          ],
          "name": "stdout"
        }
      ]
    },
    {
      "cell_type": "code",
      "metadata": {
        "id": "hhu2NN3O8C2J"
      },
      "source": [
        "# generate txt files to save stories\n",
        "gen_file = 'gpt2_gentext_{:%Y%m%d_%H%M%S}.txt'.format(datetime.utcnow())\n",
        "\n",
        "gpt2.generate_to_file(sess,\n",
        "                      run_name='run_124_HarryPotter',\n",
        "                      destination_path=gen_file,\n",
        "                      length=500,\n",
        "                      temperature=0.7,\n",
        "                      nsamples=100,\n",
        "                      batch_size=20\n",
        "                      )"
      ],
      "execution_count": 11,
      "outputs": []
    },
    {
      "cell_type": "code",
      "metadata": {
        "id": "H5B1l7Zn2mIK"
      },
      "source": [
        ""
      ],
      "execution_count": null,
      "outputs": []
    }
  ]
}