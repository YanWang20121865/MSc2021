{
  "nbformat": 4,
  "nbformat_minor": 0,
  "metadata": {
    "colab": {
      "name": "PushShift.ipynb",
      "provenance": [],
      "collapsed_sections": []
    },
    "kernelspec": {
      "name": "python3",
      "display_name": "Python 3"
    },
    "language_info": {
      "name": "python"
    }
  },
  "cells": [
    {
      "cell_type": "code",
      "metadata": {
        "id": "t4l39mOoko8R"
      },
      "source": [
        "!pip install psaw\n",
        "!pip install praw"
      ],
      "execution_count": null,
      "outputs": []
    },
    {
      "cell_type": "code",
      "metadata": {
        "colab": {
          "base_uri": "https://localhost:8080/"
        },
        "id": "ZmQsWqEvjh94",
        "outputId": "ae0cc4cf-fa48-4fec-e972-4e268922efd1"
      },
      "source": [
        "from google.colab import drive\n",
        "drive.mount('/content/drive')"
      ],
      "execution_count": 2,
      "outputs": [
        {
          "output_type": "stream",
          "text": [
            "Mounted at /content/drive\n"
          ],
          "name": "stdout"
        }
      ]
    },
    {
      "cell_type": "code",
      "metadata": {
        "colab": {
          "base_uri": "https://localhost:8080/"
        },
        "id": "JO-g2r2qVQf3",
        "outputId": "34e31df5-a2d3-4537-8ffc-c81c478d7f34"
      },
      "source": [
        "import praw\n",
        "from psaw import PushshiftAPI\n",
        "\n",
        "# use pushshift search to fetch ids and then use praw to fetch objects\n",
        "r = praw.Reddit(\n",
        "    client_id=\"sEEQ89V0_QyQVA\",\n",
        "    client_secret=\"oTCBxch6MHFbyoEuUXLhxSVeNErDjg\",\n",
        "    username = \"YanWang20121865\",\n",
        "    password = \"6666Rock233.\",\n",
        "    user_agent=\"testscript\",\n",
        "    )\n",
        "\n",
        "# verify that you are authenticated as the correct user run\n",
        "print(r.user.me())\n",
        "api = PushshiftAPI(r)\n"
      ],
      "execution_count": 26,
      "outputs": [
        {
          "output_type": "stream",
          "text": [
            "It appears that you are using PRAW in an asynchronous environment.\n",
            "It is strongly recommended to use Async PRAW: https://asyncpraw.readthedocs.io.\n",
            "See https://praw.readthedocs.io/en/latest/getting_started/multiple_instances.html#discord-bots-and-asynchronous-environments for more info.\n",
            "\n"
          ],
          "name": "stderr"
        },
        {
          "output_type": "stream",
          "text": [
            "YanWang20121865\n"
          ],
          "name": "stdout"
        }
      ]
    },
    {
      "cell_type": "code",
      "metadata": {
        "id": "sn7er4T4VQvH"
      },
      "source": [
        "# get all submissions whose score are over 1000 in 'WritingPrompts' subreddit. No limit on post request now \n",
        "submissions = api.search_submissions(\n",
        "              subreddit='WritingPrompts',\n",
        "              score = \">1000\"                           \n",
        "                      )\n",
        "print(submissions)\n",
        "\n",
        "# save posts in a new file\n",
        "f = open('dataset_score_over1000.txt','a')\n",
        "i = 0\n",
        "for submission in submissions:\n",
        "  i += 1\n",
        "  print(\"Post{}:{},\\nScore:{}\".format(i,submission.title,submission.score))\n",
        "  comments = submission.comments\n",
        "  submission.comments.replace_more(limit=None)  # This submission’s comment forest contains a number of MoreComments objects. need a replace_more function, or it will return errors.\n",
        "  for comment in comments:\n",
        "    f.write(comment.body)\n",
        "    f.write('\\n')\n",
        "f.close()"
      ],
      "execution_count": null,
      "outputs": []
    },
    {
      "cell_type": "code",
      "metadata": {
        "id": "Aj7w-IGRVQ6v"
      },
      "source": [
        "# move the file to your google drive and save it. \n",
        "!cp -r  /content/dataset_scores_over1000.txt /content/drive/MyDrive/Dataset/"
      ],
      "execution_count": 5,
      "outputs": []
    }
  ]
}