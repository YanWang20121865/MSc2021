{
  "nbformat": 4,
  "nbformat_minor": 0,
  "metadata": {
    "colab": {
      "name": "PRAW.ipynb",
      "provenance": [],
      "collapsed_sections": []
    },
    "kernelspec": {
      "name": "python3",
      "display_name": "Python 3"
    },
    "language_info": {
      "name": "python"
    }
  },
  "cells": [
    {
      "cell_type": "code",
      "metadata": {
        "id": "MKhaCGciEAEY"
      },
      "source": [
        "!pip install praw"
      ],
      "execution_count": null,
      "outputs": []
    },
    {
      "cell_type": "code",
      "metadata": {
        "id": "gdcUABbSENHl"
      },
      "source": [
        "import praw\n",
        "import pandas as pd\n",
        "import datetime as dt\n"
      ],
      "execution_count": null,
      "outputs": []
    },
    {
      "cell_type": "code",
      "metadata": {
        "colab": {
          "base_uri": "https://localhost:8080/"
        },
        "id": "YFd6lzfO6hiA",
        "outputId": "a2e38173-c87e-4d3a-aa9a-0083bc5daca6"
      },
      "source": [
        "from google.colab import drive\n",
        "drive.mount('/content/drive')"
      ],
      "execution_count": null,
      "outputs": [
        {
          "output_type": "stream",
          "text": [
            "Mounted at /content/drive\n"
          ],
          "name": "stdout"
        }
      ]
    },
    {
      "cell_type": "code",
      "metadata": {
        "id": "3y-CZKTfG82V",
        "colab": {
          "base_uri": "https://localhost:8080/"
        },
        "outputId": "879118cc-ba46-4447-d052-645f6ea50a82"
      },
      "source": [
        "\n",
        "# Authorized Reddit \n",
        "reddit = praw.Reddit(\n",
        "    client_id=\"sEEQ89V0_QyQVA\",\n",
        "    client_secret=\"oTCBxch6MHFbyoEuUXLhxSVeNErDjg\",\n",
        "    username = \"YanWang20121865\",\n",
        "    password = \"6666Rock233.\",\n",
        "    user_agent=\"testscript\",\n",
        ")\n",
        "\n",
        "# verify that you are authenticated as the correct user run\n",
        "print(reddit.user.me())"
      ],
      "execution_count": null,
      "outputs": [
        {
          "output_type": "stream",
          "text": [
            "It appears that you are using PRAW in an asynchronous environment.\n",
            "It is strongly recommended to use Async PRAW: https://asyncpraw.readthedocs.io.\n",
            "See https://praw.readthedocs.io/en/latest/getting_started/multiple_instances.html#discord-bots-and-asynchronous-environments for more info.\n",
            "\n"
          ],
          "name": "stderr"
        },
        {
          "output_type": "stream",
          "text": [
            "YanWang20121865\n"
          ],
          "name": "stdout"
        }
      ]
    },
    {
      "cell_type": "code",
      "metadata": {
        "id": "Sx-pAORKEPJc"
      },
      "source": [
        "# get subreddit\n",
        "subreddit = reddit.subreddit(\"WritingPrompts\")\n",
        "top_subreddit = subreddit.top(limit=2000)   #actually the upper limit is 1000, even here I set it 2000\n",
        "f = open('dataset_top1000.txt','a') #create a txt file to collect data\n",
        "i = 0\n",
        "for submission in top_subreddit:\n",
        "  i += 1\n",
        "  print(\"Post{}:{},\\nScore:{}\".format(i,submission.title,submission.score)\n",
        "    )\n",
        "  submission.comments.replace_more(limit=None)    # This submission’s comment forest contains a number of MoreComments objects. need a replace_more function, or it will return errors.\n",
        "  for comment in submission.comments:\n",
        "    f.write(comment.body)\n",
        "    f.write('\\n')\n",
        "\n",
        "f.close()  "
      ],
      "execution_count": null,
      "outputs": []
    },
    {
      "cell_type": "code",
      "metadata": {
        "id": "GE_sFgX9l3b_"
      },
      "source": [
        "# move the file to your google drive and save it. \n",
        "!cp -r /content/dataset_top1000.txt /content/drive/MyDrive/Dataset/"
      ],
      "execution_count": null,
      "outputs": []
    }
  ]
}